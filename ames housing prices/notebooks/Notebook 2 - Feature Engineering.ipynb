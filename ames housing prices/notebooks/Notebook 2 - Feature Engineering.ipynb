{
 "cells": [
  {
   "cell_type": "markdown",
   "id": "be6802a0",
   "metadata": {},
   "source": [
    "# Feature Engineering\n",
    "\n",
    "These techniques are adapted from the ones covered in the [Feature Engineering](https://www.kaggle.com/learn/feature-engineering) course on Kaggle."
   ]
  },
  {
   "cell_type": "code",
   "execution_count": 1,
   "id": "053251f8",
   "metadata": {},
   "outputs": [],
   "source": [
    "# Global variables for testing changes to this notebook quickly\n",
    "FOLD_SEED = 0\n",
    "NUM_FOLDS = 3\n",
    "EARLY_STOP = 50\n",
    "TRIALS = 100"
   ]
  },
  {
   "cell_type": "code",
   "execution_count": 2,
   "id": "dfef0bde",
   "metadata": {},
   "outputs": [],
   "source": [
    "# Essentials\n",
    "import os\n",
    "import warnings\n",
    "import numpy as np\n",
    "import pandas as pd\n",
    "import time\n",
    "\n",
    "# Preprocessing\n",
    "from sklearn.preprocessing import StandardScaler, KBinsDiscretizer\n",
    "from sklearn.feature_selection import mutual_info_regression\n",
    "from sklearn.metrics import mean_absolute_error\n",
    "from sklearn.model_selection import StratifiedKFold, KFold\n",
    "from functools import partial \n",
    "from sklearn.impute import SimpleImputer, KNNImputer\n",
    "from category_encoders import OrdinalEncoder, OneHotEncoder\n",
    "\n",
    "# Feature Engineering\n",
    "from sklearn.preprocessing import StandardScaler\n",
    "from sklearn.cluster import KMeans\n",
    "from sklearn.decomposition import PCA\n",
    "from category_encoders import MEstimateEncoder\n",
    "\n",
    "# Models\n",
    "from xgboost import XGBRegressor\n",
    "from lightgbm import LGBMRegressor\n",
    "from catboost import CatBoostRegressor\n",
    "\n",
    "# Hyperparameter Tuning\n",
    "import optuna\n",
    "from optuna.samplers import GridSampler\n",
    "from optuna.visualization import plot_parallel_coordinate\n",
    "\n",
    "# Mute warnings\n",
    "warnings.filterwarnings('ignore')"
   ]
  },
  {
   "cell_type": "markdown",
   "id": "58d035a6",
   "metadata": {},
   "source": [
    "# Create Folds and Preprocessing"
   ]
  },
  {
   "cell_type": "code",
   "execution_count": 3,
   "id": "96978af1",
   "metadata": {},
   "outputs": [],
   "source": [
    "# Load the training data\n",
    "train = pd.read_csv(\"../data/train.csv\")\n",
    "test = pd.read_csv(\"../data/test.csv\")\n",
    "\n",
    "# Remove rows with missing target\n",
    "train.dropna(axis=0, subset=['SalePrice'], inplace=True)\n",
    "\n",
    "# Clean data, static transformations\n",
    "def clean_data(*data):\n",
    "    for df in data:\n",
    "        # fix typos to match documentation\n",
    "        df['MSZoning'] =  df['MSZoning'].replace({'C (all)': 'C'})\n",
    "        df[\"Exterior2nd\"] = df[\"Exterior2nd\"].replace({\"Brk Cmn\":\"BrkComm\",\"Wd Shng\": \"WdShing\"})\n",
    "        df['Neighborhood'] = df['Neighborhood'].replace({'NAmes':'Names'})\n",
    "\n",
    "        # Some values of GarageYrBlt are corrupt, replace them with YearBuilt\n",
    "        df[\"GarageYrBlt\"] = df[\"GarageYrBlt\"].where(df.GarageYrBlt <= 2010, df.YearBuilt)\n",
    "        \n",
    "        # optional feature: A - agriculture, C - commercial, R - residential, I - industrial\n",
    "        df[\"MSClass\"] = df['MSZoning'].map({'A': 'A','C': 'C',\"FV\": 'R','I': 'I',\n",
    "                                            \"RH\": 'R',\"RL\": 'R',\"RP\": 'R',\"RM\": 'R', np.nan:np.nan})\n",
    "    return data\n",
    "    \n",
    "train, test = clean_data(train, test)\n",
    "\n",
    "# List of categorical/numerical columns\n",
    "columns = [col for col in test.columns if col not in [\"Id\",\"MSClass\"]]\n",
    "object_cols = [col for col in columns if train[col].dtype == \"object\"]\n",
    "number_cols = [col for col in columns if train[col].dtype != \"object\"]\n",
    "\n",
    "# Define bins\n",
    "binner = KBinsDiscretizer(n_bins = 45, encode = 'ordinal', strategy = 'uniform')\n",
    "y_bins = binner.fit_transform(pd.DataFrame(data=train['SalePrice']))\n",
    "\n",
    "# Define folds\n",
    "train[\"kfold\"] = -1\n",
    "kf = StratifiedKFold(NUM_FOLDS, shuffle = True, random_state = FOLD_SEED) \n",
    "for fold, (train_idx, valid_idx) in enumerate(kf.split(train, y_bins)):\n",
    "    train.loc[valid_idx,\"kfold\"] = fold"
   ]
  },
  {
   "cell_type": "code",
   "execution_count": 4,
   "id": "caad2647",
   "metadata": {},
   "outputs": [],
   "source": [
    "def preprocessing(X_train, X_valid, X_test):\n",
    "    \n",
    "    # 1. impute numerical data\n",
    "    columns = [col for col in X_train.columns if X_train[col].dtype != \"object\"]\n",
    "    if columns:\n",
    "        imputer = SimpleImputer(strategy='mean')\n",
    "        X_train[columns] = imputer.fit_transform(X_train[columns])\n",
    "        X_valid[columns] = imputer.transform(X_valid[columns])\n",
    "        X_test[columns] = imputer.transform(X_test[columns])\n",
    "    \n",
    "    # 2. impute categorical data\n",
    "    columns = [col for col in X_train.columns if X_train[col].dtype == \"object\"]\n",
    "    if columns:\n",
    "        imputer = SimpleImputer(strategy='constant', fill_value = 'None')\n",
    "        X_train[columns] = imputer.fit_transform(X_train[columns])\n",
    "        X_valid[columns] = imputer.transform(X_valid[columns])\n",
    "        X_test[columns] = imputer.transform(X_test[columns])\n",
    "    \n",
    "    # 3. encode 1-10 ratings\n",
    "    cols = [\"OverallQual\",\"OverallCond\"]\n",
    "    cols = [x for x in cols if x in X_train.columns]\n",
    "    ratings = {float(a):b for b,a in enumerate(range(1,11))}\n",
    "    mapping = [{'col':x, 'mapping': ratings} for x in cols]\n",
    "    \n",
    "    encoder = OrdinalEncoder(cols = cols, mapping = mapping)\n",
    "    X_train = encoder.fit_transform(X_train)\n",
    "    X_valid = encoder.transform(X_valid)\n",
    "    X_test = encoder.transform(X_test)\n",
    "    \n",
    "    # 4. encode Poor, Fair, Avg, Good, Ex ratings\n",
    "    cols = [\"ExterQual\",\"ExterCond\",\"BsmtQual\",\"BsmtCond\",\"HeatingQC\", \"KitchenQual\",\"FireplaceQu\",\"GarageQual\",\"GarageCond\",'PoolQC']\n",
    "    cols = [x for x in cols if x in X_train.columns]\n",
    "    ratings = {\"Po\":0, \"Fa\":1, \"TA\":2, \"Gd\":3, \"Ex\":4}\n",
    "    mapping = [{'col':x, 'mapping': ratings} for x in cols]\n",
    "    \n",
    "    encoder = OrdinalEncoder(cols = cols, mapping = mapping)\n",
    "    X_train = encoder.fit_transform(X_train)\n",
    "    X_valid = encoder.transform(X_valid)\n",
    "    X_test = encoder.transform(X_test)\n",
    "    \n",
    "    # 5. encode remaining ordinal data\n",
    "    cols = [\"LotShape\",\"LandSlope\",\"BsmtExposure\",\"BsmtFinType1\",\"BsmtFinType2\",\n",
    "    \"Functional\",\"GarageFinish\",\"PavedDrive\",\"Utilities\",\"CentralAir\",\"Electrical\",\n",
    "    \"Fence\"]\n",
    "    cols = [x for x in cols if x in X_train.columns]\n",
    "    mapping = [{'col':\"LotShape\",\n",
    "                'mapping': {\"Reg\":0, \"IR1\":1, \"IR2\":2, \"IR3\":3}},\n",
    "               {'col':\"LandSlope\",\n",
    "                'mapping': {\"Sev\":0, \"Mod\":1, \"Gtl\":2}},\n",
    "               {'col':\"BsmtExposure\",\n",
    "                'mapping': {\"No\":0, \"Mn\":1, \"Av\":2, \"Gd\":3}},\n",
    "               {'col':\"BsmtFinType1\",\n",
    "                'mapping': {\"Unf\":0, \"LwQ\":1, \"Rec\":2, \"BLQ\":3, \"ALQ\":4, \"GLQ\":5}},\n",
    "               {'col':\"BsmtFinType2\",\n",
    "                'mapping': {\"Unf\":0, \"LwQ\":1, \"Rec\":2, \"BLQ\":3, \"ALQ\":4, \"GLQ\":5}},\n",
    "               {'col':\"Functional\",\n",
    "                'mapping': {\"Sal\":0, \"Sev\":1, \"Maj1\":2, \"Maj2\":3, \"Mod\":4, \"Min2\":5, \"Min1\":6, \"Typ\":7}},\n",
    "               {'col':\"GarageFinish\",\n",
    "                'mapping': {\"Unf\":0, \"RFn\":1, \"Fin\":2}},\n",
    "               {'col':\"PavedDrive\",\n",
    "                'mapping': {\"N\":0, \"P\":1, \"Y\":2}},\n",
    "               {'col':\"Utilities\",\n",
    "                'mapping': {\"NoSeWa\":0, \"NoSewr\":1, \"AllPub\":2}},\n",
    "               {'col':\"CentralAir\",\n",
    "                'mapping': {\"N\":0, \"Y\":1}},\n",
    "               {'col':\"Electrical\",\n",
    "                'mapping': {\"Mix\":0, \"FuseP\":1, \"FuseF\":2, \"FuseA\":3, \"SBrkr\":4}},\n",
    "               {'col':\"Fence\",\n",
    "                'mapping': {\"MnWw\":0, \"GdWo\":1, \"MnPrv\":2, \"GdPrv\":3}}]\n",
    "    mapping = [x for x in mapping if x['col'] in X_train.columns]\n",
    "    \n",
    "    encoder = OrdinalEncoder(cols = cols, mapping = mapping)\n",
    "    X_train = encoder.fit_transform(X_train)\n",
    "    X_valid = encoder.transform(X_valid)\n",
    "    X_test = encoder.transform(X_test)\n",
    "    \n",
    "    # Determine cardinality of remaining categorical data\n",
    "    columns = [col for col in X_train.columns if X_train[col].dtype == 'object']\n",
    "    high_cols = [col for col in columns if X_train[col].nunique() >= 10]\n",
    "    low_cols = [col for col in columns if X_train[col].nunique() < 10]\n",
    "    \n",
    "    # 6. ordinal encode high cardinality data\n",
    "    if high_cols:\n",
    "        encoder = OrdinalEncoder(cols = high_cols)\n",
    "        X_train = encoder.fit_transform(X_train)\n",
    "        X_valid = encoder.transform(X_valid)\n",
    "        X_test = encoder.transform(X_test)\n",
    "    \n",
    "    # 7. one-hot encode low cardinality data\n",
    "    if low_cols:\n",
    "        encoder = OneHotEncoder(cols = low_cols, use_cat_names = True)\n",
    "        X_train = encoder.fit_transform(X_train)\n",
    "        X_valid = encoder.transform(X_valid)\n",
    "        X_test = encoder.transform(X_test)\n",
    "        \n",
    "    return X_train, X_valid, X_test"
   ]
  },
  {
   "cell_type": "markdown",
   "id": "357ccc3d",
   "metadata": {},
   "source": [
    "# Scoring Functions"
   ]
  },
  {
   "cell_type": "code",
   "execution_count": 5,
   "id": "22a775e0",
   "metadata": {},
   "outputs": [],
   "source": [
    "def score_xgboost(transforms = [preprocessing], params = {}, cols = columns, verbose = True):\n",
    "    start = time.time()\n",
    "    \n",
    "    X = train.copy()\n",
    "    scores = np.zeros(NUM_FOLDS)\n",
    "    \n",
    "    for i in range(NUM_FOLDS):\n",
    "        X_train = X[X.kfold != i][cols].reset_index(drop=True)\n",
    "        X_valid = X[X.kfold == i][cols].reset_index(drop=True)\n",
    "        y_train = X[X.kfold != i]['SalePrice'].reset_index(drop=True)\n",
    "        y_valid = X[X.kfold == i]['SalePrice'].reset_index(drop=True)\n",
    "        X_test = test[cols].copy()\n",
    "        \n",
    "        # loop for applying the transformations\n",
    "        for transform in transforms:\n",
    "            try:\n",
    "                X_train, X_valid, X_test = transform(X_train, X_valid, X_test, y_train = y_train)\n",
    "            except:\n",
    "                X_train, X_valid, X_test = transform(X_train, X_valid, X_test)\n",
    "        \n",
    "        model = XGBRegressor(**{**{'random_state':0, 'n_estimators': 3000},**params})\n",
    "        model.fit(X_train, y_train,\n",
    "                  verbose = False,\n",
    "                  eval_set = [(X_valid, y_valid)],\n",
    "                  eval_metric = \"mae\",\n",
    "                  early_stopping_rounds = EARLY_STOP)\n",
    "\n",
    "        preds = model.predict(X_valid)\n",
    "        scores[i] = mean_absolute_error(y_valid, preds)\n",
    "    end = time.time()\n",
    "    if verbose:\n",
    "        print(\"XGBoost  (3-fold Avg):\", \n",
    "              round(scores.mean(), 4))\n",
    "        print(\"XGBoost  (3-fold Max):\", \n",
    "              round(scores.max(), 4), \"\\t\",\n",
    "              str(round(end-start, 3))+\"s\")\n",
    "\n",
    "    return round(scores.mean(), 4), round(scores.max(), 4)"
   ]
  },
  {
   "cell_type": "code",
   "execution_count": 6,
   "id": "18212808",
   "metadata": {},
   "outputs": [],
   "source": [
    "def score_lightgbm(transforms = [preprocessing], params = {}, cols = columns, verbose = True):\n",
    "    start = time.time()\n",
    "    \n",
    "    X = train.copy()\n",
    "    scores = np.zeros(NUM_FOLDS)\n",
    "    \n",
    "    for i in range(NUM_FOLDS):\n",
    "        X_train = X[X.kfold != i][cols].reset_index(drop=True)\n",
    "        X_valid = X[X.kfold == i][cols].reset_index(drop=True)\n",
    "        y_train = X[X.kfold != i]['SalePrice'].reset_index(drop=True)\n",
    "        y_valid = X[X.kfold == i]['SalePrice'].reset_index(drop=True)\n",
    "        X_test = test[cols].copy()\n",
    "        \n",
    "        for transform in transforms:\n",
    "            try:\n",
    "                X_train, X_valid, X_test = transform(X_train, X_valid, X_test, y_train = y_train)\n",
    "            except:\n",
    "                X_train, X_valid, X_test = transform(X_train, X_valid, X_test)\n",
    "                \n",
    "        cat_cols = [x for x in X_train.columns if x in object_cols]\n",
    "                \n",
    "        model = LGBMRegressor(**{**{'random_state':0, 'n_estimators': 3000},**params})\n",
    "        model.fit(X_train, y_train,\n",
    "                  verbose = False,\n",
    "                  eval_set = [(X_valid, y_valid)],\n",
    "                  eval_metric = \"mae\",\n",
    "                  categorical_feature = cat_cols,\n",
    "                  early_stopping_rounds = EARLY_STOP)\n",
    "\n",
    "        valid_preds = model.predict(X_valid)\n",
    "        scores[i] = mean_absolute_error(y_valid, valid_preds)\n",
    "    end = time.time()\n",
    "    if verbose:\n",
    "        print(\"LightGBM (3-fold Avg):\", \n",
    "              round(scores.mean(), 4))\n",
    "        print(\"LightGBM (3-fold Max):\", \n",
    "              round(scores.max(), 4), \"\\t\",\n",
    "              str(round(end-start, 3))+\"s\")\n",
    "\n",
    "    return round(scores.mean(), 4), round(scores.max(), 4)"
   ]
  },
  {
   "cell_type": "code",
   "execution_count": 7,
   "id": "66f58755",
   "metadata": {},
   "outputs": [],
   "source": [
    "def score_catboost(transforms = [preprocessing], params = {}, cols = columns, verbose = True):\n",
    "    start = time.time()\n",
    "    \n",
    "    X = train.copy()\n",
    "    scores = np.zeros(NUM_FOLDS)\n",
    "    \n",
    "    for i in range(NUM_FOLDS):\n",
    "        X_train = X[X.kfold != i][cols].reset_index(drop=True)\n",
    "        X_valid = X[X.kfold == i][cols].reset_index(drop=True)\n",
    "        y_train = X[X.kfold != i]['SalePrice'].reset_index(drop=True)\n",
    "        y_valid = X[X.kfold == i]['SalePrice'].reset_index(drop=True)\n",
    "        X_test = test[cols].copy()\n",
    "        \n",
    "        # loop for applying the transformations\n",
    "        for transform in transforms:\n",
    "            try:\n",
    "                X_train, X_valid, X_test = transform(X_train, X_valid, X_test, y_train = y_train)\n",
    "            except:\n",
    "                X_train, X_valid, X_test = transform(X_train, X_valid, X_test)\n",
    "        \n",
    "        model = CatBoostRegressor(**{**{'random_state':0, \n",
    "                                        'n_estimators': 3000,\n",
    "                                        'eval_metric':\"MAE\",\n",
    "                                        'early_stopping_rounds': EARLY_STOP,\n",
    "                                        'verbose': False}, **params})\n",
    "        model.fit(X_train, y_train,\n",
    "                  eval_set = (X_valid, y_valid),\n",
    "                  use_best_model=True)\n",
    "\n",
    "        valid_preds = model.predict(X_valid)\n",
    "        scores[i] = mean_absolute_error(y_valid, valid_preds)\n",
    "    end = time.time()\n",
    "    if verbose:\n",
    "        print(\"CatBoost (3-fold Avg):\", \n",
    "              round(scores.mean(), 4))\n",
    "        print(\"CatBoost (3-fold Max):\", \n",
    "              round(scores.max(), 4), \"\\t\",\n",
    "              str(round(end-start, 3))+\"s\")\n",
    "\n",
    "    return round(scores.mean(), 4), round(scores.max(), 4)"
   ]
  },
  {
   "cell_type": "code",
   "execution_count": 8,
   "id": "fb758c57",
   "metadata": {},
   "outputs": [
    {
     "name": "stdout",
     "output_type": "stream",
     "text": [
      "\n",
      "Baseline\n",
      "\n",
      "XGBoost  (3-fold Avg): 17818.5785\n",
      "XGBoost  (3-fold Max): 18420.5786 \t 2.004s\n",
      "LightGBM (3-fold Avg): 16481.3275\n",
      "LightGBM (3-fold Max): 17172.4876 \t 1.665s\n",
      "CatBoost (3-fold Avg): 15152.8277\n",
      "CatBoost (3-fold Max): 16049.8435 \t 12.3s\n",
      "\n",
      "Overall (Avg):         16484.2446\n",
      "Overall (Max):         17818.5785\n"
     ]
    }
   ],
   "source": [
    "def get_baseline():\n",
    "    \n",
    "    print(\"\\nBaseline\\n\")\n",
    "    xgb_avg, xgb_max = score_xgboost()\n",
    "    lgbm_avg, lgbm_max = score_lightgbm()\n",
    "    cat_avg, cat_max = score_catboost()\n",
    "    print(\"\\nOverall (Avg):\".ljust(23), round(np.mean([xgb_avg, lgbm_avg, cat_avg]), 4))\n",
    "    print(\"Overall (Max):\".ljust(22),round(np.max([xgb_avg, lgbm_avg, cat_avg]), 4))\n",
    "    \n",
    "    return round(np.mean([xgb_avg, lgbm_avg, cat_avg]), 4), round(np.max([xgb_avg, lgbm_avg, cat_avg]), 4)\n",
    "    \n",
    "BASELINE_AVG, BASELINE_MAX = get_baseline()"
   ]
  },
  {
   "cell_type": "markdown",
   "id": "a9744a1d",
   "metadata": {},
   "source": [
    "# Mutual Information"
   ]
  },
  {
   "cell_type": "code",
   "execution_count": 9,
   "id": "8e7454d1",
   "metadata": {},
   "outputs": [
    {
     "name": "stdout",
     "output_type": "stream",
     "text": [
      "\n",
      "Baseline\n",
      "\n",
      "Overall (Avg):         16484.2446\n",
      "Overall (Max):         17818.5785\n",
      "\n",
      "Drop Uninformative\n",
      "\n",
      "XGBoost  (3-fold Avg): 17908.9726\n",
      "XGBoost  (3-fold Max): 18301.5848 \t 4.426s\n",
      "LightGBM (3-fold Avg): 16625.3983\n",
      "LightGBM (3-fold Max): 17315.2156 \t 3.986s\n",
      "CatBoost (3-fold Avg): 15054.8003\n",
      "CatBoost (3-fold Max): 15586.0086 \t 16.549s\n",
      "\n",
      "Overall (Avg):         16529.7237\n",
      "Overall (Max):         17908.9726\n"
     ]
    }
   ],
   "source": [
    "def remove_uninformative(X_train, X_valid, X_test, y_train, verbose = False):\n",
    "    \n",
    "    # 1. Determine uninformative columns\n",
    "    scores =  mutual_info_regression(X_train, y_train)\n",
    "    cols = [x for i, x in enumerate(X_train.columns) if scores[i] == 0]\n",
    "    \n",
    "    # 2. Drop the uninformative columns\n",
    "    X_train.drop(cols, axis = 1, inplace = True)\n",
    "    X_valid.drop(cols, axis = 1, inplace = True)\n",
    "    X_test.drop(cols, axis = 1, inplace = True)\n",
    "    \n",
    "    if verbose:\n",
    "        print(\"Dropped columns:\", *cols)\n",
    "    \n",
    "    return X_train, X_valid, X_test\n",
    "\n",
    "def test_uninformative():\n",
    "    \n",
    "    print(\"\\nBaseline\\n\")\n",
    "    print(\"Overall (Avg):\".ljust(22), BASELINE_AVG)\n",
    "    print(\"Overall (Max):\".ljust(22), BASELINE_MAX)\n",
    "    \n",
    "    print(\"\\nDrop Uninformative\\n\")\n",
    "    transforms = [preprocessing, remove_uninformative]\n",
    "    xgb_avg, xgb_max = score_xgboost(transforms)\n",
    "    lgbm_avg, lgbm_max = score_lightgbm(transforms)\n",
    "    cat_avg, cat_max = score_catboost(transforms)\n",
    "    print(\"\\nOverall (Avg):\".ljust(23), round(np.mean([xgb_avg, lgbm_avg, cat_avg]), 4))\n",
    "    print(\"Overall (Max):\".ljust(22),round(np.max([xgb_avg, lgbm_avg, cat_avg]), 4))\n",
    "    \n",
    "test_uninformative()"
   ]
  },
  {
   "cell_type": "markdown",
   "id": "8175e977",
   "metadata": {},
   "source": [
    "# Mathematical Transformations"
   ]
  },
  {
   "cell_type": "code",
   "execution_count": 10,
   "id": "5e7513a9",
   "metadata": {},
   "outputs": [
    {
     "name": "stdout",
     "output_type": "stream",
     "text": [
      "\n",
      "Baseline\n",
      "\n",
      "Overall (Avg):         16484.2446\n",
      "Overall (Max):         17818.5785\n",
      "\n",
      "Mathematical Transformations\n",
      "\n",
      "XGBoost  (3-fold Avg): 17238.8075\n",
      "XGBoost  (3-fold Max): 17584.7709 \t 1.975s\n",
      "LightGBM (3-fold Avg): 16471.4805\n",
      "LightGBM (3-fold Max): 17043.6677 \t 1.793s\n",
      "CatBoost (3-fold Avg): 14850.5287\n",
      "CatBoost (3-fold Max): 15603.5834 \t 12.814s\n",
      "\n",
      "Overall (Avg):         16186.9389\n",
      "Overall (Max):         17238.8075\n"
     ]
    }
   ],
   "source": [
    "def mathematical_transformations(X_train, X_valid, X_test):\n",
    "    \n",
    "    X_train[\"LivLotRatio\"] = X_train[\"GrLivArea\"] / X_train[\"LotArea\"]\n",
    "    X_valid[\"LivLotRatio\"] = X_valid[\"GrLivArea\"] / X_valid[\"LotArea\"]\n",
    "    X_test[\"LivLotRatio\"] = X_test[\"GrLivArea\"] / X_test[\"LotArea\"]\n",
    "    \n",
    "    X_train[\"Spaciousness\"] = (X_train[\"1stFlrSF\"]+X_train[\"2ndFlrSF\"]) / X_train[\"TotRmsAbvGrd\"]\n",
    "    X_valid[\"Spaciousness\"] = (X_valid[\"1stFlrSF\"]+X_valid[\"2ndFlrSF\"]) / X_valid[\"TotRmsAbvGrd\"]\n",
    "    X_test[\"Spaciousness\"] = (X_test[\"1stFlrSF\"]+X_test[\"2ndFlrSF\"]) / X_test[\"TotRmsAbvGrd\"]\n",
    "    \n",
    "    X_train[\"TotalOutsideSF\"] = X_train[\"WoodDeckSF\"] + X_train[\"OpenPorchSF\"] + X_train[\"EnclosedPorch\"] + X_train[\"3SsnPorch\"] + X_train[\"ScreenPorch\"]\n",
    "    X_valid[\"TotalOutsideSF\"] = X_valid[\"WoodDeckSF\"] + X_valid[\"OpenPorchSF\"] + X_valid[\"EnclosedPorch\"] + X_valid[\"3SsnPorch\"] + X_valid[\"ScreenPorch\"]\n",
    "    X_test[\"TotalOutsideSF\"] = X_test[\"WoodDeckSF\"] + X_test[\"OpenPorchSF\"] + X_test[\"EnclosedPorch\"] + X_test[\"3SsnPorch\"] + X_test[\"ScreenPorch\"]\n",
    "    \n",
    "    X_train['TotalLot'] = X_train['LotFrontage'] + X_train['LotArea']\n",
    "    X_valid['TotalLot'] = X_valid['LotFrontage'] + X_valid['LotArea']\n",
    "    X_test['TotalLot'] = X_test['LotFrontage'] + X_test['LotArea']\n",
    "    \n",
    "    X_train['TotalBsmtFin'] = X_train['BsmtFinSF1'] + X_train['BsmtFinSF2']\n",
    "    X_valid['TotalBsmtFin'] = X_valid['BsmtFinSF1'] + X_valid['BsmtFinSF2']\n",
    "    X_test['TotalBsmtFin'] = X_test['BsmtFinSF1'] + X_test['BsmtFinSF2']\n",
    "    \n",
    "    X_train['TotalSF'] = X_train['TotalBsmtSF'] + X_train['2ndFlrSF'] + X_train['1stFlrSF']\n",
    "    X_valid['TotalSF'] = X_valid['TotalBsmtSF'] + X_valid['2ndFlrSF'] + X_valid['1stFlrSF']\n",
    "    X_test['TotalSF'] = X_test['TotalBsmtSF'] + X_test['2ndFlrSF'] + X_test['1stFlrSF']\n",
    "    \n",
    "    X_train['TotalBath'] = X_train['FullBath'] + X_train['HalfBath'] * 0.5 + X_train['BsmtFullBath'] + X_train['BsmtHalfBath'] * 0.5\n",
    "    X_valid['TotalBath'] = X_valid['FullBath'] + X_valid['HalfBath'] * 0.5 + X_valid['BsmtFullBath'] + X_valid['BsmtHalfBath'] * 0.5\n",
    "    X_test['TotalBath'] = X_test['FullBath'] + X_test['HalfBath'] * 0.5 + X_test['BsmtFullBath'] + X_test['BsmtHalfBath'] * 0.5\n",
    "    \n",
    "    X_train['TotalPorch'] = X_train['OpenPorchSF'] + X_train['EnclosedPorch'] + X_train['ScreenPorch'] + X_train['WoodDeckSF']\n",
    "    X_valid['TotalPorch'] = X_valid['OpenPorchSF'] + X_valid['EnclosedPorch'] + X_valid['ScreenPorch'] + X_valid['WoodDeckSF']\n",
    "    X_test['TotalPorch'] = X_test['OpenPorchSF'] + X_test['EnclosedPorch'] + X_test['ScreenPorch'] + X_test['WoodDeckSF']\n",
    "    \n",
    "    return X_train, X_valid, X_test\n",
    "\n",
    "def test_transformations():\n",
    "    \n",
    "    print(\"\\nBaseline\\n\")\n",
    "    print(\"Overall (Avg):\".ljust(22), BASELINE_AVG)\n",
    "    print(\"Overall (Max):\".ljust(22), BASELINE_MAX)\n",
    "    \n",
    "    print(\"\\nMathematical Transformations\\n\")\n",
    "    transforms = [preprocessing, mathematical_transformations]\n",
    "    xgb_avg, xgb_max = score_xgboost(transforms)\n",
    "    lgbm_avg, lgbm_max = score_lightgbm(transforms)\n",
    "    cat_avg, cat_max = score_catboost(transforms)\n",
    "    print(\"\\nOverall (Avg):\".ljust(23), round(np.mean([xgb_avg, lgbm_avg, cat_avg]), 4))\n",
    "    print(\"Overall (Max):\".ljust(22),round(np.max([xgb_avg, lgbm_avg, cat_avg]), 4))\n",
    "    \n",
    "test_transformations()\n",
    "    "
   ]
  },
  {
   "cell_type": "markdown",
   "id": "90cc7056",
   "metadata": {},
   "source": [
    "# Encoding Interactions"
   ]
  },
  {
   "cell_type": "code",
   "execution_count": 11,
   "id": "ebcfff32",
   "metadata": {},
   "outputs": [
    {
     "name": "stdout",
     "output_type": "stream",
     "text": [
      "\n",
      "Baseline\n",
      "\n",
      "Overall (Avg):         16484.2446\n",
      "Overall (Max):         17818.5785\n",
      "\n",
      "Interaction Term:\n",
      "\n",
      "XGBoost  (3-fold Avg): 18108.8183\n",
      "XGBoost  (3-fold Max): 18803.2203 \t 2.649s\n",
      "LightGBM (3-fold Avg): 16724.7195\n",
      "LightGBM (3-fold Max): 17621.4513 \t 1.755s\n",
      "CatBoost (3-fold Avg): 15163.728\n",
      "CatBoost (3-fold Max): 15694.709 \t 11.808s\n",
      "\n",
      "Overall (Avg):         16665.7553\n",
      "Overall (Max):         18108.8183\n"
     ]
    }
   ],
   "source": [
    "def encode_interaction(X_train, X_valid, X_test, cat_col = \"BldgType\", num_col = \"GrLivArea\"):\n",
    "\n",
    "    X_1 = pd.get_dummies(X_train[cat_col], prefix=cat_col)\n",
    "    X_2 = pd.get_dummies(X_valid[cat_col], prefix=cat_col)\n",
    "    X_3 = pd.get_dummies(X_test[cat_col], prefix=cat_col)\n",
    "        \n",
    "    for col in X_1.columns:\n",
    "        X_train[col+\"_\"+num_col] = X_1[col]*X_train[num_col]\n",
    "        X_valid[col+\"_\"+num_col] = X_2[col]*X_valid[num_col]\n",
    "        X_test[col+\"_\"+num_col] = X_3[col]*X_test[num_col]\n",
    "    \n",
    "    return X_train, X_valid, X_test\n",
    "\n",
    "def test_interaction():\n",
    "    \n",
    "    print(\"\\nBaseline\\n\")\n",
    "    print(\"Overall (Avg):\".ljust(22), BASELINE_AVG)\n",
    "    print(\"Overall (Max):\".ljust(22), BASELINE_MAX)  \n",
    "    \n",
    "    transforms = [encode_interaction, preprocessing]\n",
    "    print(\"\\nInteraction Term:\\n\")\n",
    "    xgb_avg, xgb_max = score_xgboost(transforms)\n",
    "    lgbm_avg, lgbm_max = score_lightgbm(transforms)\n",
    "    cat_avg, cat_max = score_catboost(transforms)\n",
    "    print(\"\\nOverall (Avg):\".ljust(23), round(np.mean([xgb_avg, lgbm_avg, cat_avg]), 4))\n",
    "    print(\"Overall (Max):\".ljust(22),round(np.max([xgb_avg, lgbm_avg, cat_avg]), 4))\n",
    "    \n",
    "test_interaction()"
   ]
  },
  {
   "cell_type": "markdown",
   "id": "d6f51179",
   "metadata": {},
   "source": [
    "# Count Features"
   ]
  },
  {
   "cell_type": "code",
   "execution_count": 12,
   "id": "dac1c761",
   "metadata": {},
   "outputs": [
    {
     "name": "stdout",
     "output_type": "stream",
     "text": [
      "\n",
      "Baseline\n",
      "\n",
      "Overall (Avg):         16484.2446\n",
      "Overall (Max):         17818.5785\n",
      "\n",
      "Count Feature:\n",
      "\n",
      "XGBoost  (3-fold Avg): 17770.3514\n",
      "XGBoost  (3-fold Max): 18389.5722 \t 2.03s\n",
      "LightGBM (3-fold Avg): 16577.4662\n",
      "LightGBM (3-fold Max): 17139.9331 \t 1.609s\n",
      "CatBoost (3-fold Avg): 15150.8127\n",
      "CatBoost (3-fold Max): 15669.522 \t 11.695s\n",
      "\n",
      "Overall (Avg):         16499.5434\n",
      "Overall (Max):         17770.3514\n"
     ]
    }
   ],
   "source": [
    "def count_porch_types(X_train, X_valid, X_test):\n",
    "    \n",
    "    X_train[\"PorchTypes\"] = X_train[[\"WoodDeckSF\",\"OpenPorchSF\",\"EnclosedPorch\",\"3SsnPorch\",\"ScreenPorch\"]].gt(0).sum(axis=1)\n",
    "    X_valid[\"PorchTypes\"] = X_valid[[\"WoodDeckSF\",\"OpenPorchSF\",\"EnclosedPorch\",\"3SsnPorch\",\"ScreenPorch\"]].gt(0).sum(axis=1)\n",
    "    X_test[\"PorchTypes\"] = X_test[[\"WoodDeckSF\",\"OpenPorchSF\",\"EnclosedPorch\",\"3SsnPorch\",\"ScreenPorch\"]].gt(0).sum(axis=1)\n",
    "        \n",
    "    return X_train, X_valid, X_test\n",
    "\n",
    "def test_count_feature():\n",
    "    \n",
    "    print(\"\\nBaseline\\n\")\n",
    "    print(\"Overall (Avg):\".ljust(22), BASELINE_AVG)\n",
    "    print(\"Overall (Max):\".ljust(22), BASELINE_MAX)\n",
    "    \n",
    "    transforms = [preprocessing, count_porch_types]\n",
    "    print(\"\\nCount Feature:\\n\")\n",
    "    xgb_avg, xgb_max = score_xgboost(transforms)\n",
    "    lgbm_avg, lgbm_max = score_lightgbm(transforms)\n",
    "    cat_avg, cat_max = score_catboost(transforms)\n",
    "    print(\"\\nOverall (Avg):\".ljust(23), round(np.mean([xgb_avg, lgbm_avg, cat_avg]), 4))\n",
    "    print(\"Overall (Max):\".ljust(22),round(np.max([xgb_avg, lgbm_avg, cat_avg]), 4))\n",
    "      \n",
    "test_count_feature()"
   ]
  },
  {
   "cell_type": "markdown",
   "id": "111c1400",
   "metadata": {},
   "source": [
    "# Break Down Feature"
   ]
  },
  {
   "cell_type": "code",
   "execution_count": 13,
   "id": "4130b8ed",
   "metadata": {},
   "outputs": [
    {
     "name": "stdout",
     "output_type": "stream",
     "text": [
      "\n",
      "Baseline\n",
      "\n",
      "Overall (Avg):         16484.2446\n",
      "Overall (Max):         17818.5785\n",
      "\n",
      "Break Down:\n",
      "\n",
      "XGBoost  (3-fold Avg): 17818.5785\n",
      "XGBoost  (3-fold Max): 18420.5786 \t 2.098s\n",
      "LightGBM (3-fold Avg): 16481.3275\n",
      "LightGBM (3-fold Max): 17172.4876 \t 1.683s\n",
      "CatBoost (3-fold Avg): 15156.8618\n",
      "CatBoost (3-fold Max): 15920.7323 \t 12.108s\n",
      "\n",
      "Overall (Avg):         16485.5893\n",
      "Overall (Max):         17818.5785\n"
     ]
    }
   ],
   "source": [
    "def test_breakdown():\n",
    "    \n",
    "    print(\"\\nBaseline\\n\")\n",
    "    print(\"Overall (Avg):\".ljust(22), BASELINE_AVG)\n",
    "    print(\"Overall (Max):\".ljust(22), BASELINE_MAX)\n",
    "    \n",
    "    print(\"\\nBreak Down:\\n\")\n",
    "    xgb_avg, xgb_max = score_xgboost(cols = columns + [\"MSClass\"])\n",
    "    lgbm_avg, lgbm_max = score_lightgbm(cols = columns + [\"MSClass\"])\n",
    "    cat_avg, cat_max = score_catboost(cols = columns + [\"MSClass\"])\n",
    "    print(\"\\nOverall (Avg):\".ljust(23), round(np.mean([xgb_avg, lgbm_avg, cat_avg]), 4))\n",
    "    print(\"Overall (Max):\".ljust(22),round(np.max([xgb_avg, lgbm_avg, cat_avg]), 4))\n",
    "      \n",
    "    \n",
    "test_breakdown()"
   ]
  },
  {
   "cell_type": "markdown",
   "id": "05e46d85",
   "metadata": {},
   "source": [
    "# Grouped Transform"
   ]
  },
  {
   "cell_type": "code",
   "execution_count": 14,
   "id": "1fe67aba",
   "metadata": {},
   "outputs": [
    {
     "name": "stdout",
     "output_type": "stream",
     "text": [
      "\n",
      "Baseline\n",
      "\n",
      "Overall (Avg):         16484.2446\n",
      "Overall (Max):         17818.5785\n",
      "\n",
      "Group Transformation:\n",
      "\n",
      "XGBoost  (3-fold Avg): 17904.3209\n",
      "XGBoost  (3-fold Max): 19005.0376 \t 2.013s\n",
      "LightGBM (3-fold Avg): 16662.3771\n",
      "LightGBM (3-fold Max): 17680.7477 \t 1.713s\n",
      "CatBoost (3-fold Avg): 14713.3128\n",
      "CatBoost (3-fold Max): 15112.7124 \t 10.748s\n",
      "\n",
      "Overall (Avg):         16426.6703\n",
      "Overall (Max):         17904.3209\n"
     ]
    }
   ],
   "source": [
    "def group_transformation(X_train, X_valid, X_test):\n",
    "    \n",
    "    X_train[\"MedNhbdLvArea\"] = X_train.groupby(\"Neighborhood\")[\"GrLivArea\"].transform('median')\n",
    "    \n",
    "    # we use the medians from the training data to impute the test data\n",
    "    mapping = dict()\n",
    "    for x,y in zip(X_train[\"MedNhbdLvArea\"].iteritems(), X_train['Neighborhood'].iteritems()):\n",
    "        _,median_area = x\n",
    "        _,nbhr = y\n",
    "        if nbhr not in mapping: mapping[nbhr] = median_area\n",
    "    \n",
    "    X_valid[\"MedNhbdLvArea\"] = X_valid['Neighborhood'].map(mapping)\n",
    "    X_test[\"MedNhbdLvArea\"] = X_test['Neighborhood'].map(mapping)\n",
    "    \n",
    "    return X_train, X_valid, X_test\n",
    "\n",
    "def test_group():\n",
    "    \n",
    "    print(\"\\nBaseline\\n\")\n",
    "    print(\"Overall (Avg):\".ljust(22), BASELINE_AVG)\n",
    "    print(\"Overall (Max):\".ljust(22), BASELINE_MAX)\n",
    "    \n",
    "    transforms = [preprocessing, group_transformation]\n",
    "    print(\"\\nGroup Transformation:\\n\")\n",
    "    xgb_avg, xgb_max = score_xgboost(transforms)\n",
    "    lgbm_avg, lgbm_max = score_lightgbm(transforms)\n",
    "    cat_avg, cat_max = score_catboost(transforms)\n",
    "    print(\"\\nOverall (Avg):\".ljust(23), round(np.mean([xgb_avg, lgbm_avg, cat_avg]), 4))\n",
    "    print(\"Overall (Max):\".ljust(22),round(np.max([xgb_avg, lgbm_avg, cat_avg]), 4))\n",
    "      \n",
    "    \n",
    "test_group()"
   ]
  },
  {
   "cell_type": "markdown",
   "id": "a619fa35",
   "metadata": {},
   "source": [
    "# Clustering (Labels)"
   ]
  },
  {
   "cell_type": "code",
   "execution_count": 15,
   "id": "98d24e6b",
   "metadata": {},
   "outputs": [
    {
     "name": "stdout",
     "output_type": "stream",
     "text": [
      "\n",
      "Baseline\n",
      "\n",
      "Overall (Avg):         16484.2446\n",
      "Overall (Max):         17818.5785\n",
      "\n",
      "Cluster Labels:\n",
      "\n",
      "XGBoost  (3-fold Avg): 18035.7252\n",
      "XGBoost  (3-fold Max): 18523.0575 \t 2.765s\n",
      "LightGBM (3-fold Avg): 16448.1335\n",
      "LightGBM (3-fold Max): 16955.8606 \t 1.816s\n",
      "CatBoost (3-fold Avg): 14997.3111\n",
      "CatBoost (3-fold Max): 15618.4954 \t 10.332s\n",
      "\n",
      "Overall (Avg):         16493.7233\n",
      "Overall (Max):         18035.7252\n"
     ]
    }
   ],
   "source": [
    "def generate_cluster_labels(X_train, X_valid, X_test, name = \"Area\", features = ['LotArea', 'TotalBsmtSF', '1stFlrSF', '2ndFlrSF','GrLivArea']):\n",
    "    \n",
    "    # 1. normalize based on training data\n",
    "    scaler = StandardScaler()\n",
    "    X_scaled = scaler.fit_transform(X_train[features])\n",
    "    X_valid_scaled = scaler.transform(X_valid[features])\n",
    "    X_test_scaled = scaler.transform(X_test[features])\n",
    "    \n",
    "    # 2. create cluster labels (use predict)\n",
    "    kmeans = KMeans(n_clusters = 10, n_init = 10, random_state=0)\n",
    "    X_train[name + \"_Cluster\"] = kmeans.fit_predict(X_scaled)\n",
    "    X_valid[name + \"_Cluster\"] = kmeans.predict(X_valid_scaled)\n",
    "    X_test[name + \"_Cluster\"] = kmeans.predict(X_test_scaled)\n",
    "         \n",
    "    return X_train, X_valid, X_test\n",
    "\n",
    "def test_cluster_labels():\n",
    "    \n",
    "    print(\"\\nBaseline\\n\")\n",
    "    print(\"Overall (Avg):\".ljust(22), BASELINE_AVG)\n",
    "    print(\"Overall (Max):\".ljust(22), BASELINE_MAX)\n",
    "    \n",
    "    transforms = [preprocessing, generate_cluster_labels]\n",
    "    print(\"\\nCluster Labels:\\n\")\n",
    "    xgb_avg, xgb_max = score_xgboost(transforms)\n",
    "    lgbm_avg, lgbm_max = score_lightgbm(transforms)\n",
    "    cat_avg, cat_max = score_catboost(transforms)\n",
    "    print(\"\\nOverall (Avg):\".ljust(23), round(np.mean([xgb_avg, lgbm_avg, cat_avg]), 4))\n",
    "    print(\"Overall (Max):\".ljust(22),round(np.max([xgb_avg, lgbm_avg, cat_avg]), 4))\n",
    "     \n",
    "test_cluster_labels()"
   ]
  },
  {
   "cell_type": "markdown",
   "id": "0e90dc22",
   "metadata": {},
   "source": [
    "# Clustering (Distances)"
   ]
  },
  {
   "cell_type": "code",
   "execution_count": 16,
   "id": "ddac2605",
   "metadata": {},
   "outputs": [
    {
     "name": "stdout",
     "output_type": "stream",
     "text": [
      "\n",
      "Baseline\n",
      "\n",
      "Overall (Avg):         16484.2446\n",
      "Overall (Max):         17818.5785\n",
      "\n",
      "Cluster Distances:\n",
      "\n",
      "XGBoost  (3-fold Avg): 17902.8628\n",
      "XGBoost  (3-fold Max): 18883.7932 \t 2.393s\n",
      "LightGBM (3-fold Avg): 16404.7344\n",
      "LightGBM (3-fold Max): 16685.1865 \t 2.077s\n",
      "CatBoost (3-fold Avg): 14736.1507\n",
      "CatBoost (3-fold Max): 15103.5523 \t 11.909s\n",
      "\n",
      "Overall (Avg):         16347.916\n",
      "Overall (Max):         17902.8628\n"
     ]
    }
   ],
   "source": [
    "def generate_cluster_distances(X_train, X_valid, X_test, name = \"Area\", features = ['LotArea', 'TotalBsmtSF', '1stFlrSF', '2ndFlrSF','GrLivArea']):\n",
    "    \n",
    "    # 1. normalize based on training data\n",
    "    scaler = StandardScaler()\n",
    "    X_scaled = scaler.fit_transform(X_train[features])\n",
    "    X_valid_scaled = scaler.transform(X_valid[features])\n",
    "    X_test_scaled = scaler.transform(X_test[features])\n",
    "    \n",
    "    # 2. generate cluster distances (use transform)\n",
    "    kmeans = KMeans(n_clusters = 10, n_init = 10, random_state=0)\n",
    "    X_cd = kmeans.fit_transform(X_scaled)\n",
    "    X_valid_cd = kmeans.transform(X_valid_scaled)\n",
    "    X_test_cd = kmeans.transform(X_test_scaled)\n",
    "    \n",
    "    # 3. column labels\n",
    "    X_cd = pd.DataFrame(X_cd, columns=[name + \"_Centroid_\" + str(i) for i in range(X_cd.shape[1])])\n",
    "    X_valid_cd = pd.DataFrame(X_valid_cd, columns=[name + \"_Centroid_\" + str(i) for i in range(X_valid_cd.shape[1])])\n",
    "    X_test_cd = pd.DataFrame(X_test_cd, columns=[name + \"_Centroid_\" + str(i) for i in range(X_test_cd.shape[1])])    \n",
    "    \n",
    "    return X_train.join(X_cd), X_valid.join(X_valid_cd), X_test.join(X_test_cd)\n",
    "\n",
    "def test_cluster_distances():\n",
    "    \n",
    "    print(\"\\nBaseline\\n\")\n",
    "    print(\"Overall (Avg):\".ljust(22), BASELINE_AVG)\n",
    "    print(\"Overall (Max):\".ljust(22), BASELINE_MAX)\n",
    "    \n",
    "    transforms = [preprocessing, generate_cluster_distances]\n",
    "    print(\"\\nCluster Distances:\\n\")\n",
    "    xgb_avg, xgb_max = score_xgboost(transforms)\n",
    "    lgbm_avg, lgbm_max = score_lightgbm(transforms)\n",
    "    cat_avg, cat_max = score_catboost(transforms)\n",
    "    print(\"\\nOverall (Avg):\".ljust(23), round(np.mean([xgb_avg, lgbm_avg, cat_avg]), 4))\n",
    "    print(\"Overall (Max):\".ljust(22),round(np.max([xgb_avg, lgbm_avg, cat_avg]), 4))\n",
    "     \n",
    "    \n",
    "test_cluster_distances()"
   ]
  },
  {
   "cell_type": "markdown",
   "id": "8629bd1b",
   "metadata": {},
   "source": [
    "# Principal Component Analysis"
   ]
  },
  {
   "cell_type": "code",
   "execution_count": 17,
   "id": "94933ad8",
   "metadata": {},
   "outputs": [
    {
     "name": "stdout",
     "output_type": "stream",
     "text": [
      "\n",
      "Baseline\n",
      "\n",
      "Overall (Avg):         16484.2446\n",
      "Overall (Max):         17818.5785\n",
      "\n",
      "PCA (1 components):\n",
      "\n",
      "XGBoost  (3-fold Avg): 17325.0409\n",
      "XGBoost  (3-fold Max): 18070.6054 \t 1.905s\n",
      "LightGBM (3-fold Avg): 16144.3925\n",
      "LightGBM (3-fold Max): 16545.4439 \t 1.858s\n",
      "CatBoost (3-fold Avg): 14844.5589\n",
      "CatBoost (3-fold Max): 15355.6194 \t 10.502s\n",
      "\n",
      "Overall (Avg):         16104.6641\n",
      "Overall (Max):         17325.0409\n",
      "\n",
      "PCA (2 components):\n",
      "\n",
      "XGBoost  (3-fold Avg): 17173.8727\n",
      "XGBoost  (3-fold Max): 18136.1141 \t 1.94s\n",
      "LightGBM (3-fold Avg): 16096.8338\n",
      "LightGBM (3-fold Max): 16434.0747 \t 1.826s\n",
      "CatBoost (3-fold Avg): 14811.3066\n",
      "CatBoost (3-fold Max): 15259.5257 \t 11.896s\n",
      "\n",
      "Overall (Avg):         16027.3377\n",
      "Overall (Max):         17173.8727\n",
      "\n",
      "PCA (3 components):\n",
      "\n",
      "XGBoost  (3-fold Avg): 17227.3685\n",
      "XGBoost  (3-fold Max): 18312.4517 \t 1.939s\n",
      "LightGBM (3-fold Avg): 16300.9474\n",
      "LightGBM (3-fold Max): 16790.1549 \t 1.861s\n",
      "CatBoost (3-fold Avg): 14897.8518\n",
      "CatBoost (3-fold Max): 15515.0018 \t 11.524s\n",
      "\n",
      "Overall (Avg):         16142.0559\n",
      "Overall (Max):         17227.3685\n"
     ]
    }
   ],
   "source": [
    "# Performs PCA on the whole dataframe\n",
    "def pca_transform(X_train, X_valid, X_test, \n",
    "                  features = [\"GarageArea\",\"YearRemodAdd\",\"TotalBsmtSF\",\"GrLivArea\"], \n",
    "                  n_components = 2):\n",
    "    \n",
    "    # Normalize based on training data\n",
    "    scaler = StandardScaler()\n",
    "    X_scaled = scaler.fit_transform(X_train[features])\n",
    "    X_valid_scaled = scaler.transform(X_valid[features])\n",
    "    X_test_scaled = scaler.transform(X_test[features])\n",
    "    \n",
    "    # Create principal components\n",
    "    pca = PCA(n_components)\n",
    "    X_pca = pca.fit_transform(X_scaled)\n",
    "    X_valid_pca = pca.transform(X_valid_scaled)\n",
    "    X_test_pca = pca.transform(X_test_scaled)\n",
    "    \n",
    "    # Convert to dataframe\n",
    "    component_names = [f\"PC{i+1}\" for i in range(X_pca.shape[1])]\n",
    "    X_pca = pd.DataFrame(X_pca, columns=component_names)\n",
    "    X_valid_pca = pd.DataFrame(X_valid_pca, columns=component_names)\n",
    "    X_test_pca = pd.DataFrame(X_test_pca, columns=component_names)\n",
    "    \n",
    "    return X_train.join(X_pca), X_valid.join(X_valid_pca), X_test.join(X_test_pca)\n",
    "\n",
    "def test_pca_features():\n",
    "    \n",
    "    print(\"\\nBaseline\\n\")\n",
    "    print(\"Overall (Avg):\".ljust(22), BASELINE_AVG)\n",
    "    print(\"Overall (Max):\".ljust(22), BASELINE_MAX)\n",
    "    \n",
    "    transforms = [preprocessing, partial(pca_transform, n_components = 1)]\n",
    "    print(\"\\nPCA (1 components):\\n\")\n",
    "    xgb_avg, xgb_max = score_xgboost(transforms)\n",
    "    lgbm_avg, lgbm_max = score_lightgbm(transforms)\n",
    "    cat_avg, cat_max = score_catboost(transforms)\n",
    "    print(\"\\nOverall (Avg):\".ljust(23), round(np.mean([xgb_avg, lgbm_avg, cat_avg]), 4))\n",
    "    print(\"Overall (Max):\".ljust(22),round(np.max([xgb_avg, lgbm_avg, cat_avg]), 4))\n",
    "   \n",
    "    \n",
    "    transforms = [preprocessing, partial(pca_transform, n_components = 2)]\n",
    "    print(\"\\nPCA (2 components):\\n\")\n",
    "    xgb_avg, xgb_max = score_xgboost(transforms)\n",
    "    lgbm_avg, lgbm_max = score_lightgbm(transforms)\n",
    "    cat_avg, cat_max = score_catboost(transforms)\n",
    "    print(\"\\nOverall (Avg):\".ljust(23), round(np.mean([xgb_avg, lgbm_avg, cat_avg]), 4))\n",
    "    print(\"Overall (Max):\".ljust(22),round(np.max([xgb_avg, lgbm_avg, cat_avg]), 4))\n",
    "   \n",
    "    \n",
    "    transforms = [preprocessing, partial(pca_transform, n_components = 3)]\n",
    "    print(\"\\nPCA (3 components):\\n\")\n",
    "    xgb_avg, xgb_max = score_xgboost(transforms)\n",
    "    lgbm_avg, lgbm_max = score_lightgbm(transforms)\n",
    "    cat_avg, cat_max = score_catboost(transforms)\n",
    "    print(\"\\nOverall (Avg):\".ljust(23), round(np.mean([xgb_avg, lgbm_avg, cat_avg]), 4))\n",
    "    print(\"Overall (Max):\".ljust(22),round(np.max([xgb_avg, lgbm_avg, cat_avg]), 4))\n",
    "   \n",
    "    \n",
    "test_pca_features()"
   ]
  },
  {
   "cell_type": "markdown",
   "id": "0024a056",
   "metadata": {},
   "source": [
    "# Target Encoding"
   ]
  },
  {
   "cell_type": "code",
   "execution_count": 18,
   "id": "11bd5fea",
   "metadata": {},
   "outputs": [],
   "source": [
    "class CrossFoldEncoder:\n",
    "    def __init__(self, encoder, **kwargs):\n",
    "        self.encoder_ = encoder\n",
    "        self.kwargs_ = kwargs  # keyword arguments for the encoder\n",
    "        self.cv_ = KFold(n_splits=5)\n",
    "\n",
    "    # Fit an encoder on one split and transform the feature on the\n",
    "    # other. Iterating over the splits in all folds gives a complete\n",
    "    # transformation. We also now have one trained encoder on each\n",
    "    # fold.\n",
    "    def fit_transform(self, X, y, cols):\n",
    "        self.fitted_encoders_ = []\n",
    "        self.cols_ = cols\n",
    "        X_encoded = []\n",
    "        for idx_encode, idx_train in self.cv_.split(X):\n",
    "            fitted_encoder = self.encoder_(cols=cols, **self.kwargs_)\n",
    "            fitted_encoder.fit(\n",
    "                X.iloc[idx_encode, :], y.iloc[idx_encode],\n",
    "            )\n",
    "            X_encoded.append(fitted_encoder.transform(X.iloc[idx_train, :])[cols])\n",
    "            self.fitted_encoders_.append(fitted_encoder)\n",
    "        X_encoded = pd.concat(X_encoded)\n",
    "        X_encoded.columns = [name + \"_encoded\" for name in X_encoded.columns]\n",
    "        return X_encoded\n",
    "\n",
    "    # To transform the test data, average the encodings learned from\n",
    "    # each fold.\n",
    "    def transform(self, X):\n",
    "        from functools import reduce\n",
    "\n",
    "        X_encoded_list = []\n",
    "        for fitted_encoder in self.fitted_encoders_:\n",
    "            X_encoded = fitted_encoder.transform(X)\n",
    "            X_encoded_list.append(X_encoded[self.cols_])\n",
    "        X_encoded = reduce(\n",
    "            lambda x, y: x.add(y, fill_value=0), X_encoded_list\n",
    "        ) / len(X_encoded_list)\n",
    "        X_encoded.columns = [name + \"_encoded\" for name in X_encoded.columns]\n",
    "        return X_encoded"
   ]
  },
  {
   "cell_type": "code",
   "execution_count": 19,
   "id": "c9ba5e48",
   "metadata": {},
   "outputs": [
    {
     "name": "stdout",
     "output_type": "stream",
     "text": [
      "\n",
      "Baseline\n",
      "\n",
      "Overall (Avg):         16484.2446\n",
      "Overall (Max):         17818.5785\n",
      "\n",
      "Target Encoding ('Neighborhood'):\n",
      "\n",
      "XGBoost  (3-fold Avg): 17457.4707\n",
      "XGBoost  (3-fold Max): 18292.309 \t 2.043s\n",
      "LightGBM (3-fold Avg): 16597.4962\n",
      "LightGBM (3-fold Max): 17185.1397 \t 1.921s\n",
      "CatBoost (3-fold Avg): 14639.1022\n",
      "CatBoost (3-fold Max): 14970.7286 \t 10.842s\n",
      "\n",
      "Overall (Avg):         16231.3564\n",
      "Overall (Max):         17457.4707\n"
     ]
    }
   ],
   "source": [
    "def encode_neighborhood(X_train, X_valid, X_test, y_train):\n",
    "    encoder = CrossFoldEncoder(MEstimateEncoder, m=1)\n",
    "    X1_train = encoder.fit_transform(X_train, y_train, cols=[\"Neighborhood\"])\n",
    "    X1_valid = encoder.transform(X_valid)\n",
    "    X1_test = encoder.transform(X_test)\n",
    "        \n",
    "    return X_train.join(X1_train), X_valid.join(X1_valid), X_test.join(X1_test)\n",
    "\n",
    "def test_neighborhood_encoding():\n",
    "    \n",
    "    print(\"\\nBaseline\\n\")\n",
    "    print(\"Overall (Avg):\".ljust(22), BASELINE_AVG)\n",
    "    print(\"Overall (Max):\".ljust(22), BASELINE_MAX) \n",
    "    \n",
    "    transforms = [preprocessing, encode_neighborhood]\n",
    "    print(\"\\nTarget Encoding ('Neighborhood'):\\n\")\n",
    "    xgb_avg, xgb_max = score_xgboost(transforms)\n",
    "    lgbm_avg, lgbm_max = score_lightgbm(transforms)\n",
    "    cat_avg, cat_max = score_catboost(transforms)\n",
    "    print(\"\\nOverall (Avg):\".ljust(23), round(np.mean([xgb_avg, lgbm_avg, cat_avg]), 4))\n",
    "    print(\"Overall (Max):\".ljust(22),round(np.max([xgb_avg, lgbm_avg, cat_avg]), 4))\n",
    "   \n",
    "    \n",
    "test_neighborhood_encoding()"
   ]
  },
  {
   "cell_type": "code",
   "execution_count": 20,
   "id": "56b9f45c",
   "metadata": {},
   "outputs": [
    {
     "name": "stdout",
     "output_type": "stream",
     "text": [
      "\n",
      "Baseline\n",
      "\n",
      "Overall (Avg):         16484.2446\n",
      "Overall (Max):         17818.5785\n",
      "\n",
      "Target Encoding ('SubClass'):\n",
      "\n",
      "XGBoost  (3-fold Avg): 18093.2523\n",
      "XGBoost  (3-fold Max): 18547.7723 \t 2.261s\n",
      "LightGBM (3-fold Avg): 16692.4652\n",
      "LightGBM (3-fold Max): 17203.6731 \t 1.963s\n",
      "CatBoost (3-fold Avg): 15037.7819\n",
      "CatBoost (3-fold Max): 15669.5137 \t 10.8s\n",
      "\n",
      "Overall (Avg):         16607.8331\n",
      "Overall (Max):         18093.2523\n"
     ]
    }
   ],
   "source": [
    "def encode_subclass(X_train, X_valid, X_test, y_train):\n",
    "    encoder = CrossFoldEncoder(MEstimateEncoder, m=1)\n",
    "    X1_train = encoder.fit_transform(X_train, y_train, cols=[\"MSSubClass\"])\n",
    "    X1_valid = encoder.transform(X_valid)\n",
    "    X1_test = encoder.transform(X_test)\n",
    "        \n",
    "    return X_train.join(X1_train), X_valid.join(X1_valid), X_test.join(X1_test)\n",
    "\n",
    "def test_subclass_encoding():\n",
    "    \n",
    "    print(\"\\nBaseline\\n\")\n",
    "    print(\"Overall (Avg):\".ljust(22), BASELINE_AVG)\n",
    "    print(\"Overall (Max):\".ljust(22), BASELINE_MAX)    \n",
    "    \n",
    "    transforms = [preprocessing, encode_subclass]\n",
    "    print(\"\\nTarget Encoding ('SubClass'):\\n\")\n",
    "    xgb_avg, xgb_max = score_xgboost(transforms)\n",
    "    lgbm_avg, lgbm_max = score_lightgbm(transforms)\n",
    "    cat_avg, cat_max = score_catboost(transforms)\n",
    "    print(\"\\nOverall (Avg):\".ljust(23), round(np.mean([xgb_avg, lgbm_avg, cat_avg]), 4))\n",
    "    print(\"Overall (Max):\".ljust(22),round(np.max([xgb_avg, lgbm_avg, cat_avg]), 4))\n",
    "   \n",
    "    \n",
    "test_subclass_encoding()"
   ]
  },
  {
   "cell_type": "markdown",
   "id": "dc56601d",
   "metadata": {},
   "source": [
    "# Test Strategies\n",
    "\n",
    "We test combinations of all the promising strategies using optuna\n"
   ]
  },
  {
   "cell_type": "code",
   "execution_count": 21,
   "id": "c5cc6cd1",
   "metadata": {},
   "outputs": [
    {
     "name": "stderr",
     "output_type": "stream",
     "text": [
      "\u001b[32m[I 2021-09-07 19:19:35,334]\u001b[0m A new study created in memory with name: no-name-c83d4d39-a1c8-4d81-afef-4e76cd8b8895\u001b[0m\n"
     ]
    },
    {
     "name": "stdout",
     "output_type": "stream",
     "text": [
      "XGBoost  (3-fold Avg): 17573.9972\n",
      "XGBoost  (3-fold Max): 18235.9336 \t 4.153s\n",
      "LightGBM (3-fold Avg): 16089.2872\n",
      "LightGBM (3-fold Max): 16498.7109 \t 3.893s\n",
      "CatBoost (3-fold Avg): 14904.1363\n",
      "CatBoost (3-fold Max): 15453.2451 \t 12.357s\n"
     ]
    },
    {
     "name": "stderr",
     "output_type": "stream",
     "text": [
      "\u001b[32m[I 2021-09-07 19:19:56,750]\u001b[0m Trial 0 finished with value: 16189.140233333334 and parameters: {'math': False, 'count': True, 'group': False, 'cluster_dist': False, 'pca': True, 'target': False, 'drop_last': True}. Best is trial 0 with value: 16189.140233333334.\u001b[0m\n"
     ]
    },
    {
     "name": "stdout",
     "output_type": "stream",
     "text": [
      "XGBoost  (3-fold Avg): 17579.3272\n",
      "XGBoost  (3-fold Max): 18261.5149 \t 4.726s\n",
      "LightGBM (3-fold Avg): 16160.661\n",
      "LightGBM (3-fold Max): 16761.8491 \t 4.415s\n",
      "CatBoost (3-fold Avg): 14637.9043\n",
      "CatBoost (3-fold Max): 15191.5539 \t 14.861s\n"
     ]
    },
    {
     "name": "stderr",
     "output_type": "stream",
     "text": [
      "\u001b[32m[I 2021-09-07 19:20:21,773]\u001b[0m Trial 1 finished with value: 16125.964166666667 and parameters: {'math': True, 'count': True, 'group': False, 'cluster_dist': True, 'pca': True, 'target': False, 'drop_last': True}. Best is trial 1 with value: 16125.964166666667.\u001b[0m\n"
     ]
    },
    {
     "name": "stdout",
     "output_type": "stream",
     "text": [
      "XGBoost  (3-fold Avg): 17494.2584\n",
      "XGBoost  (3-fold Max): 18261.0356 \t 2.507s\n",
      "LightGBM (3-fold Avg): 16403.4604\n",
      "LightGBM (3-fold Max): 16900.2917 \t 2.292s\n",
      "CatBoost (3-fold Avg): 14325.8916\n",
      "CatBoost (3-fold Max): 14611.6419 \t 10.203s\n"
     ]
    },
    {
     "name": "stderr",
     "output_type": "stream",
     "text": [
      "\u001b[32m[I 2021-09-07 19:20:37,787]\u001b[0m Trial 2 finished with value: 16074.536800000002 and parameters: {'math': False, 'count': True, 'group': False, 'cluster_dist': True, 'pca': False, 'target': True, 'drop_last': False}. Best is trial 2 with value: 16074.536800000002.\u001b[0m\n"
     ]
    },
    {
     "name": "stdout",
     "output_type": "stream",
     "text": [
      "XGBoost  (3-fold Avg): 17732.561\n",
      "XGBoost  (3-fold Max): 18285.4702 \t 4.448s\n",
      "LightGBM (3-fold Avg): 16477.2731\n",
      "LightGBM (3-fold Max): 16657.612 \t 4.185s\n",
      "CatBoost (3-fold Avg): 14705.1184\n",
      "CatBoost (3-fold Max): 15046.4876 \t 13.732s\n"
     ]
    },
    {
     "name": "stderr",
     "output_type": "stream",
     "text": [
      "\u001b[32m[I 2021-09-07 19:21:01,171]\u001b[0m Trial 3 finished with value: 16304.984166666667 and parameters: {'math': False, 'count': False, 'group': False, 'cluster_dist': True, 'pca': False, 'target': False, 'drop_last': True}. Best is trial 2 with value: 16074.536800000002.\u001b[0m\n"
     ]
    },
    {
     "name": "stdout",
     "output_type": "stream",
     "text": [
      "XGBoost  (3-fold Avg): 17201.3622\n",
      "XGBoost  (3-fold Max): 18363.8773 \t 2.079s\n",
      "LightGBM (3-fold Avg): 16553.4289\n",
      "LightGBM (3-fold Max): 17172.6484 \t 1.817s\n",
      "CatBoost (3-fold Avg): 14358.7316\n",
      "CatBoost (3-fold Max): 14996.528 \t 10.604s\n"
     ]
    },
    {
     "name": "stderr",
     "output_type": "stream",
     "text": [
      "\u001b[32m[I 2021-09-07 19:21:16,684]\u001b[0m Trial 4 finished with value: 16037.840900000001 and parameters: {'math': True, 'count': True, 'group': True, 'cluster_dist': False, 'pca': True, 'target': False, 'drop_last': False}. Best is trial 4 with value: 16037.840900000001.\u001b[0m\n"
     ]
    },
    {
     "name": "stdout",
     "output_type": "stream",
     "text": [
      "XGBoost  (3-fold Avg): 17305.2243\n",
      "XGBoost  (3-fold Max): 17871.5301 \t 1.812s\n",
      "LightGBM (3-fold Avg): 16455.4277\n",
      "LightGBM (3-fold Max): 17338.4018 \t 1.637s\n",
      "CatBoost (3-fold Avg): 14476.7801\n",
      "CatBoost (3-fold Max): 15164.3212 \t 9.919s\n"
     ]
    },
    {
     "name": "stderr",
     "output_type": "stream",
     "text": [
      "\u001b[32m[I 2021-09-07 19:21:31,071]\u001b[0m Trial 5 finished with value: 16079.144033333336 and parameters: {'math': True, 'count': False, 'group': True, 'cluster_dist': False, 'pca': False, 'target': False, 'drop_last': False}. Best is trial 4 with value: 16037.840900000001.\u001b[0m\n"
     ]
    },
    {
     "name": "stdout",
     "output_type": "stream",
     "text": [
      "XGBoost  (3-fold Avg): 16979.1497\n",
      "XGBoost  (3-fold Max): 17982.1462 \t 2.421s\n",
      "LightGBM (3-fold Avg): 16130.2844\n",
      "LightGBM (3-fold Max): 16972.4943 \t 2.099s\n",
      "CatBoost (3-fold Avg): 14534.0076\n",
      "CatBoost (3-fold Max): 15102.6598 \t 10.695s\n"
     ]
    },
    {
     "name": "stderr",
     "output_type": "stream",
     "text": [
      "\u001b[32m[I 2021-09-07 19:21:47,307]\u001b[0m Trial 6 finished with value: 15881.147233333331 and parameters: {'math': False, 'count': True, 'group': False, 'cluster_dist': True, 'pca': True, 'target': False, 'drop_last': False}. Best is trial 6 with value: 15881.147233333331.\u001b[0m\n"
     ]
    },
    {
     "name": "stdout",
     "output_type": "stream",
     "text": [
      "XGBoost  (3-fold Avg): 17055.057\n",
      "XGBoost  (3-fold Max): 17382.824 \t 4.094s\n",
      "LightGBM (3-fold Avg): 16670.2915\n",
      "LightGBM (3-fold Max): 16954.3406 \t 3.975s\n",
      "CatBoost (3-fold Avg): 14540.2857\n",
      "CatBoost (3-fold Max): 14867.7663 \t 14.936s\n"
     ]
    },
    {
     "name": "stderr",
     "output_type": "stream",
     "text": [
      "\u001b[32m[I 2021-09-07 19:22:11,331]\u001b[0m Trial 7 finished with value: 16088.544733333334 and parameters: {'math': False, 'count': False, 'group': True, 'cluster_dist': False, 'pca': False, 'target': True, 'drop_last': True}. Best is trial 6 with value: 15881.147233333331.\u001b[0m\n"
     ]
    },
    {
     "name": "stdout",
     "output_type": "stream",
     "text": [
      "XGBoost  (3-fold Avg): 17182.7315\n",
      "XGBoost  (3-fold Max): 17843.2409 \t 4.046s\n",
      "LightGBM (3-fold Avg): 16466.9651\n",
      "LightGBM (3-fold Max): 17186.4011 \t 3.901s\n",
      "CatBoost (3-fold Avg): 14515.3711\n",
      "CatBoost (3-fold Max): 15030.7271 \t 13.118s\n"
     ]
    },
    {
     "name": "stderr",
     "output_type": "stream",
     "text": [
      "\u001b[32m[I 2021-09-07 19:22:33,407]\u001b[0m Trial 8 finished with value: 16055.022566666667 and parameters: {'math': False, 'count': True, 'group': True, 'cluster_dist': False, 'pca': True, 'target': False, 'drop_last': True}. Best is trial 6 with value: 15881.147233333331.\u001b[0m\n"
     ]
    },
    {
     "name": "stdout",
     "output_type": "stream",
     "text": [
      "XGBoost  (3-fold Avg): 17377.3754\n",
      "XGBoost  (3-fold Max): 17487.3996 \t 4.849s\n",
      "LightGBM (3-fold Avg): 16497.031\n",
      "LightGBM (3-fold Max): 16844.476 \t 4.513s\n",
      "CatBoost (3-fold Avg): 14275.2167\n",
      "CatBoost (3-fold Max): 14766.5891 \t 10.897s\n"
     ]
    },
    {
     "name": "stderr",
     "output_type": "stream",
     "text": [
      "\u001b[32m[I 2021-09-07 19:22:54,690]\u001b[0m Trial 9 finished with value: 16049.874366666665 and parameters: {'math': False, 'count': True, 'group': True, 'cluster_dist': True, 'pca': False, 'target': True, 'drop_last': True}. Best is trial 6 with value: 15881.147233333331.\u001b[0m\n"
     ]
    },
    {
     "name": "stdout",
     "output_type": "stream",
     "text": [
      "XGBoost  (3-fold Avg): 17397.5811\n",
      "XGBoost  (3-fold Max): 18679.5039 \t 2.268s\n",
      "LightGBM (3-fold Avg): 16463.7704\n",
      "LightGBM (3-fold Max): 17226.0353 \t 2.152s\n",
      "CatBoost (3-fold Avg): 14300.8707\n",
      "CatBoost (3-fold Max): 14767.2258 \t 10.236s\n"
     ]
    },
    {
     "name": "stderr",
     "output_type": "stream",
     "text": [
      "\u001b[32m[I 2021-09-07 19:23:10,364]\u001b[0m Trial 10 finished with value: 16054.074066666668 and parameters: {'math': True, 'count': True, 'group': True, 'cluster_dist': True, 'pca': True, 'target': False, 'drop_last': False}. Best is trial 6 with value: 15881.147233333331.\u001b[0m\n"
     ]
    },
    {
     "name": "stdout",
     "output_type": "stream",
     "text": [
      "XGBoost  (3-fold Avg): 17553.9371\n",
      "XGBoost  (3-fold Max): 17976.5817 \t 2.178s\n",
      "LightGBM (3-fold Avg): 16126.8996\n",
      "LightGBM (3-fold Max): 16786.669 \t 2.014s\n",
      "CatBoost (3-fold Avg): 14367.8879\n",
      "CatBoost (3-fold Max): 14887.773 \t 10.431s\n"
     ]
    },
    {
     "name": "stderr",
     "output_type": "stream",
     "text": [
      "\u001b[32m[I 2021-09-07 19:23:26,006]\u001b[0m Trial 11 finished with value: 16016.241533333334 and parameters: {'math': False, 'count': True, 'group': True, 'cluster_dist': True, 'pca': False, 'target': False, 'drop_last': False}. Best is trial 6 with value: 15881.147233333331.\u001b[0m\n"
     ]
    },
    {
     "name": "stdout",
     "output_type": "stream",
     "text": [
      "XGBoost  (3-fold Avg): 17626.5549\n",
      "XGBoost  (3-fold Max): 18279.8297 \t 4.431s\n",
      "LightGBM (3-fold Avg): 16178.0749\n",
      "LightGBM (3-fold Max): 16462.5548 \t 4.321s\n",
      "CatBoost (3-fold Avg): 14616.6845\n",
      "CatBoost (3-fold Max): 14924.7103 \t 14.407s\n"
     ]
    },
    {
     "name": "stderr",
     "output_type": "stream",
     "text": [
      "\u001b[32m[I 2021-09-07 19:23:50,177]\u001b[0m Trial 12 finished with value: 16140.4381 and parameters: {'math': False, 'count': True, 'group': False, 'cluster_dist': True, 'pca': False, 'target': False, 'drop_last': True}. Best is trial 6 with value: 15881.147233333331.\u001b[0m\n"
     ]
    },
    {
     "name": "stdout",
     "output_type": "stream",
     "text": [
      "XGBoost  (3-fold Avg): 17324.6739\n",
      "XGBoost  (3-fold Max): 17650.7112 \t 2.539s\n",
      "LightGBM (3-fold Avg): 16385.3553\n",
      "LightGBM (3-fold Max): 16754.6821 \t 2.239s\n",
      "CatBoost (3-fold Avg): 14302.1132\n",
      "CatBoost (3-fold Max): 14682.2153 \t 11.175s\n"
     ]
    },
    {
     "name": "stderr",
     "output_type": "stream",
     "text": [
      "\u001b[32m[I 2021-09-07 19:24:07,152]\u001b[0m Trial 13 finished with value: 16004.047466666669 and parameters: {'math': False, 'count': True, 'group': True, 'cluster_dist': True, 'pca': False, 'target': True, 'drop_last': False}. Best is trial 6 with value: 15881.147233333331.\u001b[0m\n"
     ]
    },
    {
     "name": "stdout",
     "output_type": "stream",
     "text": [
      "XGBoost  (3-fold Avg): 17340.9658\n",
      "XGBoost  (3-fold Max): 17966.5153 \t 4.409s\n",
      "LightGBM (3-fold Avg): 16135.4552\n",
      "LightGBM (3-fold Max): 16604.9433 \t 4.219s\n",
      "CatBoost (3-fold Avg): 14744.4465\n",
      "CatBoost (3-fold Max): 15255.4781 \t 16.297s\n"
     ]
    },
    {
     "name": "stderr",
     "output_type": "stream",
     "text": [
      "\u001b[32m[I 2021-09-07 19:24:33,085]\u001b[0m Trial 14 finished with value: 16073.6225 and parameters: {'math': False, 'count': False, 'group': False, 'cluster_dist': True, 'pca': True, 'target': False, 'drop_last': True}. Best is trial 6 with value: 15881.147233333331.\u001b[0m\n"
     ]
    },
    {
     "name": "stdout",
     "output_type": "stream",
     "text": [
      "XGBoost  (3-fold Avg): 17175.1544\n",
      "XGBoost  (3-fold Max): 18160.1309 \t 4.641s\n",
      "LightGBM (3-fold Avg): 16522.9466\n",
      "LightGBM (3-fold Max): 17132.3856 \t 4.448s\n",
      "CatBoost (3-fold Avg): 14432.4575\n",
      "CatBoost (3-fold Max): 15262.5529 \t 12.42s\n"
     ]
    },
    {
     "name": "stderr",
     "output_type": "stream",
     "text": [
      "\u001b[32m[I 2021-09-07 19:24:55,612]\u001b[0m Trial 15 finished with value: 16043.5195 and parameters: {'math': True, 'count': False, 'group': True, 'cluster_dist': True, 'pca': True, 'target': False, 'drop_last': True}. Best is trial 6 with value: 15881.147233333331.\u001b[0m\n"
     ]
    },
    {
     "name": "stdout",
     "output_type": "stream",
     "text": [
      "XGBoost  (3-fold Avg): 17293.6474\n",
      "XGBoost  (3-fold Max): 18339.2861 \t 4.162s\n",
      "LightGBM (3-fold Avg): 16645.442\n",
      "LightGBM (3-fold Max): 17254.1629 \t 3.94s\n",
      "CatBoost (3-fold Avg): 14515.3506\n",
      "CatBoost (3-fold Max): 14805.9743 \t 13.319s\n"
     ]
    },
    {
     "name": "stderr",
     "output_type": "stream",
     "text": [
      "\u001b[32m[I 2021-09-07 19:25:18,057]\u001b[0m Trial 16 finished with value: 16151.479999999998 and parameters: {'math': False, 'count': False, 'group': False, 'cluster_dist': False, 'pca': False, 'target': True, 'drop_last': True}. Best is trial 6 with value: 15881.147233333331.\u001b[0m\n"
     ]
    },
    {
     "name": "stdout",
     "output_type": "stream",
     "text": [
      "XGBoost  (3-fold Avg): 16903.0544\n",
      "XGBoost  (3-fold Max): 17545.8152 \t 2.138s\n",
      "LightGBM (3-fold Avg): 16609.0517\n",
      "LightGBM (3-fold Max): 17131.4914 \t 2.088s\n",
      "CatBoost (3-fold Avg): 14199.4963\n",
      "CatBoost (3-fold Max): 14918.8101 \t 10.948s\n"
     ]
    },
    {
     "name": "stderr",
     "output_type": "stream",
     "text": [
      "\u001b[32m[I 2021-09-07 19:25:34,251]\u001b[0m Trial 17 finished with value: 15903.867466666668 and parameters: {'math': True, 'count': False, 'group': True, 'cluster_dist': False, 'pca': True, 'target': True, 'drop_last': False}. Best is trial 6 with value: 15881.147233333331.\u001b[0m\n"
     ]
    },
    {
     "name": "stdout",
     "output_type": "stream",
     "text": [
      "XGBoost  (3-fold Avg): 17793.3409\n",
      "XGBoost  (3-fold Max): 18446.6145 \t 4.372s\n",
      "LightGBM (3-fold Avg): 16190.6447\n",
      "LightGBM (3-fold Max): 16685.2492 \t 4.23s\n",
      "CatBoost (3-fold Avg): 14621.0766\n",
      "CatBoost (3-fold Max): 15285.3694 \t 12.592s\n"
     ]
    },
    {
     "name": "stderr",
     "output_type": "stream",
     "text": [
      "\u001b[32m[I 2021-09-07 19:25:56,455]\u001b[0m Trial 18 finished with value: 16201.6874 and parameters: {'math': False, 'count': True, 'group': True, 'cluster_dist': True, 'pca': False, 'target': False, 'drop_last': True}. Best is trial 6 with value: 15881.147233333331.\u001b[0m\n"
     ]
    },
    {
     "name": "stdout",
     "output_type": "stream",
     "text": [
      "XGBoost  (3-fold Avg): 17308.1559\n",
      "XGBoost  (3-fold Max): 17965.4481 \t 2.717s\n",
      "LightGBM (3-fold Avg): 16521.4743\n",
      "LightGBM (3-fold Max): 16953.2851 \t 2.304s\n",
      "CatBoost (3-fold Avg): 14192.0821\n",
      "CatBoost (3-fold Max): 14613.0434 \t 12.765s\n"
     ]
    },
    {
     "name": "stderr",
     "output_type": "stream",
     "text": [
      "\u001b[32m[I 2021-09-07 19:26:15,254]\u001b[0m Trial 19 finished with value: 16007.237433333334 and parameters: {'math': True, 'count': True, 'group': False, 'cluster_dist': True, 'pca': False, 'target': True, 'drop_last': False}. Best is trial 6 with value: 15881.147233333331.\u001b[0m\n"
     ]
    },
    {
     "name": "stdout",
     "output_type": "stream",
     "text": [
      "XGBoost  (3-fold Avg): 17436.0585\n",
      "XGBoost  (3-fold Max): 17701.7344 \t 2.389s\n",
      "LightGBM (3-fold Avg): 16560.8989\n",
      "LightGBM (3-fold Max): 17080.6774 \t 2.124s\n",
      "CatBoost (3-fold Avg): 14336.9254\n",
      "CatBoost (3-fold Max): 15127.1264 \t 11.67s\n"
     ]
    },
    {
     "name": "stderr",
     "output_type": "stream",
     "text": [
      "\u001b[32m[I 2021-09-07 19:26:32,458]\u001b[0m Trial 20 finished with value: 16111.294266666666 and parameters: {'math': True, 'count': True, 'group': True, 'cluster_dist': True, 'pca': False, 'target': False, 'drop_last': False}. Best is trial 6 with value: 15881.147233333331.\u001b[0m\n"
     ]
    },
    {
     "name": "stdout",
     "output_type": "stream",
     "text": [
      "XGBoost  (3-fold Avg): 17204.5251\n",
      "XGBoost  (3-fold Max): 18187.4663 \t 2.209s\n",
      "LightGBM (3-fold Avg): 16780.85\n",
      "LightGBM (3-fold Max): 17176.2614 \t 1.938s\n",
      "CatBoost (3-fold Avg): 14606.401\n",
      "CatBoost (3-fold Max): 15139.3525 \t 10.8s\n"
     ]
    },
    {
     "name": "stderr",
     "output_type": "stream",
     "text": [
      "\u001b[32m[I 2021-09-07 19:26:48,418]\u001b[0m Trial 21 finished with value: 16197.258699999998 and parameters: {'math': False, 'count': False, 'group': True, 'cluster_dist': False, 'pca': False, 'target': True, 'drop_last': False}. Best is trial 6 with value: 15881.147233333331.\u001b[0m\n"
     ]
    },
    {
     "name": "stdout",
     "output_type": "stream",
     "text": [
      "XGBoost  (3-fold Avg): 16696.2021\n",
      "XGBoost  (3-fold Max): 17852.4777 \t 4.498s\n",
      "LightGBM (3-fold Avg): 16550.6314\n",
      "LightGBM (3-fold Max): 17132.4875 \t 4.313s\n",
      "CatBoost (3-fold Avg): 14228.0493\n",
      "CatBoost (3-fold Max): 14704.6873 \t 13.779s\n"
     ]
    },
    {
     "name": "stderr",
     "output_type": "stream",
     "text": [
      "\u001b[32m[I 2021-09-07 19:27:12,021]\u001b[0m Trial 22 finished with value: 15824.96093333333 and parameters: {'math': True, 'count': False, 'group': False, 'cluster_dist': False, 'pca': True, 'target': True, 'drop_last': True}. Best is trial 22 with value: 15824.96093333333.\u001b[0m\n"
     ]
    },
    {
     "name": "stdout",
     "output_type": "stream",
     "text": [
      "XGBoost  (3-fold Avg): 17123.518\n",
      "XGBoost  (3-fold Max): 17770.2867 \t 4.816s\n",
      "LightGBM (3-fold Avg): 16038.2068\n",
      "LightGBM (3-fold Max): 16608.4459 \t 4.605s\n",
      "CatBoost (3-fold Avg): 14311.3116\n",
      "CatBoost (3-fold Max): 14800.0146 \t 11.535s\n"
     ]
    },
    {
     "name": "stderr",
     "output_type": "stream",
     "text": [
      "\u001b[32m[I 2021-09-07 19:27:33,996]\u001b[0m Trial 23 finished with value: 15824.345466666666 and parameters: {'math': False, 'count': False, 'group': True, 'cluster_dist': True, 'pca': True, 'target': True, 'drop_last': True}. Best is trial 23 with value: 15824.345466666666.\u001b[0m\n"
     ]
    },
    {
     "name": "stdout",
     "output_type": "stream",
     "text": [
      "XGBoost  (3-fold Avg): 16844.5129\n",
      "XGBoost  (3-fold Max): 17989.9744 \t 4.226s\n",
      "LightGBM (3-fold Avg): 16267.5819\n",
      "LightGBM (3-fold Max): 16975.1168 \t 3.94s\n",
      "CatBoost (3-fold Avg): 14573.0813\n",
      "CatBoost (3-fold Max): 14977.2447 \t 15.836s\n"
     ]
    },
    {
     "name": "stderr",
     "output_type": "stream",
     "text": [
      "\u001b[32m[I 2021-09-07 19:27:59,022]\u001b[0m Trial 24 finished with value: 15895.0587 and parameters: {'math': False, 'count': False, 'group': True, 'cluster_dist': False, 'pca': True, 'target': False, 'drop_last': True}. Best is trial 23 with value: 15824.345466666666.\u001b[0m\n"
     ]
    },
    {
     "name": "stdout",
     "output_type": "stream",
     "text": [
      "XGBoost  (3-fold Avg): 17457.4707\n",
      "XGBoost  (3-fold Max): 18292.309 \t 2.021s\n",
      "LightGBM (3-fold Avg): 16597.4962\n",
      "LightGBM (3-fold Max): 17185.1397 \t 1.832s\n",
      "CatBoost (3-fold Avg): 14639.1022\n",
      "CatBoost (3-fold Max): 14970.7286 \t 10.61s\n"
     ]
    },
    {
     "name": "stderr",
     "output_type": "stream",
     "text": [
      "\u001b[32m[I 2021-09-07 19:28:14,506]\u001b[0m Trial 25 finished with value: 16231.356366666667 and parameters: {'math': False, 'count': False, 'group': False, 'cluster_dist': False, 'pca': False, 'target': True, 'drop_last': False}. Best is trial 23 with value: 15824.345466666666.\u001b[0m\n"
     ]
    },
    {
     "name": "stdout",
     "output_type": "stream",
     "text": [
      "XGBoost  (3-fold Avg): 16773.0617\n",
      "XGBoost  (3-fold Max): 17507.9376 \t 2.509s\n",
      "LightGBM (3-fold Avg): 16249.3667\n",
      "LightGBM (3-fold Max): 16743.4692 \t 2.251s\n",
      "CatBoost (3-fold Avg): 14308.1904\n",
      "CatBoost (3-fold Max): 14682.2043 \t 8.361s\n"
     ]
    },
    {
     "name": "stderr",
     "output_type": "stream",
     "text": [
      "\u001b[32m[I 2021-09-07 19:28:28,646]\u001b[0m Trial 26 finished with value: 15776.872933333332 and parameters: {'math': False, 'count': False, 'group': False, 'cluster_dist': True, 'pca': True, 'target': True, 'drop_last': False}. Best is trial 26 with value: 15776.872933333332.\u001b[0m\n"
     ]
    },
    {
     "name": "stdout",
     "output_type": "stream",
     "text": [
      "XGBoost  (3-fold Avg): 17348.8617\n",
      "XGBoost  (3-fold Max): 18004.5614 \t 4.858s\n",
      "LightGBM (3-fold Avg): 16729.4079\n",
      "LightGBM (3-fold Max): 17390.8261 \t 4.387s\n",
      "CatBoost (3-fold Avg): 14427.1479\n",
      "CatBoost (3-fold Max): 14972.6141 \t 18.163s\n"
     ]
    },
    {
     "name": "stderr",
     "output_type": "stream",
     "text": [
      "\u001b[32m[I 2021-09-07 19:28:57,073]\u001b[0m Trial 27 finished with value: 16168.472499999998 and parameters: {'math': True, 'count': True, 'group': True, 'cluster_dist': True, 'pca': False, 'target': False, 'drop_last': True}. Best is trial 26 with value: 15776.872933333332.\u001b[0m\n"
     ]
    },
    {
     "name": "stdout",
     "output_type": "stream",
     "text": [
      "XGBoost  (3-fold Avg): 17770.3514\n",
      "XGBoost  (3-fold Max): 18389.5722 \t 2.008s\n",
      "LightGBM (3-fold Avg): 16577.4662\n",
      "LightGBM (3-fold Max): 17139.9331 \t 1.629s\n",
      "CatBoost (3-fold Avg): 15150.8127\n",
      "CatBoost (3-fold Max): 15669.522 \t 11.176s\n"
     ]
    },
    {
     "name": "stderr",
     "output_type": "stream",
     "text": [
      "\u001b[32m[I 2021-09-07 19:29:12,899]\u001b[0m Trial 28 finished with value: 16499.543433333332 and parameters: {'math': False, 'count': True, 'group': False, 'cluster_dist': False, 'pca': False, 'target': False, 'drop_last': False}. Best is trial 26 with value: 15776.872933333332.\u001b[0m\n"
     ]
    },
    {
     "name": "stdout",
     "output_type": "stream",
     "text": [
      "XGBoost  (3-fold Avg): 17349.6126\n",
      "XGBoost  (3-fold Max): 17585.8226 \t 4.456s\n",
      "LightGBM (3-fold Avg): 16279.2098\n",
      "LightGBM (3-fold Max): 16949.6037 \t 4.439s\n",
      "CatBoost (3-fold Avg): 14783.8951\n",
      "CatBoost (3-fold Max): 15222.7436 \t 17.018s\n"
     ]
    },
    {
     "name": "stderr",
     "output_type": "stream",
     "text": [
      "\u001b[32m[I 2021-09-07 19:29:39,835]\u001b[0m Trial 29 finished with value: 16137.572500000002 and parameters: {'math': True, 'count': False, 'group': False, 'cluster_dist': True, 'pca': False, 'target': False, 'drop_last': True}. Best is trial 26 with value: 15776.872933333332.\u001b[0m\n"
     ]
    },
    {
     "name": "stdout",
     "output_type": "stream",
     "text": [
      "XGBoost  (3-fold Avg): 17094.9463\n",
      "XGBoost  (3-fold Max): 18207.4611 \t 2.425s\n",
      "LightGBM (3-fold Avg): 16112.5476\n",
      "LightGBM (3-fold Max): 16698.8386 \t 2.316s\n",
      "CatBoost (3-fold Avg): 14291.6821\n",
      "CatBoost (3-fold Max): 14759.7798 \t 8.783s\n"
     ]
    },
    {
     "name": "stderr",
     "output_type": "stream",
     "text": [
      "\u001b[32m[I 2021-09-07 19:29:54,381]\u001b[0m Trial 30 finished with value: 15833.058666666666 and parameters: {'math': False, 'count': True, 'group': False, 'cluster_dist': True, 'pca': True, 'target': True, 'drop_last': False}. Best is trial 26 with value: 15776.872933333332.\u001b[0m\n"
     ]
    },
    {
     "name": "stdout",
     "output_type": "stream",
     "text": [
      "XGBoost  (3-fold Avg): 16890.7517\n",
      "XGBoost  (3-fold Max): 17606.9722 \t 4.526s\n",
      "LightGBM (3-fold Avg): 16360.034\n",
      "LightGBM (3-fold Max): 16967.7201 \t 4.338s\n",
      "CatBoost (3-fold Avg): 14345.5187\n",
      "CatBoost (3-fold Max): 14784.6784 \t 14.123s\n"
     ]
    },
    {
     "name": "stderr",
     "output_type": "stream",
     "text": [
      "\u001b[32m[I 2021-09-07 19:30:18,389]\u001b[0m Trial 31 finished with value: 15865.4348 and parameters: {'math': True, 'count': True, 'group': True, 'cluster_dist': False, 'pca': True, 'target': True, 'drop_last': True}. Best is trial 26 with value: 15776.872933333332.\u001b[0m\n"
     ]
    },
    {
     "name": "stdout",
     "output_type": "stream",
     "text": [
      "XGBoost  (3-fold Avg): 17056.0035\n",
      "XGBoost  (3-fold Max): 18095.5161 \t 2.142s\n",
      "LightGBM (3-fold Avg): 16349.294\n",
      "LightGBM (3-fold Max): 16993.6694 \t 1.815s\n",
      "CatBoost (3-fold Avg): 14606.2999\n",
      "CatBoost (3-fold Max): 15290.6571 \t 8.968s\n"
     ]
    },
    {
     "name": "stderr",
     "output_type": "stream",
     "text": [
      "\u001b[32m[I 2021-09-07 19:30:32,337]\u001b[0m Trial 32 finished with value: 16003.8658 and parameters: {'math': False, 'count': False, 'group': True, 'cluster_dist': False, 'pca': True, 'target': False, 'drop_last': False}. Best is trial 26 with value: 15776.872933333332.\u001b[0m\n"
     ]
    },
    {
     "name": "stdout",
     "output_type": "stream",
     "text": [
      "XGBoost  (3-fold Avg): 17308.7527\n",
      "XGBoost  (3-fold Max): 18196.8029 \t 4.576s\n",
      "LightGBM (3-fold Avg): 16307.9684\n",
      "LightGBM (3-fold Max): 16936.1134 \t 4.315s\n",
      "CatBoost (3-fold Avg): 14285.5229\n",
      "CatBoost (3-fold Max): 15193.0086 \t 11.826s\n"
     ]
    },
    {
     "name": "stderr",
     "output_type": "stream",
     "text": [
      "\u001b[32m[I 2021-09-07 19:30:54,073]\u001b[0m Trial 33 finished with value: 15967.41466666667 and parameters: {'math': False, 'count': False, 'group': True, 'cluster_dist': True, 'pca': True, 'target': False, 'drop_last': True}. Best is trial 26 with value: 15776.872933333332.\u001b[0m\n"
     ]
    },
    {
     "name": "stdout",
     "output_type": "stream",
     "text": [
      "XGBoost  (3-fold Avg): 17988.7028\n",
      "XGBoost  (3-fold Max): 18843.7464 \t 3.785s\n",
      "LightGBM (3-fold Avg): 16711.3912\n",
      "LightGBM (3-fold Max): 17465.1916 \t 3.663s\n",
      "CatBoost (3-fold Avg): 15136.9236\n",
      "CatBoost (3-fold Max): 15734.5019 \t 13.924s\n"
     ]
    },
    {
     "name": "stderr",
     "output_type": "stream",
     "text": [
      "\u001b[32m[I 2021-09-07 19:31:16,456]\u001b[0m Trial 34 finished with value: 16612.3392 and parameters: {'math': False, 'count': False, 'group': False, 'cluster_dist': False, 'pca': False, 'target': False, 'drop_last': True}. Best is trial 26 with value: 15776.872933333332.\u001b[0m\n"
     ]
    },
    {
     "name": "stdout",
     "output_type": "stream",
     "text": [
      "XGBoost  (3-fold Avg): 17058.4484\n",
      "XGBoost  (3-fold Max): 17900.641 \t 2.806s\n",
      "LightGBM (3-fold Avg): 16339.3749\n",
      "LightGBM (3-fold Max): 16911.3193 \t 2.335s\n",
      "CatBoost (3-fold Avg): 14125.5255\n",
      "CatBoost (3-fold Max): 14583.9688 \t 10.643s\n"
     ]
    },
    {
     "name": "stderr",
     "output_type": "stream",
     "text": [
      "\u001b[32m[I 2021-09-07 19:31:33,260]\u001b[0m Trial 35 finished with value: 15841.11626666667 and parameters: {'math': True, 'count': False, 'group': True, 'cluster_dist': True, 'pca': True, 'target': True, 'drop_last': False}. Best is trial 26 with value: 15776.872933333332.\u001b[0m\n"
     ]
    },
    {
     "name": "stdout",
     "output_type": "stream",
     "text": [
      "XGBoost  (3-fold Avg): 18215.8929\n",
      "XGBoost  (3-fold Max): 18958.6211 \t 4.052s\n",
      "LightGBM (3-fold Avg): 16506.4281\n",
      "LightGBM (3-fold Max): 17132.1997 \t 3.68s\n",
      "CatBoost (3-fold Avg): 15055.7246\n",
      "CatBoost (3-fold Max): 15682.681 \t 11.349s\n"
     ]
    },
    {
     "name": "stderr",
     "output_type": "stream",
     "text": [
      "\u001b[32m[I 2021-09-07 19:31:53,365]\u001b[0m Trial 36 finished with value: 16592.681866666666 and parameters: {'math': False, 'count': True, 'group': False, 'cluster_dist': False, 'pca': False, 'target': False, 'drop_last': True}. Best is trial 26 with value: 15776.872933333332.\u001b[0m\n"
     ]
    },
    {
     "name": "stdout",
     "output_type": "stream",
     "text": [
      "XGBoost  (3-fold Avg): 17173.8727\n",
      "XGBoost  (3-fold Max): 18136.1141 \t 1.895s\n",
      "LightGBM (3-fold Avg): 16096.8338\n",
      "LightGBM (3-fold Max): 16434.0747 \t 1.785s\n",
      "CatBoost (3-fold Avg): 14811.3066\n",
      "CatBoost (3-fold Max): 15259.5257 \t 11.726s\n"
     ]
    },
    {
     "name": "stderr",
     "output_type": "stream",
     "text": [
      "\u001b[32m[I 2021-09-07 19:32:09,792]\u001b[0m Trial 37 finished with value: 16027.337699999998 and parameters: {'math': False, 'count': False, 'group': False, 'cluster_dist': False, 'pca': True, 'target': False, 'drop_last': False}. Best is trial 26 with value: 15776.872933333332.\u001b[0m\n"
     ]
    },
    {
     "name": "stdout",
     "output_type": "stream",
     "text": [
      "XGBoost  (3-fold Avg): 16928.2419\n",
      "XGBoost  (3-fold Max): 18177.5403 \t 2.399s\n",
      "LightGBM (3-fold Avg): 16370.0481\n",
      "LightGBM (3-fold Max): 16840.1842 \t 2.248s\n",
      "CatBoost (3-fold Avg): 14329.538\n",
      "CatBoost (3-fold Max): 14984.4568 \t 10.362s\n"
     ]
    },
    {
     "name": "stderr",
     "output_type": "stream",
     "text": [
      "\u001b[32m[I 2021-09-07 19:32:25,819]\u001b[0m Trial 38 finished with value: 15875.942666666668 and parameters: {'math': False, 'count': False, 'group': True, 'cluster_dist': True, 'pca': True, 'target': True, 'drop_last': False}. Best is trial 26 with value: 15776.872933333332.\u001b[0m\n"
     ]
    },
    {
     "name": "stdout",
     "output_type": "stream",
     "text": [
      "XGBoost  (3-fold Avg): 17338.3016\n",
      "XGBoost  (3-fold Max): 17895.2025 \t 4.805s\n",
      "LightGBM (3-fold Avg): 16544.3854\n",
      "LightGBM (3-fold Max): 17051.9374 \t 4.627s\n",
      "CatBoost (3-fold Avg): 14051.2608\n",
      "CatBoost (3-fold Max): 14319.1562 \t 21.113s\n"
     ]
    },
    {
     "name": "stderr",
     "output_type": "stream",
     "text": [
      "\u001b[32m[I 2021-09-07 19:32:57,372]\u001b[0m Trial 39 finished with value: 15977.982599999998 and parameters: {'math': True, 'count': False, 'group': False, 'cluster_dist': True, 'pca': False, 'target': True, 'drop_last': True}. Best is trial 26 with value: 15776.872933333332.\u001b[0m\n"
     ]
    },
    {
     "name": "stdout",
     "output_type": "stream",
     "text": [
      "XGBoost  (3-fold Avg): 17365.2033\n",
      "XGBoost  (3-fold Max): 17642.3651 \t 4.571s\n",
      "LightGBM (3-fold Avg): 16579.1509\n",
      "LightGBM (3-fold Max): 17061.3409 \t 4.246s\n",
      "CatBoost (3-fold Avg): 14198.7344\n",
      "CatBoost (3-fold Max): 14714.9294 \t 13.021s\n"
     ]
    },
    {
     "name": "stderr",
     "output_type": "stream",
     "text": [
      "\u001b[32m[I 2021-09-07 19:33:20,224]\u001b[0m Trial 40 finished with value: 16047.6962 and parameters: {'math': True, 'count': True, 'group': True, 'cluster_dist': False, 'pca': False, 'target': True, 'drop_last': True}. Best is trial 26 with value: 15776.872933333332.\u001b[0m\n"
     ]
    },
    {
     "name": "stdout",
     "output_type": "stream",
     "text": [
      "XGBoost  (3-fold Avg): 17071.0656\n",
      "XGBoost  (3-fold Max): 18199.5171 \t 4.499s\n",
      "LightGBM (3-fold Avg): 16167.1582\n",
      "LightGBM (3-fold Max): 16852.5731 \t 4.333s\n",
      "CatBoost (3-fold Avg): 14849.2623\n",
      "CatBoost (3-fold Max): 15546.6583 \t 11.118s\n"
     ]
    },
    {
     "name": "stderr",
     "output_type": "stream",
     "text": [
      "\u001b[32m[I 2021-09-07 19:33:41,185]\u001b[0m Trial 41 finished with value: 16029.162033333334 and parameters: {'math': False, 'count': True, 'group': False, 'cluster_dist': True, 'pca': True, 'target': False, 'drop_last': True}. Best is trial 26 with value: 15776.872933333332.\u001b[0m\n"
     ]
    },
    {
     "name": "stdout",
     "output_type": "stream",
     "text": [
      "XGBoost  (3-fold Avg): 17273.0578\n",
      "XGBoost  (3-fold Max): 18220.548 \t 1.933s\n",
      "LightGBM (3-fold Avg): 16383.8305\n",
      "LightGBM (3-fold Max): 17170.7174 \t 1.853s\n",
      "CatBoost (3-fold Avg): 14419.6065\n",
      "CatBoost (3-fold Max): 14997.785 \t 9.521s\n"
     ]
    },
    {
     "name": "stderr",
     "output_type": "stream",
     "text": [
      "\u001b[32m[I 2021-09-07 19:33:55,510]\u001b[0m Trial 42 finished with value: 16025.498266666667 and parameters: {'math': False, 'count': True, 'group': True, 'cluster_dist': False, 'pca': True, 'target': False, 'drop_last': False}. Best is trial 26 with value: 15776.872933333332.\u001b[0m\n"
     ]
    },
    {
     "name": "stdout",
     "output_type": "stream",
     "text": [
      "XGBoost  (3-fold Avg): 17662.9724\n",
      "XGBoost  (3-fold Max): 18090.8123 \t 4.698s\n",
      "LightGBM (3-fold Avg): 16378.6119\n",
      "LightGBM (3-fold Max): 16845.7532 \t 4.535s\n",
      "CatBoost (3-fold Avg): 14401.8919\n",
      "CatBoost (3-fold Max): 14786.9886 \t 13.353s\n"
     ]
    },
    {
     "name": "stderr",
     "output_type": "stream",
     "text": [
      "\u001b[32m[I 2021-09-07 19:34:19,109]\u001b[0m Trial 43 finished with value: 16147.825400000002 and parameters: {'math': False, 'count': False, 'group': False, 'cluster_dist': True, 'pca': False, 'target': True, 'drop_last': True}. Best is trial 26 with value: 15776.872933333332.\u001b[0m\n"
     ]
    },
    {
     "name": "stdout",
     "output_type": "stream",
     "text": [
      "XGBoost  (3-fold Avg): 16725.8029\n",
      "XGBoost  (3-fold Max): 17769.7487 \t 2.345s\n",
      "LightGBM (3-fold Avg): 16311.5051\n",
      "LightGBM (3-fold Max): 16928.9896 \t 2.038s\n",
      "CatBoost (3-fold Avg): 14320.0606\n",
      "CatBoost (3-fold Max): 14981.3695 \t 9.991s\n"
     ]
    },
    {
     "name": "stderr",
     "output_type": "stream",
     "text": [
      "\u001b[32m[I 2021-09-07 19:34:34,491]\u001b[0m Trial 44 finished with value: 15785.789533333334 and parameters: {'math': True, 'count': False, 'group': False, 'cluster_dist': False, 'pca': True, 'target': True, 'drop_last': False}. Best is trial 26 with value: 15776.872933333332.\u001b[0m\n"
     ]
    },
    {
     "name": "stdout",
     "output_type": "stream",
     "text": [
      "XGBoost  (3-fold Avg): 17318.4996\n",
      "XGBoost  (3-fold Max): 18040.65 \t 2.462s\n",
      "LightGBM (3-fold Avg): 16539.976\n",
      "LightGBM (3-fold Max): 16997.2477 \t 2.29s\n",
      "CatBoost (3-fold Avg): 14138.7162\n",
      "CatBoost (3-fold Max): 14579.8257 \t 12.043s\n"
     ]
    },
    {
     "name": "stderr",
     "output_type": "stream",
     "text": [
      "\u001b[32m[I 2021-09-07 19:34:52,309]\u001b[0m Trial 45 finished with value: 15999.063933333333 and parameters: {'math': True, 'count': False, 'group': False, 'cluster_dist': True, 'pca': False, 'target': True, 'drop_last': False}. Best is trial 26 with value: 15776.872933333332.\u001b[0m\n"
     ]
    },
    {
     "name": "stdout",
     "output_type": "stream",
     "text": [
      "XGBoost  (3-fold Avg): 17028.9274\n",
      "XGBoost  (3-fold Max): 17381.2864 \t 2.291s\n",
      "LightGBM (3-fold Avg): 16358.4543\n",
      "LightGBM (3-fold Max): 16795.0215 \t 2.024s\n",
      "CatBoost (3-fold Avg): 14405.5069\n",
      "CatBoost (3-fold Max): 14922.0275 \t 10.532s\n"
     ]
    },
    {
     "name": "stderr",
     "output_type": "stream",
     "text": [
      "\u001b[32m[I 2021-09-07 19:35:08,169]\u001b[0m Trial 46 finished with value: 15930.962866666667 and parameters: {'math': False, 'count': True, 'group': True, 'cluster_dist': False, 'pca': True, 'target': True, 'drop_last': False}. Best is trial 26 with value: 15776.872933333332.\u001b[0m\n"
     ]
    },
    {
     "name": "stdout",
     "output_type": "stream",
     "text": [
      "XGBoost  (3-fold Avg): 17314.1981\n",
      "XGBoost  (3-fold Max): 17569.3577 \t 4.782s\n",
      "LightGBM (3-fold Avg): 16277.4563\n",
      "LightGBM (3-fold Max): 16564.0817 \t 4.589s\n",
      "CatBoost (3-fold Avg): 14450.2334\n",
      "CatBoost (3-fold Max): 14780.3352 \t 15.704s\n"
     ]
    },
    {
     "name": "stderr",
     "output_type": "stream",
     "text": [
      "\u001b[32m[I 2021-09-07 19:35:34,267]\u001b[0m Trial 47 finished with value: 16013.962599999999 and parameters: {'math': False, 'count': False, 'group': True, 'cluster_dist': True, 'pca': False, 'target': True, 'drop_last': True}. Best is trial 26 with value: 15776.872933333332.\u001b[0m\n"
     ]
    },
    {
     "name": "stdout",
     "output_type": "stream",
     "text": [
      "XGBoost  (3-fold Avg): 17946.6165\n",
      "XGBoost  (3-fold Max): 18877.2923 \t 2.267s\n",
      "LightGBM (3-fold Avg): 16468.4455\n",
      "LightGBM (3-fold Max): 16666.6208 \t 2.012s\n",
      "CatBoost (3-fold Avg): 14826.5159\n",
      "CatBoost (3-fold Max): 15173.4145 \t 10.922s\n"
     ]
    },
    {
     "name": "stderr",
     "output_type": "stream",
     "text": [
      "\u001b[32m[I 2021-09-07 19:35:50,494]\u001b[0m Trial 48 finished with value: 16413.8593 and parameters: {'math': False, 'count': True, 'group': False, 'cluster_dist': True, 'pca': False, 'target': False, 'drop_last': False}. Best is trial 26 with value: 15776.872933333332.\u001b[0m\n"
     ]
    },
    {
     "name": "stdout",
     "output_type": "stream",
     "text": [
      "XGBoost  (3-fold Avg): 16878.9873\n",
      "XGBoost  (3-fold Max): 17480.7286 \t 4.417s\n",
      "LightGBM (3-fold Avg): 16349.9693\n",
      "LightGBM (3-fold Max): 16644.9701 \t 4.104s\n",
      "CatBoost (3-fold Avg): 14201.8839\n",
      "CatBoost (3-fold Max): 14623.2064 \t 12.022s\n"
     ]
    },
    {
     "name": "stderr",
     "output_type": "stream",
     "text": [
      "\u001b[32m[I 2021-09-07 19:36:12,054]\u001b[0m Trial 49 finished with value: 15810.28016666667 and parameters: {'math': False, 'count': True, 'group': False, 'cluster_dist': False, 'pca': True, 'target': True, 'drop_last': True}. Best is trial 26 with value: 15776.872933333332.\u001b[0m\n"
     ]
    },
    {
     "name": "stdout",
     "output_type": "stream",
     "text": [
      "XGBoost  (3-fold Avg): 17825.7893\n",
      "XGBoost  (3-fold Max): 18494.1449 \t 4.555s\n",
      "LightGBM (3-fold Avg): 16111.3156\n",
      "LightGBM (3-fold Max): 16751.3647 \t 4.44s\n",
      "CatBoost (3-fold Avg): 14645.8743\n",
      "CatBoost (3-fold Max): 15353.5991 \t 13.13s\n"
     ]
    },
    {
     "name": "stderr",
     "output_type": "stream",
     "text": [
      "\u001b[32m[I 2021-09-07 19:36:35,195]\u001b[0m Trial 50 finished with value: 16194.3264 and parameters: {'math': True, 'count': False, 'group': False, 'cluster_dist': True, 'pca': True, 'target': False, 'drop_last': True}. Best is trial 26 with value: 15776.872933333332.\u001b[0m\n"
     ]
    },
    {
     "name": "stdout",
     "output_type": "stream",
     "text": [
      "XGBoost  (3-fold Avg): 16879.9692\n",
      "XGBoost  (3-fold Max): 17571.6641 \t 5.374s\n",
      "LightGBM (3-fold Avg): 16232.4525\n",
      "LightGBM (3-fold Max): 16822.8103 \t 4.704s\n",
      "CatBoost (3-fold Avg): 14138.275\n",
      "CatBoost (3-fold Max): 14689.2325 \t 13.582s\n"
     ]
    },
    {
     "name": "stderr",
     "output_type": "stream",
     "text": [
      "\u001b[32m[I 2021-09-07 19:36:59,865]\u001b[0m Trial 51 finished with value: 15750.232233333334 and parameters: {'math': True, 'count': False, 'group': False, 'cluster_dist': True, 'pca': True, 'target': True, 'drop_last': True}. Best is trial 51 with value: 15750.232233333334.\u001b[0m\n"
     ]
    },
    {
     "name": "stdout",
     "output_type": "stream",
     "text": [
      "XGBoost  (3-fold Avg): 17382.1029\n",
      "XGBoost  (3-fold Max): 18017.0621 \t 4.464s\n",
      "LightGBM (3-fold Avg): 16677.7533\n",
      "LightGBM (3-fold Max): 17187.8399 \t 4.161s\n",
      "CatBoost (3-fold Avg): 14313.4535\n",
      "CatBoost (3-fold Max): 14761.1792 \t 12.774s\n"
     ]
    },
    {
     "name": "stderr",
     "output_type": "stream",
     "text": [
      "\u001b[32m[I 2021-09-07 19:37:22,285]\u001b[0m Trial 52 finished with value: 16124.436566666665 and parameters: {'math': True, 'count': False, 'group': False, 'cluster_dist': False, 'pca': False, 'target': True, 'drop_last': True}. Best is trial 51 with value: 15750.232233333334.\u001b[0m\n"
     ]
    },
    {
     "name": "stdout",
     "output_type": "stream",
     "text": [
      "XGBoost  (3-fold Avg): 17506.8896\n",
      "XGBoost  (3-fold Max): 17984.5947 \t 4.933s\n",
      "LightGBM (3-fold Avg): 16435.3372\n",
      "LightGBM (3-fold Max): 16949.1936 \t 4.698s\n",
      "CatBoost (3-fold Avg): 14191.8232\n",
      "CatBoost (3-fold Max): 14897.5492 \t 15.11s\n"
     ]
    },
    {
     "name": "stderr",
     "output_type": "stream",
     "text": [
      "\u001b[32m[I 2021-09-07 19:37:48,042]\u001b[0m Trial 53 finished with value: 16044.683333333334 and parameters: {'math': True, 'count': True, 'group': False, 'cluster_dist': True, 'pca': False, 'target': True, 'drop_last': True}. Best is trial 51 with value: 15750.232233333334.\u001b[0m\n"
     ]
    },
    {
     "name": "stdout",
     "output_type": "stream",
     "text": [
      "XGBoost  (3-fold Avg): 17631.3335\n",
      "XGBoost  (3-fold Max): 18363.6619 \t 4.094s\n",
      "LightGBM (3-fold Avg): 16411.7568\n",
      "LightGBM (3-fold Max): 17028.7741 \t 3.883s\n",
      "CatBoost (3-fold Avg): 14439.0694\n",
      "CatBoost (3-fold Max): 14918.4347 \t 10.669s\n"
     ]
    },
    {
     "name": "stderr",
     "output_type": "stream",
     "text": [
      "\u001b[32m[I 2021-09-07 19:38:07,704]\u001b[0m Trial 54 finished with value: 16160.719899999998 and parameters: {'math': True, 'count': False, 'group': True, 'cluster_dist': False, 'pca': False, 'target': False, 'drop_last': True}. Best is trial 51 with value: 15750.232233333334.\u001b[0m\n"
     ]
    },
    {
     "name": "stdout",
     "output_type": "stream",
     "text": [
      "XGBoost  (3-fold Avg): 17320.6705\n",
      "XGBoost  (3-fold Max): 17994.6646 \t 4.868s\n",
      "LightGBM (3-fold Avg): 16670.0052\n",
      "LightGBM (3-fold Max): 17667.3914 \t 4.384s\n",
      "CatBoost (3-fold Avg): 14389.8017\n",
      "CatBoost (3-fold Max): 14866.6296 \t 20.867s\n"
     ]
    },
    {
     "name": "stderr",
     "output_type": "stream",
     "text": [
      "\u001b[32m[I 2021-09-07 19:38:38,839]\u001b[0m Trial 55 finished with value: 16126.8258 and parameters: {'math': True, 'count': False, 'group': True, 'cluster_dist': True, 'pca': False, 'target': False, 'drop_last': True}. Best is trial 51 with value: 15750.232233333334.\u001b[0m\n"
     ]
    },
    {
     "name": "stdout",
     "output_type": "stream",
     "text": [
      "XGBoost  (3-fold Avg): 17022.0785\n",
      "XGBoost  (3-fold Max): 18043.177 \t 4.916s\n",
      "LightGBM (3-fold Avg): 16254.2192\n",
      "LightGBM (3-fold Max): 16702.057 \t 4.514s\n",
      "CatBoost (3-fold Avg): 14309.1624\n",
      "CatBoost (3-fold Max): 14782.428 \t 11.197s\n"
     ]
    },
    {
     "name": "stderr",
     "output_type": "stream",
     "text": [
      "\u001b[32m[I 2021-09-07 19:39:00,475]\u001b[0m Trial 56 finished with value: 15861.820033333332 and parameters: {'math': False, 'count': True, 'group': True, 'cluster_dist': True, 'pca': True, 'target': True, 'drop_last': True}. Best is trial 51 with value: 15750.232233333334.\u001b[0m\n"
     ]
    },
    {
     "name": "stdout",
     "output_type": "stream",
     "text": [
      "XGBoost  (3-fold Avg): 17438.4748\n",
      "XGBoost  (3-fold Max): 17639.327 \t 2.136s\n",
      "LightGBM (3-fold Avg): 16341.4648\n",
      "LightGBM (3-fold Max): 16934.9977 \t 2.041s\n",
      "CatBoost (3-fold Avg): 14525.3257\n",
      "CatBoost (3-fold Max): 15037.321 \t 13.019s\n"
     ]
    },
    {
     "name": "stderr",
     "output_type": "stream",
     "text": [
      "\u001b[32m[I 2021-09-07 19:39:18,692]\u001b[0m Trial 57 finished with value: 16101.7551 and parameters: {'math': True, 'count': False, 'group': False, 'cluster_dist': True, 'pca': False, 'target': False, 'drop_last': False}. Best is trial 51 with value: 15750.232233333334.\u001b[0m\n"
     ]
    },
    {
     "name": "stdout",
     "output_type": "stream",
     "text": [
      "XGBoost  (3-fold Avg): 17673.338\n",
      "XGBoost  (3-fold Max): 18377.4757 \t 2.136s\n",
      "LightGBM (3-fold Avg): 16207.1803\n",
      "LightGBM (3-fold Max): 16902.8738 \t 2.124s\n",
      "CatBoost (3-fold Avg): 14702.2727\n",
      "CatBoost (3-fold Max): 15527.0414 \t 10.302s\n"
     ]
    },
    {
     "name": "stderr",
     "output_type": "stream",
     "text": [
      "\u001b[32m[I 2021-09-07 19:39:34,269]\u001b[0m Trial 58 finished with value: 16194.263666666666 and parameters: {'math': True, 'count': False, 'group': False, 'cluster_dist': True, 'pca': True, 'target': False, 'drop_last': False}. Best is trial 51 with value: 15750.232233333334.\u001b[0m\n"
     ]
    },
    {
     "name": "stdout",
     "output_type": "stream",
     "text": [
      "XGBoost  (3-fold Avg): 16711.598\n",
      "XGBoost  (3-fold Max): 17494.9791 \t 4.837s\n",
      "LightGBM (3-fold Avg): 16179.6177\n",
      "LightGBM (3-fold Max): 16877.8646 \t 4.73s\n",
      "CatBoost (3-fold Avg): 14246.5644\n",
      "CatBoost (3-fold Max): 14985.5779 \t 12.046s\n"
     ]
    },
    {
     "name": "stderr",
     "output_type": "stream",
     "text": [
      "\u001b[32m[I 2021-09-07 19:39:56,902]\u001b[0m Trial 59 finished with value: 15712.593366666668 and parameters: {'math': True, 'count': False, 'group': True, 'cluster_dist': True, 'pca': True, 'target': True, 'drop_last': True}. Best is trial 59 with value: 15712.593366666668.\u001b[0m\n"
     ]
    },
    {
     "name": "stdout",
     "output_type": "stream",
     "text": [
      "XGBoost  (3-fold Avg): 16652.362\n",
      "XGBoost  (3-fold Max): 17067.7064 \t 5.033s\n",
      "LightGBM (3-fold Avg): 16646.9589\n",
      "LightGBM (3-fold Max): 17341.8605 \t 4.668s\n",
      "CatBoost (3-fold Avg): 14243.9112\n",
      "CatBoost (3-fold Max): 14669.2189 \t 15.634s\n"
     ]
    },
    {
     "name": "stderr",
     "output_type": "stream",
     "text": [
      "\u001b[32m[I 2021-09-07 19:40:23,254]\u001b[0m Trial 60 finished with value: 15847.744033333336 and parameters: {'math': True, 'count': True, 'group': True, 'cluster_dist': True, 'pca': False, 'target': True, 'drop_last': True}. Best is trial 59 with value: 15712.593366666668.\u001b[0m\n"
     ]
    },
    {
     "name": "stdout",
     "output_type": "stream",
     "text": [
      "XGBoost  (3-fold Avg): 17740.5268\n",
      "XGBoost  (3-fold Max): 18746.192 \t 3.839s\n",
      "LightGBM (3-fold Avg): 16658.6334\n",
      "LightGBM (3-fold Max): 17485.6168 \t 3.711s\n",
      "CatBoost (3-fold Avg): 14637.1969\n",
      "CatBoost (3-fold Max): 15140.7877 \t 14.78s\n"
     ]
    },
    {
     "name": "stderr",
     "output_type": "stream",
     "text": [
      "\u001b[32m[I 2021-09-07 19:40:46,601]\u001b[0m Trial 61 finished with value: 16345.452366666666 and parameters: {'math': False, 'count': False, 'group': True, 'cluster_dist': False, 'pca': False, 'target': False, 'drop_last': True}. Best is trial 59 with value: 15712.593366666668.\u001b[0m\n"
     ]
    },
    {
     "name": "stdout",
     "output_type": "stream",
     "text": [
      "XGBoost  (3-fold Avg): 17535.3169\n",
      "XGBoost  (3-fold Max): 18092.1251 \t 2.166s\n",
      "LightGBM (3-fold Avg): 16657.2253\n",
      "LightGBM (3-fold Max): 17131.5159 \t 1.924s\n",
      "CatBoost (3-fold Avg): 14478.1503\n",
      "CatBoost (3-fold Max): 14892.9031 \t 10.47s\n"
     ]
    },
    {
     "name": "stderr",
     "output_type": "stream",
     "text": [
      "\u001b[32m[I 2021-09-07 19:41:02,181]\u001b[0m Trial 62 finished with value: 16223.564166666665 and parameters: {'math': True, 'count': True, 'group': False, 'cluster_dist': False, 'pca': False, 'target': True, 'drop_last': False}. Best is trial 59 with value: 15712.593366666668.\u001b[0m\n"
     ]
    },
    {
     "name": "stdout",
     "output_type": "stream",
     "text": [
      "XGBoost  (3-fold Avg): 17125.5865\n",
      "XGBoost  (3-fold Max): 17272.739 \t 4.593s\n",
      "LightGBM (3-fold Avg): 16239.5547\n",
      "LightGBM (3-fold Max): 16640.3209 \t 4.539s\n",
      "CatBoost (3-fold Avg): 14181.4355\n",
      "CatBoost (3-fold Max): 14424.0443 \t 16.884s\n"
     ]
    },
    {
     "name": "stderr",
     "output_type": "stream",
     "text": [
      "\u001b[32m[I 2021-09-07 19:41:29,223]\u001b[0m Trial 63 finished with value: 15848.8589 and parameters: {'math': False, 'count': True, 'group': False, 'cluster_dist': True, 'pca': False, 'target': True, 'drop_last': True}. Best is trial 59 with value: 15712.593366666668.\u001b[0m\n"
     ]
    },
    {
     "name": "stdout",
     "output_type": "stream",
     "text": [
      "XGBoost  (3-fold Avg): 17488.5638\n",
      "XGBoost  (3-fold Max): 18539.7984 \t 4.211s\n",
      "LightGBM (3-fold Avg): 16593.5197\n",
      "LightGBM (3-fold Max): 17055.5459 \t 4.061s\n",
      "CatBoost (3-fold Avg): 14384.9756\n",
      "CatBoost (3-fold Max): 14854.7518 \t 13.782s\n"
     ]
    },
    {
     "name": "stderr",
     "output_type": "stream",
     "text": [
      "\u001b[32m[I 2021-09-07 19:41:52,304]\u001b[0m Trial 64 finished with value: 16155.686366666667 and parameters: {'math': True, 'count': False, 'group': True, 'cluster_dist': False, 'pca': True, 'target': False, 'drop_last': True}. Best is trial 59 with value: 15712.593366666668.\u001b[0m\n"
     ]
    },
    {
     "name": "stdout",
     "output_type": "stream",
     "text": [
      "XGBoost  (3-fold Avg): 17210.553\n",
      "XGBoost  (3-fold Max): 18308.6802 \t 2.399s\n",
      "LightGBM (3-fold Avg): 16216.1029\n",
      "LightGBM (3-fold Max): 16691.606 \t 2.18s\n",
      "CatBoost (3-fold Avg): 14258.0211\n",
      "CatBoost (3-fold Max): 14447.6137 \t 13.442s\n"
     ]
    },
    {
     "name": "stderr",
     "output_type": "stream",
     "text": [
      "\u001b[32m[I 2021-09-07 19:42:11,342]\u001b[0m Trial 65 finished with value: 15894.892333333331 and parameters: {'math': False, 'count': False, 'group': False, 'cluster_dist': True, 'pca': False, 'target': True, 'drop_last': False}. Best is trial 59 with value: 15712.593366666668.\u001b[0m\n"
     ]
    },
    {
     "name": "stdout",
     "output_type": "stream",
     "text": [
      "XGBoost  (3-fold Avg): 16943.4798\n",
      "XGBoost  (3-fold Max): 17673.5783 \t 2.56s\n",
      "LightGBM (3-fold Avg): 16245.5415\n",
      "LightGBM (3-fold Max): 16694.7707 \t 2.321s\n",
      "CatBoost (3-fold Avg): 14028.0062\n",
      "CatBoost (3-fold Max): 14597.1475 \t 10.341s\n"
     ]
    },
    {
     "name": "stderr",
     "output_type": "stream",
     "text": [
      "\u001b[32m[I 2021-09-07 19:42:27,579]\u001b[0m Trial 66 finished with value: 15739.009166666665 and parameters: {'math': True, 'count': True, 'group': True, 'cluster_dist': True, 'pca': True, 'target': True, 'drop_last': False}. Best is trial 59 with value: 15712.593366666668.\u001b[0m\n"
     ]
    },
    {
     "name": "stdout",
     "output_type": "stream",
     "text": [
      "XGBoost  (3-fold Avg): 17335.1191\n",
      "XGBoost  (3-fold Max): 17898.417 \t 4.033s\n",
      "LightGBM (3-fold Avg): 16552.9468\n",
      "LightGBM (3-fold Max): 17399.6621 \t 3.9s\n",
      "CatBoost (3-fold Avg): 14414.6906\n",
      "CatBoost (3-fold Max): 14919.5979 \t 11.456s\n"
     ]
    },
    {
     "name": "stderr",
     "output_type": "stream",
     "text": [
      "\u001b[32m[I 2021-09-07 19:42:47,981]\u001b[0m Trial 67 finished with value: 16100.918833333335 and parameters: {'math': True, 'count': True, 'group': True, 'cluster_dist': False, 'pca': False, 'target': False, 'drop_last': True}. Best is trial 59 with value: 15712.593366666668.\u001b[0m\n"
     ]
    },
    {
     "name": "stdout",
     "output_type": "stream",
     "text": [
      "XGBoost  (3-fold Avg): 17080.6032\n",
      "XGBoost  (3-fold Max): 18591.4403 \t 2.54s\n",
      "LightGBM (3-fold Avg): 16369.0712\n",
      "LightGBM (3-fold Max): 16823.3003 \t 2.253s\n",
      "CatBoost (3-fold Avg): 14138.5484\n",
      "CatBoost (3-fold Max): 14704.8089 \t 10.492s\n"
     ]
    },
    {
     "name": "stderr",
     "output_type": "stream",
     "text": [
      "\u001b[32m[I 2021-09-07 19:43:04,285]\u001b[0m Trial 68 finished with value: 15862.740933333334 and parameters: {'math': False, 'count': True, 'group': True, 'cluster_dist': True, 'pca': True, 'target': True, 'drop_last': False}. Best is trial 59 with value: 15712.593366666668.\u001b[0m\n"
     ]
    },
    {
     "name": "stdout",
     "output_type": "stream",
     "text": [
      "XGBoost  (3-fold Avg): 17234.9114\n",
      "XGBoost  (3-fold Max): 18047.4469 \t 4.456s\n",
      "LightGBM (3-fold Avg): 16458.3799\n",
      "LightGBM (3-fold Max): 17282.0778 \t 4.041s\n",
      "CatBoost (3-fold Avg): 14340.6645\n",
      "CatBoost (3-fold Max): 15070.8143 \t 11.945s\n"
     ]
    },
    {
     "name": "stderr",
     "output_type": "stream",
     "text": [
      "\u001b[32m[I 2021-09-07 19:43:25,743]\u001b[0m Trial 69 finished with value: 16011.318599999999 and parameters: {'math': True, 'count': True, 'group': True, 'cluster_dist': False, 'pca': True, 'target': False, 'drop_last': True}. Best is trial 59 with value: 15712.593366666668.\u001b[0m\n"
     ]
    },
    {
     "name": "stdout",
     "output_type": "stream",
     "text": [
      "XGBoost  (3-fold Avg): 17710.0494\n",
      "XGBoost  (3-fold Max): 18857.7952 \t 4.344s\n",
      "LightGBM (3-fold Avg): 16465.6986\n",
      "LightGBM (3-fold Max): 17062.4281 \t 4.012s\n",
      "CatBoost (3-fold Avg): 15037.2321\n",
      "CatBoost (3-fold Max): 15401.4144 \t 10.498s\n"
     ]
    },
    {
     "name": "stderr",
     "output_type": "stream",
     "text": [
      "\u001b[32m[I 2021-09-07 19:43:45,618]\u001b[0m Trial 70 finished with value: 16404.3267 and parameters: {'math': True, 'count': False, 'group': False, 'cluster_dist': False, 'pca': True, 'target': False, 'drop_last': True}. Best is trial 59 with value: 15712.593366666668.\u001b[0m\n"
     ]
    },
    {
     "name": "stdout",
     "output_type": "stream",
     "text": [
      "XGBoost  (3-fold Avg): 17400.3329\n",
      "XGBoost  (3-fold Max): 18616.4546 \t 2.27s\n",
      "LightGBM (3-fold Avg): 16188.4166\n",
      "LightGBM (3-fold Max): 16827.2462 \t 2.03s\n",
      "CatBoost (3-fold Avg): 14410.6344\n",
      "CatBoost (3-fold Max): 15016.2067 \t 10.872s\n"
     ]
    },
    {
     "name": "stderr",
     "output_type": "stream",
     "text": [
      "\u001b[32m[I 2021-09-07 19:44:01,799]\u001b[0m Trial 71 finished with value: 15999.794633333337 and parameters: {'math': False, 'count': False, 'group': True, 'cluster_dist': True, 'pca': True, 'target': False, 'drop_last': False}. Best is trial 59 with value: 15712.593366666668.\u001b[0m\n"
     ]
    },
    {
     "name": "stdout",
     "output_type": "stream",
     "text": [
      "XGBoost  (3-fold Avg): 16928.963\n",
      "XGBoost  (3-fold Max): 17788.1364 \t 2.441s\n",
      "LightGBM (3-fold Avg): 16134.8192\n",
      "LightGBM (3-fold Max): 16604.6019 \t 2.331s\n",
      "CatBoost (3-fold Avg): 14062.0705\n",
      "CatBoost (3-fold Max): 14534.122 \t 8.787s\n"
     ]
    },
    {
     "name": "stderr",
     "output_type": "stream",
     "text": [
      "\u001b[32m[I 2021-09-07 19:44:16,376]\u001b[0m Trial 72 finished with value: 15708.617566666668 and parameters: {'math': True, 'count': True, 'group': False, 'cluster_dist': True, 'pca': True, 'target': True, 'drop_last': False}. Best is trial 72 with value: 15708.617566666668.\u001b[0m\n"
     ]
    },
    {
     "name": "stdout",
     "output_type": "stream",
     "text": [
      "XGBoost  (3-fold Avg): 17171.481\n",
      "XGBoost  (3-fold Max): 17738.5653 \t 4.301s\n",
      "LightGBM (3-fold Avg): 16397.1936\n",
      "LightGBM (3-fold Max): 16701.7372 \t 4.114s\n",
      "CatBoost (3-fold Avg): 14227.4542\n",
      "CatBoost (3-fold Max): 14636.9881 \t 14.105s\n"
     ]
    },
    {
     "name": "stderr",
     "output_type": "stream",
     "text": [
      "\u001b[32m[I 2021-09-07 19:44:39,919]\u001b[0m Trial 73 finished with value: 15932.042933333332 and parameters: {'math': False, 'count': False, 'group': True, 'cluster_dist': False, 'pca': True, 'target': True, 'drop_last': True}. Best is trial 72 with value: 15708.617566666668.\u001b[0m\n"
     ]
    },
    {
     "name": "stdout",
     "output_type": "stream",
     "text": [
      "XGBoost  (3-fold Avg): 16810.3026\n",
      "XGBoost  (3-fold Max): 17332.9741 \t 2.262s\n",
      "LightGBM (3-fold Avg): 16407.9763\n",
      "LightGBM (3-fold Max): 16866.3034 \t 2.018s\n",
      "CatBoost (3-fold Avg): 14260.1466\n",
      "CatBoost (3-fold Max): 14856.8532 \t 10.841s\n"
     ]
    },
    {
     "name": "stderr",
     "output_type": "stream",
     "text": [
      "\u001b[32m[I 2021-09-07 19:44:56,052]\u001b[0m Trial 74 finished with value: 15826.141833333333 and parameters: {'math': False, 'count': False, 'group': True, 'cluster_dist': False, 'pca': True, 'target': True, 'drop_last': False}. Best is trial 72 with value: 15708.617566666668.\u001b[0m\n"
     ]
    },
    {
     "name": "stdout",
     "output_type": "stream",
     "text": [
      "XGBoost  (3-fold Avg): 16832.385\n",
      "XGBoost  (3-fold Max): 17831.9736 \t 2.126s\n",
      "LightGBM (3-fold Avg): 16386.0991\n",
      "LightGBM (3-fold Max): 16832.9148 \t 2.033s\n",
      "CatBoost (3-fold Avg): 14129.5616\n",
      "CatBoost (3-fold Max): 14747.5907 \t 9.833s\n"
     ]
    },
    {
     "name": "stderr",
     "output_type": "stream",
     "text": [
      "\u001b[32m[I 2021-09-07 19:45:11,061]\u001b[0m Trial 75 finished with value: 15782.681900000001 and parameters: {'math': True, 'count': True, 'group': False, 'cluster_dist': False, 'pca': True, 'target': True, 'drop_last': False}. Best is trial 72 with value: 15708.617566666668.\u001b[0m\n"
     ]
    },
    {
     "name": "stdout",
     "output_type": "stream",
     "text": [
      "XGBoost  (3-fold Avg): 17368.5527\n",
      "XGBoost  (3-fold Max): 18057.6611 \t 2.119s\n",
      "LightGBM (3-fold Avg): 16627.5963\n",
      "LightGBM (3-fold Max): 17130.4014 \t 1.853s\n",
      "CatBoost (3-fold Avg): 14535.4082\n",
      "CatBoost (3-fold Max): 14884.9241 \t 9.799s\n"
     ]
    },
    {
     "name": "stderr",
     "output_type": "stream",
     "text": [
      "\u001b[32m[I 2021-09-07 19:45:25,857]\u001b[0m Trial 76 finished with value: 16177.185733333334 and parameters: {'math': False, 'count': True, 'group': True, 'cluster_dist': False, 'pca': False, 'target': True, 'drop_last': False}. Best is trial 72 with value: 15708.617566666668.\u001b[0m\n"
     ]
    },
    {
     "name": "stdout",
     "output_type": "stream",
     "text": [
      "XGBoost  (3-fold Avg): 16944.4337\n",
      "XGBoost  (3-fold Max): 17478.8711 \t 4.837s\n",
      "LightGBM (3-fold Avg): 16182.1387\n",
      "LightGBM (3-fold Max): 16686.1526 \t 4.709s\n",
      "CatBoost (3-fold Avg): 14098.8127\n",
      "CatBoost (3-fold Max): 14642.8118 \t 12.217s\n"
     ]
    },
    {
     "name": "stderr",
     "output_type": "stream",
     "text": [
      "\u001b[32m[I 2021-09-07 19:45:48,640]\u001b[0m Trial 77 finished with value: 15741.795033333336 and parameters: {'math': True, 'count': True, 'group': False, 'cluster_dist': True, 'pca': True, 'target': True, 'drop_last': True}. Best is trial 72 with value: 15708.617566666668.\u001b[0m\n"
     ]
    },
    {
     "name": "stdout",
     "output_type": "stream",
     "text": [
      "XGBoost  (3-fold Avg): 17576.2621\n",
      "XGBoost  (3-fold Max): 17824.5422 \t 4.541s\n",
      "LightGBM (3-fold Avg): 16313.8333\n",
      "LightGBM (3-fold Max): 16949.6037 \t 4.367s\n",
      "CatBoost (3-fold Avg): 14571.3374\n",
      "CatBoost (3-fold Max): 15014.0315 \t 16.536s\n"
     ]
    },
    {
     "name": "stderr",
     "output_type": "stream",
     "text": [
      "\u001b[32m[I 2021-09-07 19:46:15,115]\u001b[0m Trial 78 finished with value: 16153.810933333332 and parameters: {'math': True, 'count': True, 'group': False, 'cluster_dist': True, 'pca': False, 'target': False, 'drop_last': True}. Best is trial 72 with value: 15708.617566666668.\u001b[0m\n"
     ]
    },
    {
     "name": "stdout",
     "output_type": "stream",
     "text": [
      "XGBoost  (3-fold Avg): 17159.1246\n",
      "XGBoost  (3-fold Max): 17901.6871 \t 4.681s\n",
      "LightGBM (3-fold Avg): 16604.586\n",
      "LightGBM (3-fold Max): 17193.8065 \t 4.62s\n",
      "CatBoost (3-fold Avg): 14020.5052\n",
      "CatBoost (3-fold Max): 14576.1987 \t 18.986s\n"
     ]
    },
    {
     "name": "stderr",
     "output_type": "stream",
     "text": [
      "\u001b[32m[I 2021-09-07 19:46:44,427]\u001b[0m Trial 79 finished with value: 15928.071933333333 and parameters: {'math': True, 'count': False, 'group': True, 'cluster_dist': True, 'pca': False, 'target': True, 'drop_last': True}. Best is trial 72 with value: 15708.617566666668.\u001b[0m\n"
     ]
    },
    {
     "name": "stdout",
     "output_type": "stream",
     "text": [
      "XGBoost  (3-fold Avg): 17530.9741\n",
      "XGBoost  (3-fold Max): 18251.2869 \t 3.952s\n",
      "LightGBM (3-fold Avg): 16035.9742\n",
      "LightGBM (3-fold Max): 16355.0132 \t 3.868s\n",
      "CatBoost (3-fold Avg): 14744.2609\n",
      "CatBoost (3-fold Max): 15200.3591 \t 13.852s\n"
     ]
    },
    {
     "name": "stderr",
     "output_type": "stream",
     "text": [
      "\u001b[32m[I 2021-09-07 19:47:07,122]\u001b[0m Trial 80 finished with value: 16103.736400000002 and parameters: {'math': False, 'count': False, 'group': False, 'cluster_dist': False, 'pca': True, 'target': False, 'drop_last': True}. Best is trial 72 with value: 15708.617566666668.\u001b[0m\n"
     ]
    },
    {
     "name": "stdout",
     "output_type": "stream",
     "text": [
      "XGBoost  (3-fold Avg): 17075.0567\n",
      "XGBoost  (3-fold Max): 17469.0162 \t 2.442s\n",
      "LightGBM (3-fold Avg): 16447.8901\n",
      "LightGBM (3-fold Max): 16784.9124 \t 2.251s\n",
      "CatBoost (3-fold Avg): 14279.2482\n",
      "CatBoost (3-fold Max): 14633.2249 \t 10.261s\n"
     ]
    },
    {
     "name": "stderr",
     "output_type": "stream",
     "text": [
      "\u001b[32m[I 2021-09-07 19:47:23,097]\u001b[0m Trial 81 finished with value: 15934.065000000002 and parameters: {'math': False, 'count': False, 'group': True, 'cluster_dist': True, 'pca': False, 'target': True, 'drop_last': False}. Best is trial 72 with value: 15708.617566666668.\u001b[0m\n"
     ]
    },
    {
     "name": "stdout",
     "output_type": "stream",
     "text": [
      "XGBoost  (3-fold Avg): 17934.8906\n",
      "XGBoost  (3-fold Max): 19299.0719 \t 2.072s\n",
      "LightGBM (3-fold Avg): 16264.9304\n",
      "LightGBM (3-fold Max): 17022.9423 \t 1.774s\n",
      "CatBoost (3-fold Avg): 14909.7338\n",
      "CatBoost (3-fold Max): 15527.7372 \t 7.71s\n"
     ]
    },
    {
     "name": "stderr",
     "output_type": "stream",
     "text": [
      "\u001b[32m[I 2021-09-07 19:47:35,672]\u001b[0m Trial 82 finished with value: 16369.8516 and parameters: {'math': True, 'count': False, 'group': False, 'cluster_dist': False, 'pca': True, 'target': False, 'drop_last': False}. Best is trial 72 with value: 15708.617566666668.\u001b[0m\n"
     ]
    },
    {
     "name": "stdout",
     "output_type": "stream",
     "text": [
      "XGBoost  (3-fold Avg): 17359.2306\n",
      "XGBoost  (3-fold Max): 17669.4883 \t 2.137s\n",
      "LightGBM (3-fold Avg): 16693.1629\n",
      "LightGBM (3-fold Max): 17486.3793 \t 1.92s\n",
      "CatBoost (3-fold Avg): 14306.4255\n",
      "CatBoost (3-fold Max): 14849.9813 \t 11.747s\n"
     ]
    },
    {
     "name": "stderr",
     "output_type": "stream",
     "text": [
      "\u001b[32m[I 2021-09-07 19:47:52,496]\u001b[0m Trial 83 finished with value: 16119.606333333331 and parameters: {'math': True, 'count': True, 'group': True, 'cluster_dist': False, 'pca': False, 'target': True, 'drop_last': False}. Best is trial 72 with value: 15708.617566666668.\u001b[0m\n"
     ]
    },
    {
     "name": "stdout",
     "output_type": "stream",
     "text": [
      "XGBoost  (3-fold Avg): 17054.2799\n",
      "XGBoost  (3-fold Max): 17930.9265 \t 2.089s\n",
      "LightGBM (3-fold Avg): 16417.2865\n",
      "LightGBM (3-fold Max): 16754.2994 \t 1.973s\n",
      "CatBoost (3-fold Avg): 14349.1329\n",
      "CatBoost (3-fold Max): 14767.2994 \t 12.502s\n"
     ]
    },
    {
     "name": "stderr",
     "output_type": "stream",
     "text": [
      "\u001b[32m[I 2021-09-07 19:48:10,088]\u001b[0m Trial 84 finished with value: 15940.233099999998 and parameters: {'math': False, 'count': False, 'group': False, 'cluster_dist': False, 'pca': True, 'target': True, 'drop_last': False}. Best is trial 72 with value: 15708.617566666668.\u001b[0m\n"
     ]
    },
    {
     "name": "stdout",
     "output_type": "stream",
     "text": [
      "XGBoost  (3-fold Avg): 16897.2044\n",
      "XGBoost  (3-fold Max): 17443.7883 \t 4.731s\n",
      "LightGBM (3-fold Avg): 16342.6114\n",
      "LightGBM (3-fold Max): 17016.5727 \t 4.492s\n",
      "CatBoost (3-fold Avg): 14368.4664\n",
      "CatBoost (3-fold Max): 14811.2953 \t 14.308s\n"
     ]
    },
    {
     "name": "stderr",
     "output_type": "stream",
     "text": [
      "\u001b[32m[I 2021-09-07 19:48:34,637]\u001b[0m Trial 85 finished with value: 15869.427399999999 and parameters: {'math': False, 'count': True, 'group': False, 'cluster_dist': True, 'pca': True, 'target': True, 'drop_last': True}. Best is trial 72 with value: 15708.617566666668.\u001b[0m\n"
     ]
    },
    {
     "name": "stdout",
     "output_type": "stream",
     "text": [
      "XGBoost  (3-fold Avg): 16916.3419\n",
      "XGBoost  (3-fold Max): 17908.6549 \t 2.197s\n",
      "LightGBM (3-fold Avg): 16433.6678\n",
      "LightGBM (3-fold Max): 17112.2073 \t 2.073s\n",
      "CatBoost (3-fold Avg): 14223.7417\n",
      "CatBoost (3-fold Max): 14808.4507 \t 9.929s\n"
     ]
    },
    {
     "name": "stderr",
     "output_type": "stream",
     "text": [
      "\u001b[32m[I 2021-09-07 19:48:49,854]\u001b[0m Trial 86 finished with value: 15857.91713333333 and parameters: {'math': True, 'count': True, 'group': True, 'cluster_dist': False, 'pca': True, 'target': True, 'drop_last': False}. Best is trial 72 with value: 15708.617566666668.\u001b[0m\n"
     ]
    },
    {
     "name": "stdout",
     "output_type": "stream",
     "text": [
      "XGBoost  (3-fold Avg): 17456.1308\n",
      "XGBoost  (3-fold Max): 18083.8381 \t 2.129s\n",
      "LightGBM (3-fold Avg): 16587.17\n",
      "LightGBM (3-fold Max): 16962.1198 \t 1.854s\n",
      "CatBoost (3-fold Avg): 14347.5895\n",
      "CatBoost (3-fold Max): 14794.2965 \t 10.714s\n"
     ]
    },
    {
     "name": "stderr",
     "output_type": "stream",
     "text": [
      "\u001b[32m[I 2021-09-07 19:49:05,565]\u001b[0m Trial 87 finished with value: 16130.296766666666 and parameters: {'math': True, 'count': False, 'group': False, 'cluster_dist': False, 'pca': False, 'target': True, 'drop_last': False}. Best is trial 72 with value: 15708.617566666668.\u001b[0m\n"
     ]
    },
    {
     "name": "stdout",
     "output_type": "stream",
     "text": [
      "XGBoost  (3-fold Avg): 17508.8002\n",
      "XGBoost  (3-fold Max): 18435.034 \t 4.34s\n",
      "LightGBM (3-fold Avg): 16556.4326\n",
      "LightGBM (3-fold Max): 16953.3585 \t 4.141s\n",
      "CatBoost (3-fold Avg): 14419.8642\n",
      "CatBoost (3-fold Max): 14875.1703 \t 12.456s\n"
     ]
    },
    {
     "name": "stderr",
     "output_type": "stream",
     "text": [
      "\u001b[32m[I 2021-09-07 19:49:27,516]\u001b[0m Trial 88 finished with value: 16161.698999999999 and parameters: {'math': True, 'count': True, 'group': False, 'cluster_dist': False, 'pca': False, 'target': True, 'drop_last': True}. Best is trial 72 with value: 15708.617566666668.\u001b[0m\n"
     ]
    },
    {
     "name": "stdout",
     "output_type": "stream",
     "text": [
      "XGBoost  (3-fold Avg): 17535.8035\n",
      "XGBoost  (3-fold Max): 17770.6328 \t 2.103s\n",
      "LightGBM (3-fold Avg): 16303.4528\n",
      "LightGBM (3-fold Max): 16940.4123 \t 2.038s\n",
      "CatBoost (3-fold Avg): 14597.5723\n",
      "CatBoost (3-fold Max): 15127.9664 \t 14.097s\n"
     ]
    },
    {
     "name": "stderr",
     "output_type": "stream",
     "text": [
      "\u001b[32m[I 2021-09-07 19:49:46,771]\u001b[0m Trial 89 finished with value: 16145.609533333334 and parameters: {'math': True, 'count': True, 'group': False, 'cluster_dist': True, 'pca': False, 'target': False, 'drop_last': False}. Best is trial 72 with value: 15708.617566666668.\u001b[0m\n"
     ]
    },
    {
     "name": "stdout",
     "output_type": "stream",
     "text": [
      "XGBoost  (3-fold Avg): 17200.1828\n",
      "XGBoost  (3-fold Max): 17864.3198 \t 1.786s\n",
      "LightGBM (3-fold Avg): 16542.7044\n",
      "LightGBM (3-fold Max): 17393.1229 \t 1.626s\n",
      "CatBoost (3-fold Avg): 14545.244\n",
      "CatBoost (3-fold Max): 15090.6301 \t 10.777s\n"
     ]
    },
    {
     "name": "stderr",
     "output_type": "stream",
     "text": [
      "\u001b[32m[I 2021-09-07 19:50:01,980]\u001b[0m Trial 90 finished with value: 16096.043733333332 and parameters: {'math': True, 'count': True, 'group': True, 'cluster_dist': False, 'pca': False, 'target': False, 'drop_last': False}. Best is trial 72 with value: 15708.617566666668.\u001b[0m\n"
     ]
    },
    {
     "name": "stdout",
     "output_type": "stream",
     "text": [
      "XGBoost  (3-fold Avg): 17627.3654\n",
      "XGBoost  (3-fold Max): 18175.3109 \t 2.052s\n",
      "LightGBM (3-fold Avg): 16191.3244\n",
      "LightGBM (3-fold Max): 16722.4206 \t 2.029s\n",
      "CatBoost (3-fold Avg): 14694.349\n",
      "CatBoost (3-fold Max): 15056.2126 \t 9.194s\n"
     ]
    },
    {
     "name": "stderr",
     "output_type": "stream",
     "text": [
      "\u001b[32m[I 2021-09-07 19:50:16,274]\u001b[0m Trial 91 finished with value: 16171.012933333333 and parameters: {'math': False, 'count': False, 'group': True, 'cluster_dist': True, 'pca': False, 'target': False, 'drop_last': False}. Best is trial 72 with value: 15708.617566666668.\u001b[0m\n"
     ]
    },
    {
     "name": "stdout",
     "output_type": "stream",
     "text": [
      "XGBoost  (3-fold Avg): 17818.5785\n",
      "XGBoost  (3-fold Max): 18420.5786 \t 1.892s\n",
      "LightGBM (3-fold Avg): 16481.3275\n",
      "LightGBM (3-fold Max): 17172.4876 \t 1.544s\n",
      "CatBoost (3-fold Avg): 15152.8277\n",
      "CatBoost (3-fold Max): 16049.8435 \t 10.495s\n"
     ]
    },
    {
     "name": "stderr",
     "output_type": "stream",
     "text": [
      "\u001b[32m[I 2021-09-07 19:50:31,227]\u001b[0m Trial 92 finished with value: 16484.244566666668 and parameters: {'math': False, 'count': False, 'group': False, 'cluster_dist': False, 'pca': False, 'target': False, 'drop_last': False}. Best is trial 72 with value: 15708.617566666668.\u001b[0m\n"
     ]
    },
    {
     "name": "stdout",
     "output_type": "stream",
     "text": [
      "XGBoost  (3-fold Avg): 16948.3154\n",
      "XGBoost  (3-fold Max): 17668.3076 \t 2.677s\n",
      "LightGBM (3-fold Avg): 16120.2164\n",
      "LightGBM (3-fold Max): 16650.5071 \t 2.351s\n",
      "CatBoost (3-fold Avg): 14121.2045\n",
      "CatBoost (3-fold Max): 14707.7824 \t 10.622s\n"
     ]
    },
    {
     "name": "stderr",
     "output_type": "stream",
     "text": [
      "\u001b[32m[I 2021-09-07 19:50:47,896]\u001b[0m Trial 93 finished with value: 15729.9121 and parameters: {'math': True, 'count': False, 'group': False, 'cluster_dist': True, 'pca': True, 'target': True, 'drop_last': False}. Best is trial 72 with value: 15708.617566666668.\u001b[0m\n"
     ]
    },
    {
     "name": "stdout",
     "output_type": "stream",
     "text": [
      "XGBoost  (3-fold Avg): 17733.9145\n",
      "XGBoost  (3-fold Max): 18469.4847 \t 2.162s\n",
      "LightGBM (3-fold Avg): 16060.5895\n",
      "LightGBM (3-fold Max): 16565.9142 \t 2.131s\n",
      "CatBoost (3-fold Avg): 14632.0682\n",
      "CatBoost (3-fold Max): 15403.6722 \t 9.895s\n"
     ]
    },
    {
     "name": "stderr",
     "output_type": "stream",
     "text": [
      "\u001b[32m[I 2021-09-07 19:51:03,104]\u001b[0m Trial 94 finished with value: 16142.190733333335 and parameters: {'math': True, 'count': True, 'group': False, 'cluster_dist': True, 'pca': True, 'target': False, 'drop_last': False}. Best is trial 72 with value: 15708.617566666668.\u001b[0m\n"
     ]
    },
    {
     "name": "stdout",
     "output_type": "stream",
     "text": [
      "XGBoost  (3-fold Avg): 17349.1182\n",
      "XGBoost  (3-fold Max): 17597.0513 \t 2.493s\n",
      "LightGBM (3-fold Avg): 16557.9348\n",
      "LightGBM (3-fold Max): 17084.3455 \t 1.858s\n",
      "CatBoost (3-fold Avg): 14332.5403\n",
      "CatBoost (3-fold Max): 14737.3373 \t 10.548s\n"
     ]
    },
    {
     "name": "stderr",
     "output_type": "stream",
     "text": [
      "\u001b[32m[I 2021-09-07 19:51:19,022]\u001b[0m Trial 95 finished with value: 16079.864433333334 and parameters: {'math': True, 'count': False, 'group': True, 'cluster_dist': False, 'pca': False, 'target': True, 'drop_last': False}. Best is trial 72 with value: 15708.617566666668.\u001b[0m\n"
     ]
    },
    {
     "name": "stdout",
     "output_type": "stream",
     "text": [
      "XGBoost  (3-fold Avg): 17417.9476\n",
      "XGBoost  (3-fold Max): 18195.0552 \t 4.294s\n",
      "LightGBM (3-fold Avg): 16291.0696\n",
      "LightGBM (3-fold Max): 16626.4596 \t 4.105s\n",
      "CatBoost (3-fold Avg): 14150.8541\n",
      "CatBoost (3-fold Max): 14641.8787 \t 12.767s\n"
     ]
    },
    {
     "name": "stderr",
     "output_type": "stream",
     "text": [
      "\u001b[32m[I 2021-09-07 19:51:41,212]\u001b[0m Trial 96 finished with value: 15953.290433333334 and parameters: {'math': False, 'count': True, 'group': True, 'cluster_dist': False, 'pca': True, 'target': True, 'drop_last': True}. Best is trial 72 with value: 15708.617566666668.\u001b[0m\n"
     ]
    },
    {
     "name": "stdout",
     "output_type": "stream",
     "text": [
      "XGBoost  (3-fold Avg): 17500.0948\n",
      "XGBoost  (3-fold Max): 18275.8696 \t 2.017s\n",
      "LightGBM (3-fold Avg): 16675.5946\n",
      "LightGBM (3-fold Max): 17219.8985 \t 1.857s\n",
      "CatBoost (3-fold Avg): 14699.5154\n",
      "CatBoost (3-fold Max): 15139.8092 \t 9.761s\n"
     ]
    },
    {
     "name": "stderr",
     "output_type": "stream",
     "text": [
      "\u001b[32m[I 2021-09-07 19:51:55,873]\u001b[0m Trial 97 finished with value: 16291.734933333335 and parameters: {'math': False, 'count': True, 'group': False, 'cluster_dist': False, 'pca': False, 'target': True, 'drop_last': False}. Best is trial 72 with value: 15708.617566666668.\u001b[0m\n"
     ]
    },
    {
     "name": "stdout",
     "output_type": "stream",
     "text": [
      "XGBoost  (3-fold Avg): 17902.8628\n",
      "XGBoost  (3-fold Max): 18883.7932 \t 2.213s\n",
      "LightGBM (3-fold Avg): 16404.7344\n",
      "LightGBM (3-fold Max): 16685.1865 \t 1.974s\n",
      "CatBoost (3-fold Avg): 14736.1507\n",
      "CatBoost (3-fold Max): 15103.5523 \t 11.614s\n"
     ]
    },
    {
     "name": "stderr",
     "output_type": "stream",
     "text": [
      "\u001b[32m[I 2021-09-07 19:52:12,703]\u001b[0m Trial 98 finished with value: 16347.915966666667 and parameters: {'math': False, 'count': False, 'group': False, 'cluster_dist': True, 'pca': False, 'target': False, 'drop_last': False}. Best is trial 72 with value: 15708.617566666668.\u001b[0m\n"
     ]
    },
    {
     "name": "stdout",
     "output_type": "stream",
     "text": [
      "XGBoost  (3-fold Avg): 17570.4149\n",
      "XGBoost  (3-fold Max): 17865.0856 \t 4.617s\n",
      "LightGBM (3-fold Avg): 16360.2974\n",
      "LightGBM (3-fold Max): 16826.7624 \t 4.217s\n",
      "CatBoost (3-fold Avg): 14346.9612\n",
      "CatBoost (3-fold Max): 14818.2268 \t 14.541s\n"
     ]
    },
    {
     "name": "stderr",
     "output_type": "stream",
     "text": [
      "\u001b[32m[I 2021-09-07 19:52:37,086]\u001b[0m Trial 99 finished with value: 16092.557833333332 and parameters: {'math': False, 'count': False, 'group': True, 'cluster_dist': True, 'pca': False, 'target': False, 'drop_last': True}. Best is trial 72 with value: 15708.617566666668.\u001b[0m\n"
     ]
    },
    {
     "name": "stdout",
     "output_type": "stream",
     "text": [
      "XGBoost  (3-fold Avg): 17482.4809\n",
      "XGBoost  (3-fold Max): 18212.429 \t 4.244s\n",
      "LightGBM (3-fold Avg): 16387.0639\n",
      "LightGBM (3-fold Max): 17036.3195 \t 3.865s\n",
      "CatBoost (3-fold Avg): 14874.4772\n",
      "CatBoost (3-fold Max): 15495.2482 \t 13.813s\n"
     ]
    },
    {
     "name": "stderr",
     "output_type": "stream",
     "text": [
      "\u001b[32m[I 2021-09-07 19:53:00,023]\u001b[0m Trial 100 finished with value: 16248.007333333335 and parameters: {'math': True, 'count': True, 'group': False, 'cluster_dist': False, 'pca': False, 'target': False, 'drop_last': True}. Best is trial 72 with value: 15708.617566666668.\u001b[0m\n"
     ]
    },
    {
     "name": "stdout",
     "output_type": "stream",
     "text": [
      "XGBoost  (3-fold Avg): 17124.7725\n",
      "XGBoost  (3-fold Max): 17886.2197 \t 2.549s\n",
      "LightGBM (3-fold Avg): 16378.1735\n",
      "LightGBM (3-fold Max): 16857.1011 \t 2.315s\n",
      "CatBoost (3-fold Avg): 14153.5017\n",
      "CatBoost (3-fold Max): 14594.4042 \t 11.647s\n"
     ]
    },
    {
     "name": "stderr",
     "output_type": "stream",
     "text": [
      "\u001b[32m[I 2021-09-07 19:53:17,556]\u001b[0m Trial 101 finished with value: 15885.482566666666 and parameters: {'math': True, 'count': False, 'group': True, 'cluster_dist': True, 'pca': False, 'target': True, 'drop_last': False}. Best is trial 72 with value: 15708.617566666668.\u001b[0m\n"
     ]
    },
    {
     "name": "stdout",
     "output_type": "stream",
     "text": [
      "XGBoost  (3-fold Avg): 17904.3209\n",
      "XGBoost  (3-fold Max): 19005.0376 \t 1.657s\n",
      "LightGBM (3-fold Avg): 16662.3771\n",
      "LightGBM (3-fold Max): 17680.7477 \t 1.56s\n",
      "CatBoost (3-fold Avg): 14713.3128\n",
      "CatBoost (3-fold Max): 15112.7124 \t 9.647s\n"
     ]
    },
    {
     "name": "stderr",
     "output_type": "stream",
     "text": [
      "\u001b[32m[I 2021-09-07 19:53:31,443]\u001b[0m Trial 102 finished with value: 16426.670266666668 and parameters: {'math': False, 'count': False, 'group': True, 'cluster_dist': False, 'pca': False, 'target': False, 'drop_last': False}. Best is trial 72 with value: 15708.617566666668.\u001b[0m\n"
     ]
    },
    {
     "name": "stdout",
     "output_type": "stream",
     "text": [
      "XGBoost  (3-fold Avg): 17673.5925\n",
      "XGBoost  (3-fold Max): 18932.0684 \t 3.919s\n",
      "LightGBM (3-fold Avg): 16749.1506\n",
      "LightGBM (3-fold Max): 17578.4473 \t 3.714s\n",
      "CatBoost (3-fold Avg): 14599.9345\n",
      "CatBoost (3-fold Max): 14953.3887 \t 12.467s\n"
     ]
    },
    {
     "name": "stderr",
     "output_type": "stream",
     "text": [
      "\u001b[32m[I 2021-09-07 19:53:52,566]\u001b[0m Trial 103 finished with value: 16340.892533333332 and parameters: {'math': False, 'count': True, 'group': True, 'cluster_dist': False, 'pca': False, 'target': False, 'drop_last': True}. Best is trial 72 with value: 15708.617566666668.\u001b[0m\n"
     ]
    },
    {
     "name": "stdout",
     "output_type": "stream",
     "text": [
      "XGBoost  (3-fold Avg): 17072.4692\n",
      "XGBoost  (3-fold Max): 17672.5719 \t 4.617s\n",
      "LightGBM (3-fold Avg): 16339.0667\n",
      "LightGBM (3-fold Max): 17204.5608 \t 4.446s\n",
      "CatBoost (3-fold Avg): 14304.6945\n",
      "CatBoost (3-fold Max): 15045.8853 \t 13.01s\n"
     ]
    },
    {
     "name": "stderr",
     "output_type": "stream",
     "text": [
      "\u001b[32m[I 2021-09-07 19:54:15,657]\u001b[0m Trial 104 finished with value: 15905.410133333333 and parameters: {'math': True, 'count': True, 'group': True, 'cluster_dist': True, 'pca': True, 'target': False, 'drop_last': True}. Best is trial 72 with value: 15708.617566666668.\u001b[0m\n"
     ]
    },
    {
     "name": "stdout",
     "output_type": "stream",
     "text": [
      "XGBoost  (3-fold Avg): 17340.0973\n",
      "XGBoost  (3-fold Max): 17618.9126 \t 4.24s\n",
      "LightGBM (3-fold Avg): 16405.0558\n",
      "LightGBM (3-fold Max): 16978.3922 \t 3.833s\n",
      "CatBoost (3-fold Avg): 14960.8278\n",
      "CatBoost (3-fold Max): 15263.1148 \t 11.19s\n"
     ]
    },
    {
     "name": "stderr",
     "output_type": "stream",
     "text": [
      "\u001b[32m[I 2021-09-07 19:54:35,934]\u001b[0m Trial 105 finished with value: 16235.326966666666 and parameters: {'math': True, 'count': False, 'group': False, 'cluster_dist': False, 'pca': False, 'target': False, 'drop_last': True}. Best is trial 72 with value: 15708.617566666668.\u001b[0m\n"
     ]
    },
    {
     "name": "stdout",
     "output_type": "stream",
     "text": [
      "XGBoost  (3-fold Avg): 17371.4393\n",
      "XGBoost  (3-fold Max): 18774.8195 \t 4.299s\n",
      "LightGBM (3-fold Avg): 16700.2789\n",
      "LightGBM (3-fold Max): 17221.5364 \t 4.007s\n",
      "CatBoost (3-fold Avg): 14521.4747\n",
      "CatBoost (3-fold Max): 14585.7064 \t 15.659s\n"
     ]
    },
    {
     "name": "stderr",
     "output_type": "stream",
     "text": [
      "\u001b[32m[I 2021-09-07 19:55:00,913]\u001b[0m Trial 106 finished with value: 16197.730966666668 and parameters: {'math': False, 'count': True, 'group': False, 'cluster_dist': False, 'pca': False, 'target': True, 'drop_last': True}. Best is trial 72 with value: 15708.617566666668.\u001b[0m\n"
     ]
    },
    {
     "name": "stdout",
     "output_type": "stream",
     "text": [
      "XGBoost  (3-fold Avg): 18033.8925\n",
      "XGBoost  (3-fold Max): 19377.9257 \t 1.96s\n",
      "LightGBM (3-fold Avg): 16182.0684\n",
      "LightGBM (3-fold Max): 16791.8051 \t 1.808s\n",
      "CatBoost (3-fold Avg): 14654.7057\n",
      "CatBoost (3-fold Max): 15180.7881 \t 11.016s\n"
     ]
    },
    {
     "name": "stderr",
     "output_type": "stream",
     "text": [
      "\u001b[32m[I 2021-09-07 19:55:16,710]\u001b[0m Trial 107 finished with value: 16290.222200000002 and parameters: {'math': True, 'count': True, 'group': False, 'cluster_dist': False, 'pca': True, 'target': False, 'drop_last': False}. Best is trial 72 with value: 15708.617566666668.\u001b[0m\n"
     ]
    },
    {
     "name": "stdout",
     "output_type": "stream",
     "text": [
      "XGBoost  (3-fold Avg): 17188.8119\n",
      "XGBoost  (3-fold Max): 18250.7931 \t 4.928s\n",
      "LightGBM (3-fold Avg): 16269.2014\n",
      "LightGBM (3-fold Max): 16839.3336 \t 4.689s\n",
      "CatBoost (3-fold Avg): 14237.8341\n",
      "CatBoost (3-fold Max): 14877.4647 \t 13.443s\n"
     ]
    },
    {
     "name": "stderr",
     "output_type": "stream",
     "text": [
      "\u001b[32m[I 2021-09-07 19:55:40,791]\u001b[0m Trial 108 finished with value: 15898.6158 and parameters: {'math': True, 'count': True, 'group': True, 'cluster_dist': True, 'pca': True, 'target': True, 'drop_last': True}. Best is trial 72 with value: 15708.617566666668.\u001b[0m\n"
     ]
    },
    {
     "name": "stdout",
     "output_type": "stream",
     "text": [
      "XGBoost  (3-fold Avg): 17883.0034\n",
      "XGBoost  (3-fold Max): 19346.9066 \t 4.122s\n",
      "LightGBM (3-fold Avg): 16171.8578\n",
      "LightGBM (3-fold Max): 16770.5064 \t 4.0s\n",
      "CatBoost (3-fold Avg): 14625.8974\n",
      "CatBoost (3-fold Max): 15279.5412 \t 13.413s\n"
     ]
    },
    {
     "name": "stderr",
     "output_type": "stream",
     "text": [
      "\u001b[32m[I 2021-09-07 19:56:03,339]\u001b[0m Trial 109 finished with value: 16226.919533333334 and parameters: {'math': True, 'count': True, 'group': False, 'cluster_dist': False, 'pca': True, 'target': False, 'drop_last': True}. Best is trial 72 with value: 15708.617566666668.\u001b[0m\n"
     ]
    },
    {
     "name": "stdout",
     "output_type": "stream",
     "text": [
      "XGBoost  (3-fold Avg): 17354.3313\n",
      "XGBoost  (3-fold Max): 17982.9869 \t 2.152s\n",
      "LightGBM (3-fold Avg): 16209.6819\n",
      "LightGBM (3-fold Max): 16709.7738 \t 2.015s\n",
      "CatBoost (3-fold Avg): 14733.7256\n",
      "CatBoost (3-fold Max): 15396.244 \t 9.69s\n"
     ]
    },
    {
     "name": "stderr",
     "output_type": "stream",
     "text": [
      "\u001b[32m[I 2021-09-07 19:56:18,209]\u001b[0m Trial 110 finished with value: 16099.246266666667 and parameters: {'math': False, 'count': False, 'group': False, 'cluster_dist': True, 'pca': True, 'target': False, 'drop_last': False}. Best is trial 72 with value: 15708.617566666668.\u001b[0m\n"
     ]
    },
    {
     "name": "stdout",
     "output_type": "stream",
     "text": [
      "XGBoost  (3-fold Avg): 17587.6517\n",
      "XGBoost  (3-fold Max): 18774.4732 \t 1.83s\n",
      "LightGBM (3-fold Avg): 16687.6169\n",
      "LightGBM (3-fold Max): 17603.5464 \t 1.572s\n",
      "CatBoost (3-fold Avg): 14803.0809\n",
      "CatBoost (3-fold Max): 15240.1072 \t 9.555s\n"
     ]
    },
    {
     "name": "stderr",
     "output_type": "stream",
     "text": [
      "\u001b[32m[I 2021-09-07 19:56:32,186]\u001b[0m Trial 111 finished with value: 16359.449833333332 and parameters: {'math': False, 'count': True, 'group': True, 'cluster_dist': False, 'pca': False, 'target': False, 'drop_last': False}. Best is trial 72 with value: 15708.617566666668.\u001b[0m\n"
     ]
    },
    {
     "name": "stdout",
     "output_type": "stream",
     "text": [
      "XGBoost  (3-fold Avg): 17060.2245\n",
      "XGBoost  (3-fold Max): 17822.6785 \t 4.496s\n",
      "LightGBM (3-fold Avg): 16514.0729\n",
      "LightGBM (3-fold Max): 17097.886 \t 4.305s\n",
      "CatBoost (3-fold Avg): 14357.4897\n",
      "CatBoost (3-fold Max): 14913.7573 \t 11.625s\n"
     ]
    },
    {
     "name": "stderr",
     "output_type": "stream",
     "text": [
      "\u001b[32m[I 2021-09-07 19:56:53,625]\u001b[0m Trial 112 finished with value: 15977.262366666664 and parameters: {'math': True, 'count': False, 'group': True, 'cluster_dist': False, 'pca': True, 'target': True, 'drop_last': True}. Best is trial 72 with value: 15708.617566666668.\u001b[0m\n"
     ]
    },
    {
     "name": "stdout",
     "output_type": "stream",
     "text": [
      "XGBoost  (3-fold Avg): 17238.8075\n",
      "XGBoost  (3-fold Max): 17584.7709 \t 1.852s\n",
      "LightGBM (3-fold Avg): 16471.4805\n",
      "LightGBM (3-fold Max): 17043.6677 \t 1.605s\n",
      "CatBoost (3-fold Avg): 14850.5287\n",
      "CatBoost (3-fold Max): 15603.5834 \t 11.483s\n"
     ]
    },
    {
     "name": "stderr",
     "output_type": "stream",
     "text": [
      "\u001b[32m[I 2021-09-07 19:57:09,588]\u001b[0m Trial 113 finished with value: 16186.938900000001 and parameters: {'math': True, 'count': False, 'group': False, 'cluster_dist': False, 'pca': False, 'target': False, 'drop_last': False}. Best is trial 72 with value: 15708.617566666668.\u001b[0m\n"
     ]
    },
    {
     "name": "stdout",
     "output_type": "stream",
     "text": [
      "XGBoost  (3-fold Avg): 16514.6291\n",
      "XGBoost  (3-fold Max): 17376.607 \t 4.633s\n",
      "LightGBM (3-fold Avg): 16379.5343\n",
      "LightGBM (3-fold Max): 17039.2585 \t 4.257s\n",
      "CatBoost (3-fold Avg): 14412.8662\n",
      "CatBoost (3-fold Max): 14912.5064 \t 11.216s\n"
     ]
    },
    {
     "name": "stderr",
     "output_type": "stream",
     "text": [
      "\u001b[32m[I 2021-09-07 19:57:30,712]\u001b[0m Trial 114 finished with value: 15769.009866666665 and parameters: {'math': True, 'count': True, 'group': False, 'cluster_dist': False, 'pca': True, 'target': True, 'drop_last': True}. Best is trial 72 with value: 15708.617566666668.\u001b[0m\n"
     ]
    },
    {
     "name": "stdout",
     "output_type": "stream",
     "text": [
      "XGBoost  (3-fold Avg): 17604.0204\n",
      "XGBoost  (3-fold Max): 17668.1628 \t 2.285s\n",
      "LightGBM (3-fold Avg): 16615.9779\n",
      "LightGBM (3-fold Max): 17568.7743 \t 2.081s\n",
      "CatBoost (3-fold Avg): 14192.2149\n",
      "CatBoost (3-fold Max): 14680.7106 \t 12.231s\n"
     ]
    },
    {
     "name": "stderr",
     "output_type": "stream",
     "text": [
      "\u001b[32m[I 2021-09-07 19:57:48,324]\u001b[0m Trial 115 finished with value: 16137.404400000001 and parameters: {'math': True, 'count': False, 'group': True, 'cluster_dist': True, 'pca': False, 'target': False, 'drop_last': False}. Best is trial 72 with value: 15708.617566666668.\u001b[0m\n"
     ]
    },
    {
     "name": "stdout",
     "output_type": "stream",
     "text": [
      "XGBoost  (3-fold Avg): 17469.7368\n",
      "XGBoost  (3-fold Max): 17951.9736 \t 4.738s\n",
      "LightGBM (3-fold Avg): 16152.6052\n",
      "LightGBM (3-fold Max): 16762.1861 \t 4.274s\n",
      "CatBoost (3-fold Avg): 14354.2666\n",
      "CatBoost (3-fold Max): 14909.4569 \t 13.492s\n"
     ]
    },
    {
     "name": "stderr",
     "output_type": "stream",
     "text": [
      "\u001b[32m[I 2021-09-07 19:58:11,855]\u001b[0m Trial 116 finished with value: 15992.202866666667 and parameters: {'math': False, 'count': True, 'group': True, 'cluster_dist': True, 'pca': True, 'target': False, 'drop_last': True}. Best is trial 72 with value: 15708.617566666668.\u001b[0m\n"
     ]
    },
    {
     "name": "stdout",
     "output_type": "stream",
     "text": [
      "XGBoost  (3-fold Avg): 17660.7968\n",
      "XGBoost  (3-fold Max): 18394.9077 \t 2.35s\n",
      "LightGBM (3-fold Avg): 16195.3947\n",
      "LightGBM (3-fold Max): 16829.5358 \t 2.081s\n",
      "CatBoost (3-fold Avg): 14597.918\n",
      "CatBoost (3-fold Max): 15235.7651 \t 10.567s\n"
     ]
    },
    {
     "name": "stderr",
     "output_type": "stream",
     "text": [
      "\u001b[32m[I 2021-09-07 19:58:27,869]\u001b[0m Trial 117 finished with value: 16151.369833333332 and parameters: {'math': False, 'count': True, 'group': True, 'cluster_dist': True, 'pca': True, 'target': False, 'drop_last': False}. Best is trial 72 with value: 15708.617566666668.\u001b[0m\n"
     ]
    },
    {
     "name": "stdout",
     "output_type": "stream",
     "text": [
      "XGBoost  (3-fold Avg): 17253.264\n",
      "XGBoost  (3-fold Max): 17716.7425 \t 4.357s\n",
      "LightGBM (3-fold Avg): 16437.861\n",
      "LightGBM (3-fold Max): 16909.552 \t 4.165s\n",
      "CatBoost (3-fold Avg): 14489.5982\n",
      "CatBoost (3-fold Max): 14833.2755 \t 12.309s\n"
     ]
    },
    {
     "name": "stderr",
     "output_type": "stream",
     "text": [
      "\u001b[32m[I 2021-09-07 19:58:49,725]\u001b[0m Trial 118 finished with value: 16060.241066666667 and parameters: {'math': True, 'count': False, 'group': True, 'cluster_dist': False, 'pca': False, 'target': True, 'drop_last': True}. Best is trial 72 with value: 15708.617566666668.\u001b[0m\n"
     ]
    },
    {
     "name": "stdout",
     "output_type": "stream",
     "text": [
      "XGBoost  (3-fold Avg): 16703.2036\n",
      "XGBoost  (3-fold Max): 17262.8041 \t 4.23s\n",
      "LightGBM (3-fold Avg): 16267.467\n",
      "LightGBM (3-fold Max): 16585.465 \t 4.089s\n",
      "CatBoost (3-fold Avg): 14403.2365\n",
      "CatBoost (3-fold Max): 14830.3984 \t 11.727s\n"
     ]
    },
    {
     "name": "stderr",
     "output_type": "stream",
     "text": [
      "\u001b[32m[I 2021-09-07 19:59:10,781]\u001b[0m Trial 119 finished with value: 15791.302366666665 and parameters: {'math': False, 'count': False, 'group': False, 'cluster_dist': False, 'pca': True, 'target': True, 'drop_last': True}. Best is trial 72 with value: 15708.617566666668.\u001b[0m\n"
     ]
    },
    {
     "name": "stdout",
     "output_type": "stream",
     "text": [
      "XGBoost  (3-fold Avg): 17269.8727\n",
      "XGBoost  (3-fold Max): 17584.7709 \t 1.89s\n",
      "LightGBM (3-fold Avg): 16408.5278\n",
      "LightGBM (3-fold Max): 17043.6677 \t 1.624s\n",
      "CatBoost (3-fold Avg): 14811.2806\n",
      "CatBoost (3-fold Max): 15448.6134 \t 11.55s\n"
     ]
    },
    {
     "name": "stderr",
     "output_type": "stream",
     "text": [
      "\u001b[32m[I 2021-09-07 19:59:26,858]\u001b[0m Trial 120 finished with value: 16163.227033333334 and parameters: {'math': True, 'count': True, 'group': False, 'cluster_dist': False, 'pca': False, 'target': False, 'drop_last': False}. Best is trial 72 with value: 15708.617566666668.\u001b[0m\n"
     ]
    },
    {
     "name": "stdout",
     "output_type": "stream",
     "text": [
      "XGBoost  (3-fold Avg): 17412.1894\n",
      "XGBoost  (3-fold Max): 18573.3236 \t 4.183s\n",
      "LightGBM (3-fold Avg): 16606.2921\n",
      "LightGBM (3-fold Max): 17143.5554 \t 4.011s\n",
      "CatBoost (3-fold Avg): 14541.8018\n",
      "CatBoost (3-fold Max): 14689.075 \t 12.293s\n"
     ]
    },
    {
     "name": "stderr",
     "output_type": "stream",
     "text": [
      "\u001b[32m[I 2021-09-07 19:59:48,361]\u001b[0m Trial 121 finished with value: 16186.761099999998 and parameters: {'math': False, 'count': True, 'group': True, 'cluster_dist': False, 'pca': False, 'target': True, 'drop_last': True}. Best is trial 72 with value: 15708.617566666668.\u001b[0m\n"
     ]
    },
    {
     "name": "stdout",
     "output_type": "stream",
     "text": [
      "XGBoost  (3-fold Avg): 17002.8327\n",
      "XGBoost  (3-fold Max): 17812.5624 \t 4.748s\n",
      "LightGBM (3-fold Avg): 16120.9587\n",
      "LightGBM (3-fold Max): 16468.6503 \t 4.476s\n",
      "CatBoost (3-fold Avg): 14392.1254\n",
      "CatBoost (3-fold Max): 14906.8061 \t 11.954s\n"
     ]
    },
    {
     "name": "stderr",
     "output_type": "stream",
     "text": [
      "\u001b[32m[I 2021-09-07 20:00:10,558]\u001b[0m Trial 122 finished with value: 15838.638933333335 and parameters: {'math': False, 'count': False, 'group': False, 'cluster_dist': True, 'pca': True, 'target': True, 'drop_last': True}. Best is trial 72 with value: 15708.617566666668.\u001b[0m\n"
     ]
    },
    {
     "name": "stdout",
     "output_type": "stream",
     "text": [
      "XGBoost  (3-fold Avg): 17344.2631\n",
      "XGBoost  (3-fold Max): 18383.0898 \t 2.276s\n",
      "LightGBM (3-fold Avg): 16571.1219\n",
      "LightGBM (3-fold Max): 17238.2061 \t 2.065s\n",
      "CatBoost (3-fold Avg): 14345.1069\n",
      "CatBoost (3-fold Max): 15100.1826 \t 10.787s\n"
     ]
    },
    {
     "name": "stderr",
     "output_type": "stream",
     "text": [
      "\u001b[32m[I 2021-09-07 20:00:26,700]\u001b[0m Trial 123 finished with value: 16086.830633333331 and parameters: {'math': True, 'count': False, 'group': True, 'cluster_dist': True, 'pca': True, 'target': False, 'drop_last': False}. Best is trial 72 with value: 15708.617566666668.\u001b[0m\n"
     ]
    },
    {
     "name": "stdout",
     "output_type": "stream",
     "text": [
      "XGBoost  (3-fold Avg): 17165.7622\n",
      "XGBoost  (3-fold Max): 18124.6084 \t 2.128s\n",
      "LightGBM (3-fold Avg): 16659.4611\n",
      "LightGBM (3-fold Max): 17279.2576 \t 1.81s\n",
      "CatBoost (3-fold Avg): 14479.8172\n",
      "CatBoost (3-fold Max): 15107.9904 \t 10.405s\n"
     ]
    },
    {
     "name": "stderr",
     "output_type": "stream",
     "text": [
      "\u001b[32m[I 2021-09-07 20:00:42,072]\u001b[0m Trial 124 finished with value: 16101.680166666665 and parameters: {'math': True, 'count': False, 'group': True, 'cluster_dist': False, 'pca': True, 'target': False, 'drop_last': False}. Best is trial 72 with value: 15708.617566666668.\u001b[0m\n"
     ]
    },
    {
     "name": "stdout",
     "output_type": "stream",
     "text": [
      "XGBoost  (3-fold Avg): 16951.8199\n",
      "XGBoost  (3-fold Max): 18002.5969 \t 2.042s\n",
      "LightGBM (3-fold Avg): 16080.4732\n",
      "LightGBM (3-fold Max): 16718.3609 \t 1.767s\n",
      "CatBoost (3-fold Avg): 14821.4812\n",
      "CatBoost (3-fold Max): 15516.0122 \t 9.473s\n"
     ]
    },
    {
     "name": "stderr",
     "output_type": "stream",
     "text": [
      "\u001b[32m[I 2021-09-07 20:00:56,387]\u001b[0m Trial 125 finished with value: 15951.2581 and parameters: {'math': False, 'count': True, 'group': False, 'cluster_dist': False, 'pca': True, 'target': False, 'drop_last': False}. Best is trial 72 with value: 15708.617566666668.\u001b[0m\n"
     ]
    },
    {
     "name": "stdout",
     "output_type": "stream",
     "text": [
      "XGBoost  (3-fold Avg): 17037.394\n",
      "XGBoost  (3-fold Max): 17500.7787 \t 2.543s\n",
      "LightGBM (3-fold Avg): 16584.762\n",
      "LightGBM (3-fold Max): 17185.5498 \t 2.298s\n",
      "CatBoost (3-fold Avg): 14066.064\n",
      "CatBoost (3-fold Max): 14719.2971 \t 11.044s\n"
     ]
    },
    {
     "name": "stderr",
     "output_type": "stream",
     "text": [
      "\u001b[32m[I 2021-09-07 20:01:13,291]\u001b[0m Trial 126 finished with value: 15896.073333333334 and parameters: {'math': True, 'count': True, 'group': True, 'cluster_dist': True, 'pca': False, 'target': True, 'drop_last': False}. Best is trial 72 with value: 15708.617566666668.\u001b[0m\n"
     ]
    },
    {
     "name": "stdout",
     "output_type": "stream",
     "text": [
      "XGBoost  (3-fold Avg): 16885.8223\n",
      "XGBoost  (3-fold Max): 17680.4788 \t 2.206s\n",
      "LightGBM (3-fold Avg): 16455.192\n",
      "LightGBM (3-fold Max): 16680.2114 \t 2.065s\n",
      "CatBoost (3-fold Avg): 14348.006\n",
      "CatBoost (3-fold Max): 14823.4012 \t 11.12s\n"
     ]
    },
    {
     "name": "stderr",
     "output_type": "stream",
     "text": [
      "\u001b[32m[I 2021-09-07 20:01:29,706]\u001b[0m Trial 127 finished with value: 15896.3401 and parameters: {'math': False, 'count': True, 'group': False, 'cluster_dist': False, 'pca': True, 'target': True, 'drop_last': False}. Best is trial 72 with value: 15708.617566666668.\u001b[0m\n"
     ]
    }
   ],
   "source": [
    "def feature_search():\n",
    "    def objective(trial):\n",
    "        math = trial.suggest_categorical('math', [True, False])\n",
    "        count = trial.suggest_categorical('count', [True, False])\n",
    "        group = trial.suggest_categorical('group', [True, False])\n",
    "        cluster_dist = trial.suggest_categorical('cluster_dist', [True, False])\n",
    "        pca = trial.suggest_categorical('pca', [True, False])\n",
    "        target = trial.suggest_categorical('target', [True, False])\n",
    "        drop_last = trial.suggest_categorical('drop_last', [True, False])\n",
    "        \n",
    "        transforms = [preprocessing]\n",
    "        \n",
    "        if math:\n",
    "            transforms.append(mathematical_transformations)\n",
    "        if count:\n",
    "            transforms.append(count_porch_types)\n",
    "        if group:\n",
    "            transforms.append(group_transformation)\n",
    "        if cluster_dist:\n",
    "            transforms.append(generate_cluster_distances)\n",
    "        if pca:\n",
    "            transforms.append(pca_transform)\n",
    "        if target:\n",
    "            transforms.append(encode_neighborhood)\n",
    "        if drop_last:\n",
    "            transforms.append(remove_uninformative)\n",
    "\n",
    "        scores =  np.array([score_xgboost(transforms = transforms)[0],\n",
    "                            score_lightgbm(transforms = transforms)[0],\n",
    "                            score_catboost(transforms = transforms)[0],])\n",
    "        time.sleep(1)\n",
    "        return scores.mean()\n",
    "    \n",
    "    search_space = dict(math = [True, False],\n",
    "                        count = [True, False],\n",
    "                        group = [True, False],\n",
    "                        cluster_dist = [True, False],\n",
    "                        pca = [True, False],\n",
    "                        target = [True, False],\n",
    "                        drop_last = [True, False])\n",
    "    optuna.logging.set_verbosity(optuna.logging.DEBUG)\n",
    "    study = optuna.create_study(sampler = GridSampler(search_space), \n",
    "                                direction=\"minimize\")\n",
    "    study.optimize(objective, n_trials=2**len(search_space))\n",
    "    return study\n",
    "\n",
    "study = feature_search()"
   ]
  },
  {
   "cell_type": "code",
   "execution_count": 22,
   "id": "e7fc361a",
   "metadata": {},
   "outputs": [
    {
     "name": "stdout",
     "output_type": "stream",
     "text": [
      "Best Options: {'math': True, 'count': True, 'group': False, 'cluster_dist': True, 'pca': True, 'target': True, 'drop_last': False}\n"
     ]
    }
   ],
   "source": [
    "print(\"Best Options:\", study.best_params)"
   ]
  },
  {
   "cell_type": "code",
   "execution_count": 24,
   "id": "f3b40c71",
   "metadata": {},
   "outputs": [
    {
     "data": {
      "application/vnd.plotly.v1+json": {
       "config": {
        "plotlyServerURL": "https://plot.ly"
       },
       "data": [
        {
         "dimensions": [
          {
           "label": "Objective Value",
           "range": [
            15708.617566666668,
            16612.3392
           ],
           "values": [
            16189.140233333334,
            16125.964166666667,
            16074.536800000002,
            16304.984166666667,
            16037.840900000001,
            16079.144033333336,
            15881.147233333331,
            16088.544733333334,
            16055.022566666667,
            16049.874366666665,
            16054.074066666668,
            16016.241533333334,
            16140.4381,
            16004.047466666669,
            16073.6225,
            16043.5195,
            16151.479999999998,
            15903.867466666668,
            16201.6874,
            16007.237433333334,
            16111.294266666666,
            16197.258699999998,
            15824.96093333333,
            15824.345466666666,
            15895.0587,
            16231.356366666667,
            15776.872933333332,
            16168.472499999998,
            16499.543433333332,
            16137.572500000002,
            15833.058666666666,
            15865.4348,
            16003.8658,
            15967.41466666667,
            16612.3392,
            15841.11626666667,
            16592.681866666666,
            16027.337699999998,
            15875.942666666668,
            15977.982599999998,
            16047.6962,
            16029.162033333334,
            16025.498266666667,
            16147.825400000002,
            15785.789533333334,
            15999.063933333333,
            15930.962866666667,
            16013.962599999999,
            16413.8593,
            15810.28016666667,
            16194.3264,
            15750.232233333334,
            16124.436566666665,
            16044.683333333334,
            16160.719899999998,
            16126.8258,
            15861.820033333332,
            16101.7551,
            16194.263666666666,
            15712.593366666668,
            15847.744033333336,
            16345.452366666666,
            16223.564166666665,
            15848.8589,
            16155.686366666667,
            15894.892333333331,
            15739.009166666665,
            16100.918833333335,
            15862.740933333334,
            16011.318599999999,
            16404.3267,
            15999.794633333337,
            15708.617566666668,
            15932.042933333332,
            15826.141833333333,
            15782.681900000001,
            16177.185733333334,
            15741.795033333336,
            16153.810933333332,
            15928.071933333333,
            16103.736400000002,
            15934.065000000002,
            16369.8516,
            16119.606333333331,
            15940.233099999998,
            15869.427399999999,
            15857.91713333333,
            16130.296766666666,
            16161.698999999999,
            16145.609533333334,
            16096.043733333332,
            16171.012933333333,
            16484.244566666668,
            15729.9121,
            16142.190733333335,
            16079.864433333334,
            15953.290433333334,
            16291.734933333335,
            16347.915966666667,
            16092.557833333332,
            16248.007333333335,
            15885.482566666666,
            16426.670266666668,
            16340.892533333332,
            15905.410133333333,
            16235.326966666666,
            16197.730966666668,
            16290.222200000002,
            15898.6158,
            16226.919533333334,
            16099.246266666667,
            16359.449833333332,
            15977.262366666664,
            16186.938900000001,
            15769.009866666665,
            16137.404400000001,
            15992.202866666667,
            16151.369833333332,
            16060.241066666667,
            15791.302366666665,
            16163.227033333334,
            16186.761099999998,
            15838.638933333335,
            16086.830633333331,
            16101.680166666665,
            15951.2581,
            15896.073333333334,
            15896.3401
           ]
          },
          {
           "label": "cluster_dist",
           "range": [
            0,
            1
           ],
           "ticktext": [
            false,
            true
           ],
           "tickvals": [
            0,
            1
           ],
           "values": [
            0,
            1,
            1,
            1,
            0,
            0,
            1,
            0,
            0,
            1,
            1,
            1,
            1,
            1,
            1,
            1,
            0,
            0,
            1,
            1,
            1,
            0,
            0,
            1,
            0,
            0,
            1,
            1,
            0,
            1,
            1,
            0,
            0,
            1,
            0,
            1,
            0,
            0,
            1,
            1,
            0,
            1,
            0,
            1,
            0,
            1,
            0,
            1,
            1,
            0,
            1,
            1,
            0,
            1,
            0,
            1,
            1,
            1,
            1,
            1,
            1,
            0,
            0,
            1,
            0,
            1,
            1,
            0,
            1,
            0,
            0,
            1,
            1,
            0,
            0,
            0,
            0,
            1,
            1,
            1,
            0,
            1,
            0,
            0,
            0,
            1,
            0,
            0,
            0,
            1,
            0,
            1,
            0,
            1,
            1,
            0,
            0,
            0,
            1,
            1,
            0,
            1,
            0,
            0,
            1,
            0,
            0,
            0,
            1,
            0,
            1,
            0,
            0,
            0,
            0,
            1,
            1,
            1,
            0,
            0,
            0,
            0,
            1,
            1,
            0,
            0,
            1,
            0
           ]
          },
          {
           "label": "count",
           "range": [
            0,
            1
           ],
           "ticktext": [
            true,
            false
           ],
           "tickvals": [
            0,
            1
           ],
           "values": [
            0,
            0,
            0,
            1,
            0,
            1,
            0,
            1,
            0,
            0,
            0,
            0,
            0,
            0,
            1,
            1,
            1,
            1,
            0,
            0,
            0,
            1,
            1,
            1,
            1,
            1,
            1,
            0,
            0,
            1,
            0,
            0,
            1,
            1,
            1,
            1,
            0,
            1,
            1,
            1,
            0,
            0,
            0,
            1,
            1,
            1,
            0,
            1,
            0,
            0,
            1,
            1,
            1,
            0,
            1,
            1,
            0,
            1,
            1,
            1,
            0,
            1,
            0,
            0,
            1,
            1,
            0,
            0,
            0,
            0,
            1,
            1,
            0,
            1,
            1,
            0,
            0,
            0,
            0,
            1,
            1,
            1,
            1,
            0,
            1,
            0,
            0,
            1,
            0,
            0,
            0,
            1,
            1,
            1,
            0,
            1,
            0,
            0,
            1,
            1,
            0,
            1,
            1,
            0,
            0,
            1,
            0,
            0,
            0,
            0,
            1,
            0,
            1,
            1,
            0,
            1,
            0,
            0,
            1,
            1,
            0,
            0,
            1,
            1,
            1,
            0,
            0,
            0
           ]
          },
          {
           "label": "drop_last",
           "range": [
            0,
            1
           ],
           "ticktext": [
            true,
            false
           ],
           "tickvals": [
            0,
            1
           ],
           "values": [
            0,
            0,
            1,
            0,
            1,
            1,
            1,
            0,
            0,
            0,
            1,
            1,
            0,
            1,
            0,
            0,
            0,
            1,
            0,
            1,
            1,
            1,
            0,
            0,
            0,
            1,
            1,
            0,
            1,
            0,
            1,
            0,
            1,
            0,
            0,
            1,
            0,
            1,
            1,
            0,
            0,
            0,
            1,
            0,
            1,
            1,
            1,
            0,
            1,
            0,
            0,
            0,
            0,
            0,
            0,
            0,
            0,
            1,
            1,
            0,
            0,
            0,
            1,
            0,
            0,
            1,
            1,
            0,
            1,
            0,
            0,
            1,
            1,
            0,
            1,
            1,
            1,
            0,
            0,
            0,
            0,
            1,
            1,
            1,
            1,
            0,
            1,
            1,
            0,
            1,
            1,
            1,
            1,
            1,
            1,
            1,
            0,
            1,
            1,
            0,
            0,
            1,
            1,
            0,
            0,
            0,
            0,
            1,
            0,
            0,
            1,
            1,
            0,
            1,
            0,
            1,
            0,
            1,
            0,
            0,
            1,
            0,
            0,
            1,
            1,
            1,
            1,
            1
           ]
          },
          {
           "label": "group",
           "range": [
            0,
            1
           ],
           "ticktext": [
            false,
            true
           ],
           "tickvals": [
            0,
            1
           ],
           "values": [
            0,
            0,
            0,
            0,
            1,
            1,
            0,
            1,
            1,
            1,
            1,
            1,
            0,
            1,
            0,
            1,
            0,
            1,
            1,
            0,
            1,
            1,
            0,
            1,
            1,
            0,
            0,
            1,
            0,
            0,
            0,
            1,
            1,
            1,
            0,
            1,
            0,
            0,
            1,
            0,
            1,
            0,
            1,
            0,
            0,
            0,
            1,
            1,
            0,
            0,
            0,
            0,
            0,
            0,
            1,
            1,
            1,
            0,
            0,
            1,
            1,
            1,
            0,
            0,
            1,
            0,
            1,
            1,
            1,
            1,
            0,
            1,
            0,
            1,
            1,
            0,
            1,
            0,
            0,
            1,
            0,
            1,
            0,
            1,
            0,
            0,
            1,
            0,
            0,
            0,
            1,
            1,
            0,
            0,
            0,
            1,
            1,
            0,
            0,
            1,
            0,
            1,
            1,
            1,
            1,
            0,
            0,
            0,
            1,
            0,
            0,
            1,
            1,
            0,
            0,
            1,
            1,
            1,
            1,
            0,
            0,
            1,
            0,
            1,
            1,
            0,
            1,
            0
           ]
          },
          {
           "label": "math",
           "range": [
            0,
            1
           ],
           "ticktext": [
            false,
            true
           ],
           "tickvals": [
            0,
            1
           ],
           "values": [
            0,
            1,
            0,
            0,
            1,
            1,
            0,
            0,
            0,
            0,
            1,
            0,
            0,
            0,
            0,
            1,
            0,
            1,
            0,
            1,
            1,
            0,
            1,
            0,
            0,
            0,
            0,
            1,
            0,
            1,
            0,
            1,
            0,
            0,
            0,
            1,
            0,
            0,
            0,
            1,
            1,
            0,
            0,
            0,
            1,
            1,
            0,
            0,
            0,
            0,
            1,
            1,
            1,
            1,
            1,
            1,
            0,
            1,
            1,
            1,
            1,
            0,
            1,
            0,
            1,
            0,
            1,
            1,
            0,
            1,
            1,
            0,
            1,
            0,
            0,
            1,
            0,
            1,
            1,
            1,
            0,
            0,
            1,
            1,
            0,
            0,
            1,
            1,
            1,
            1,
            1,
            0,
            0,
            1,
            1,
            1,
            0,
            0,
            0,
            0,
            1,
            1,
            0,
            0,
            1,
            1,
            0,
            1,
            1,
            1,
            0,
            0,
            1,
            1,
            1,
            1,
            0,
            0,
            1,
            0,
            1,
            0,
            0,
            1,
            1,
            0,
            1,
            0
           ]
          },
          {
           "label": "pca",
           "range": [
            0,
            1
           ],
           "ticktext": [
            true,
            false
           ],
           "tickvals": [
            0,
            1
           ],
           "values": [
            0,
            0,
            1,
            1,
            0,
            1,
            0,
            1,
            0,
            1,
            0,
            1,
            1,
            1,
            0,
            0,
            1,
            0,
            1,
            1,
            1,
            1,
            0,
            0,
            0,
            1,
            0,
            1,
            1,
            1,
            0,
            0,
            0,
            0,
            1,
            0,
            1,
            0,
            0,
            1,
            1,
            0,
            0,
            1,
            0,
            1,
            0,
            1,
            1,
            0,
            0,
            0,
            1,
            1,
            1,
            1,
            0,
            1,
            0,
            0,
            1,
            1,
            1,
            1,
            0,
            1,
            0,
            1,
            0,
            0,
            0,
            0,
            0,
            0,
            0,
            0,
            1,
            0,
            1,
            1,
            0,
            1,
            0,
            1,
            0,
            0,
            0,
            1,
            1,
            1,
            1,
            1,
            1,
            0,
            0,
            1,
            0,
            1,
            1,
            1,
            1,
            1,
            1,
            1,
            0,
            1,
            1,
            0,
            0,
            0,
            0,
            1,
            0,
            1,
            0,
            1,
            0,
            0,
            1,
            0,
            1,
            1,
            0,
            0,
            0,
            0,
            1,
            0
           ]
          },
          {
           "label": "target",
           "range": [
            0,
            1
           ],
           "ticktext": [
            false,
            true
           ],
           "tickvals": [
            0,
            1
           ],
           "values": [
            0,
            0,
            1,
            0,
            0,
            0,
            0,
            1,
            0,
            1,
            0,
            0,
            0,
            1,
            0,
            0,
            1,
            1,
            0,
            1,
            0,
            1,
            1,
            1,
            0,
            1,
            1,
            0,
            0,
            0,
            1,
            1,
            0,
            0,
            0,
            1,
            0,
            0,
            1,
            1,
            1,
            0,
            0,
            1,
            1,
            1,
            1,
            1,
            0,
            1,
            0,
            1,
            1,
            1,
            0,
            0,
            1,
            0,
            0,
            1,
            1,
            0,
            1,
            1,
            0,
            1,
            1,
            0,
            1,
            0,
            0,
            0,
            1,
            1,
            1,
            1,
            1,
            1,
            0,
            1,
            0,
            1,
            0,
            1,
            1,
            1,
            1,
            1,
            1,
            0,
            0,
            0,
            0,
            1,
            0,
            1,
            1,
            1,
            0,
            0,
            0,
            1,
            0,
            0,
            0,
            0,
            1,
            0,
            1,
            0,
            0,
            0,
            1,
            0,
            1,
            0,
            0,
            0,
            1,
            1,
            0,
            1,
            1,
            0,
            0,
            0,
            1,
            1
           ]
          }
         ],
         "labelangle": 30,
         "labelside": "bottom",
         "line": {
          "color": [
           16189.140233333334,
           16125.964166666667,
           16074.536800000002,
           16304.984166666667,
           16037.840900000001,
           16079.144033333336,
           15881.147233333331,
           16088.544733333334,
           16055.022566666667,
           16049.874366666665,
           16054.074066666668,
           16016.241533333334,
           16140.4381,
           16004.047466666669,
           16073.6225,
           16043.5195,
           16151.479999999998,
           15903.867466666668,
           16201.6874,
           16007.237433333334,
           16111.294266666666,
           16197.258699999998,
           15824.96093333333,
           15824.345466666666,
           15895.0587,
           16231.356366666667,
           15776.872933333332,
           16168.472499999998,
           16499.543433333332,
           16137.572500000002,
           15833.058666666666,
           15865.4348,
           16003.8658,
           15967.41466666667,
           16612.3392,
           15841.11626666667,
           16592.681866666666,
           16027.337699999998,
           15875.942666666668,
           15977.982599999998,
           16047.6962,
           16029.162033333334,
           16025.498266666667,
           16147.825400000002,
           15785.789533333334,
           15999.063933333333,
           15930.962866666667,
           16013.962599999999,
           16413.8593,
           15810.28016666667,
           16194.3264,
           15750.232233333334,
           16124.436566666665,
           16044.683333333334,
           16160.719899999998,
           16126.8258,
           15861.820033333332,
           16101.7551,
           16194.263666666666,
           15712.593366666668,
           15847.744033333336,
           16345.452366666666,
           16223.564166666665,
           15848.8589,
           16155.686366666667,
           15894.892333333331,
           15739.009166666665,
           16100.918833333335,
           15862.740933333334,
           16011.318599999999,
           16404.3267,
           15999.794633333337,
           15708.617566666668,
           15932.042933333332,
           15826.141833333333,
           15782.681900000001,
           16177.185733333334,
           15741.795033333336,
           16153.810933333332,
           15928.071933333333,
           16103.736400000002,
           15934.065000000002,
           16369.8516,
           16119.606333333331,
           15940.233099999998,
           15869.427399999999,
           15857.91713333333,
           16130.296766666666,
           16161.698999999999,
           16145.609533333334,
           16096.043733333332,
           16171.012933333333,
           16484.244566666668,
           15729.9121,
           16142.190733333335,
           16079.864433333334,
           15953.290433333334,
           16291.734933333335,
           16347.915966666667,
           16092.557833333332,
           16248.007333333335,
           15885.482566666666,
           16426.670266666668,
           16340.892533333332,
           15905.410133333333,
           16235.326966666666,
           16197.730966666668,
           16290.222200000002,
           15898.6158,
           16226.919533333334,
           16099.246266666667,
           16359.449833333332,
           15977.262366666664,
           16186.938900000001,
           15769.009866666665,
           16137.404400000001,
           15992.202866666667,
           16151.369833333332,
           16060.241066666667,
           15791.302366666665,
           16163.227033333334,
           16186.761099999998,
           15838.638933333335,
           16086.830633333331,
           16101.680166666665,
           15951.2581,
           15896.073333333334,
           15896.3401
          ],
          "colorbar": {
           "title": {
            "text": "Objective Value"
           }
          },
          "colorscale": [
           [
            0,
            "rgb(247,251,255)"
           ],
           [
            0.125,
            "rgb(222,235,247)"
           ],
           [
            0.25,
            "rgb(198,219,239)"
           ],
           [
            0.375,
            "rgb(158,202,225)"
           ],
           [
            0.5,
            "rgb(107,174,214)"
           ],
           [
            0.625,
            "rgb(66,146,198)"
           ],
           [
            0.75,
            "rgb(33,113,181)"
           ],
           [
            0.875,
            "rgb(8,81,156)"
           ],
           [
            1,
            "rgb(8,48,107)"
           ]
          ],
          "reversescale": true,
          "showscale": true
         },
         "type": "parcoords"
        }
       ],
       "layout": {
        "template": {
         "data": {
          "bar": [
           {
            "error_x": {
             "color": "#2a3f5f"
            },
            "error_y": {
             "color": "#2a3f5f"
            },
            "marker": {
             "line": {
              "color": "#E5ECF6",
              "width": 0.5
             },
             "pattern": {
              "fillmode": "overlay",
              "size": 10,
              "solidity": 0.2
             }
            },
            "type": "bar"
           }
          ],
          "barpolar": [
           {
            "marker": {
             "line": {
              "color": "#E5ECF6",
              "width": 0.5
             },
             "pattern": {
              "fillmode": "overlay",
              "size": 10,
              "solidity": 0.2
             }
            },
            "type": "barpolar"
           }
          ],
          "carpet": [
           {
            "aaxis": {
             "endlinecolor": "#2a3f5f",
             "gridcolor": "white",
             "linecolor": "white",
             "minorgridcolor": "white",
             "startlinecolor": "#2a3f5f"
            },
            "baxis": {
             "endlinecolor": "#2a3f5f",
             "gridcolor": "white",
             "linecolor": "white",
             "minorgridcolor": "white",
             "startlinecolor": "#2a3f5f"
            },
            "type": "carpet"
           }
          ],
          "choropleth": [
           {
            "colorbar": {
             "outlinewidth": 0,
             "ticks": ""
            },
            "type": "choropleth"
           }
          ],
          "contour": [
           {
            "colorbar": {
             "outlinewidth": 0,
             "ticks": ""
            },
            "colorscale": [
             [
              0,
              "#0d0887"
             ],
             [
              0.1111111111111111,
              "#46039f"
             ],
             [
              0.2222222222222222,
              "#7201a8"
             ],
             [
              0.3333333333333333,
              "#9c179e"
             ],
             [
              0.4444444444444444,
              "#bd3786"
             ],
             [
              0.5555555555555556,
              "#d8576b"
             ],
             [
              0.6666666666666666,
              "#ed7953"
             ],
             [
              0.7777777777777778,
              "#fb9f3a"
             ],
             [
              0.8888888888888888,
              "#fdca26"
             ],
             [
              1,
              "#f0f921"
             ]
            ],
            "type": "contour"
           }
          ],
          "contourcarpet": [
           {
            "colorbar": {
             "outlinewidth": 0,
             "ticks": ""
            },
            "type": "contourcarpet"
           }
          ],
          "heatmap": [
           {
            "colorbar": {
             "outlinewidth": 0,
             "ticks": ""
            },
            "colorscale": [
             [
              0,
              "#0d0887"
             ],
             [
              0.1111111111111111,
              "#46039f"
             ],
             [
              0.2222222222222222,
              "#7201a8"
             ],
             [
              0.3333333333333333,
              "#9c179e"
             ],
             [
              0.4444444444444444,
              "#bd3786"
             ],
             [
              0.5555555555555556,
              "#d8576b"
             ],
             [
              0.6666666666666666,
              "#ed7953"
             ],
             [
              0.7777777777777778,
              "#fb9f3a"
             ],
             [
              0.8888888888888888,
              "#fdca26"
             ],
             [
              1,
              "#f0f921"
             ]
            ],
            "type": "heatmap"
           }
          ],
          "heatmapgl": [
           {
            "colorbar": {
             "outlinewidth": 0,
             "ticks": ""
            },
            "colorscale": [
             [
              0,
              "#0d0887"
             ],
             [
              0.1111111111111111,
              "#46039f"
             ],
             [
              0.2222222222222222,
              "#7201a8"
             ],
             [
              0.3333333333333333,
              "#9c179e"
             ],
             [
              0.4444444444444444,
              "#bd3786"
             ],
             [
              0.5555555555555556,
              "#d8576b"
             ],
             [
              0.6666666666666666,
              "#ed7953"
             ],
             [
              0.7777777777777778,
              "#fb9f3a"
             ],
             [
              0.8888888888888888,
              "#fdca26"
             ],
             [
              1,
              "#f0f921"
             ]
            ],
            "type": "heatmapgl"
           }
          ],
          "histogram": [
           {
            "marker": {
             "pattern": {
              "fillmode": "overlay",
              "size": 10,
              "solidity": 0.2
             }
            },
            "type": "histogram"
           }
          ],
          "histogram2d": [
           {
            "colorbar": {
             "outlinewidth": 0,
             "ticks": ""
            },
            "colorscale": [
             [
              0,
              "#0d0887"
             ],
             [
              0.1111111111111111,
              "#46039f"
             ],
             [
              0.2222222222222222,
              "#7201a8"
             ],
             [
              0.3333333333333333,
              "#9c179e"
             ],
             [
              0.4444444444444444,
              "#bd3786"
             ],
             [
              0.5555555555555556,
              "#d8576b"
             ],
             [
              0.6666666666666666,
              "#ed7953"
             ],
             [
              0.7777777777777778,
              "#fb9f3a"
             ],
             [
              0.8888888888888888,
              "#fdca26"
             ],
             [
              1,
              "#f0f921"
             ]
            ],
            "type": "histogram2d"
           }
          ],
          "histogram2dcontour": [
           {
            "colorbar": {
             "outlinewidth": 0,
             "ticks": ""
            },
            "colorscale": [
             [
              0,
              "#0d0887"
             ],
             [
              0.1111111111111111,
              "#46039f"
             ],
             [
              0.2222222222222222,
              "#7201a8"
             ],
             [
              0.3333333333333333,
              "#9c179e"
             ],
             [
              0.4444444444444444,
              "#bd3786"
             ],
             [
              0.5555555555555556,
              "#d8576b"
             ],
             [
              0.6666666666666666,
              "#ed7953"
             ],
             [
              0.7777777777777778,
              "#fb9f3a"
             ],
             [
              0.8888888888888888,
              "#fdca26"
             ],
             [
              1,
              "#f0f921"
             ]
            ],
            "type": "histogram2dcontour"
           }
          ],
          "mesh3d": [
           {
            "colorbar": {
             "outlinewidth": 0,
             "ticks": ""
            },
            "type": "mesh3d"
           }
          ],
          "parcoords": [
           {
            "line": {
             "colorbar": {
              "outlinewidth": 0,
              "ticks": ""
             }
            },
            "type": "parcoords"
           }
          ],
          "pie": [
           {
            "automargin": true,
            "type": "pie"
           }
          ],
          "scatter": [
           {
            "marker": {
             "colorbar": {
              "outlinewidth": 0,
              "ticks": ""
             }
            },
            "type": "scatter"
           }
          ],
          "scatter3d": [
           {
            "line": {
             "colorbar": {
              "outlinewidth": 0,
              "ticks": ""
             }
            },
            "marker": {
             "colorbar": {
              "outlinewidth": 0,
              "ticks": ""
             }
            },
            "type": "scatter3d"
           }
          ],
          "scattercarpet": [
           {
            "marker": {
             "colorbar": {
              "outlinewidth": 0,
              "ticks": ""
             }
            },
            "type": "scattercarpet"
           }
          ],
          "scattergeo": [
           {
            "marker": {
             "colorbar": {
              "outlinewidth": 0,
              "ticks": ""
             }
            },
            "type": "scattergeo"
           }
          ],
          "scattergl": [
           {
            "marker": {
             "colorbar": {
              "outlinewidth": 0,
              "ticks": ""
             }
            },
            "type": "scattergl"
           }
          ],
          "scattermapbox": [
           {
            "marker": {
             "colorbar": {
              "outlinewidth": 0,
              "ticks": ""
             }
            },
            "type": "scattermapbox"
           }
          ],
          "scatterpolar": [
           {
            "marker": {
             "colorbar": {
              "outlinewidth": 0,
              "ticks": ""
             }
            },
            "type": "scatterpolar"
           }
          ],
          "scatterpolargl": [
           {
            "marker": {
             "colorbar": {
              "outlinewidth": 0,
              "ticks": ""
             }
            },
            "type": "scatterpolargl"
           }
          ],
          "scatterternary": [
           {
            "marker": {
             "colorbar": {
              "outlinewidth": 0,
              "ticks": ""
             }
            },
            "type": "scatterternary"
           }
          ],
          "surface": [
           {
            "colorbar": {
             "outlinewidth": 0,
             "ticks": ""
            },
            "colorscale": [
             [
              0,
              "#0d0887"
             ],
             [
              0.1111111111111111,
              "#46039f"
             ],
             [
              0.2222222222222222,
              "#7201a8"
             ],
             [
              0.3333333333333333,
              "#9c179e"
             ],
             [
              0.4444444444444444,
              "#bd3786"
             ],
             [
              0.5555555555555556,
              "#d8576b"
             ],
             [
              0.6666666666666666,
              "#ed7953"
             ],
             [
              0.7777777777777778,
              "#fb9f3a"
             ],
             [
              0.8888888888888888,
              "#fdca26"
             ],
             [
              1,
              "#f0f921"
             ]
            ],
            "type": "surface"
           }
          ],
          "table": [
           {
            "cells": {
             "fill": {
              "color": "#EBF0F8"
             },
             "line": {
              "color": "white"
             }
            },
            "header": {
             "fill": {
              "color": "#C8D4E3"
             },
             "line": {
              "color": "white"
             }
            },
            "type": "table"
           }
          ]
         },
         "layout": {
          "annotationdefaults": {
           "arrowcolor": "#2a3f5f",
           "arrowhead": 0,
           "arrowwidth": 1
          },
          "autotypenumbers": "strict",
          "coloraxis": {
           "colorbar": {
            "outlinewidth": 0,
            "ticks": ""
           }
          },
          "colorscale": {
           "diverging": [
            [
             0,
             "#8e0152"
            ],
            [
             0.1,
             "#c51b7d"
            ],
            [
             0.2,
             "#de77ae"
            ],
            [
             0.3,
             "#f1b6da"
            ],
            [
             0.4,
             "#fde0ef"
            ],
            [
             0.5,
             "#f7f7f7"
            ],
            [
             0.6,
             "#e6f5d0"
            ],
            [
             0.7,
             "#b8e186"
            ],
            [
             0.8,
             "#7fbc41"
            ],
            [
             0.9,
             "#4d9221"
            ],
            [
             1,
             "#276419"
            ]
           ],
           "sequential": [
            [
             0,
             "#0d0887"
            ],
            [
             0.1111111111111111,
             "#46039f"
            ],
            [
             0.2222222222222222,
             "#7201a8"
            ],
            [
             0.3333333333333333,
             "#9c179e"
            ],
            [
             0.4444444444444444,
             "#bd3786"
            ],
            [
             0.5555555555555556,
             "#d8576b"
            ],
            [
             0.6666666666666666,
             "#ed7953"
            ],
            [
             0.7777777777777778,
             "#fb9f3a"
            ],
            [
             0.8888888888888888,
             "#fdca26"
            ],
            [
             1,
             "#f0f921"
            ]
           ],
           "sequentialminus": [
            [
             0,
             "#0d0887"
            ],
            [
             0.1111111111111111,
             "#46039f"
            ],
            [
             0.2222222222222222,
             "#7201a8"
            ],
            [
             0.3333333333333333,
             "#9c179e"
            ],
            [
             0.4444444444444444,
             "#bd3786"
            ],
            [
             0.5555555555555556,
             "#d8576b"
            ],
            [
             0.6666666666666666,
             "#ed7953"
            ],
            [
             0.7777777777777778,
             "#fb9f3a"
            ],
            [
             0.8888888888888888,
             "#fdca26"
            ],
            [
             1,
             "#f0f921"
            ]
           ]
          },
          "colorway": [
           "#636efa",
           "#EF553B",
           "#00cc96",
           "#ab63fa",
           "#FFA15A",
           "#19d3f3",
           "#FF6692",
           "#B6E880",
           "#FF97FF",
           "#FECB52"
          ],
          "font": {
           "color": "#2a3f5f"
          },
          "geo": {
           "bgcolor": "white",
           "lakecolor": "white",
           "landcolor": "#E5ECF6",
           "showlakes": true,
           "showland": true,
           "subunitcolor": "white"
          },
          "hoverlabel": {
           "align": "left"
          },
          "hovermode": "closest",
          "mapbox": {
           "style": "light"
          },
          "paper_bgcolor": "white",
          "plot_bgcolor": "#E5ECF6",
          "polar": {
           "angularaxis": {
            "gridcolor": "white",
            "linecolor": "white",
            "ticks": ""
           },
           "bgcolor": "#E5ECF6",
           "radialaxis": {
            "gridcolor": "white",
            "linecolor": "white",
            "ticks": ""
           }
          },
          "scene": {
           "xaxis": {
            "backgroundcolor": "#E5ECF6",
            "gridcolor": "white",
            "gridwidth": 2,
            "linecolor": "white",
            "showbackground": true,
            "ticks": "",
            "zerolinecolor": "white"
           },
           "yaxis": {
            "backgroundcolor": "#E5ECF6",
            "gridcolor": "white",
            "gridwidth": 2,
            "linecolor": "white",
            "showbackground": true,
            "ticks": "",
            "zerolinecolor": "white"
           },
           "zaxis": {
            "backgroundcolor": "#E5ECF6",
            "gridcolor": "white",
            "gridwidth": 2,
            "linecolor": "white",
            "showbackground": true,
            "ticks": "",
            "zerolinecolor": "white"
           }
          },
          "shapedefaults": {
           "line": {
            "color": "#2a3f5f"
           }
          },
          "ternary": {
           "aaxis": {
            "gridcolor": "white",
            "linecolor": "white",
            "ticks": ""
           },
           "baxis": {
            "gridcolor": "white",
            "linecolor": "white",
            "ticks": ""
           },
           "bgcolor": "#E5ECF6",
           "caxis": {
            "gridcolor": "white",
            "linecolor": "white",
            "ticks": ""
           }
          },
          "title": {
           "x": 0.05
          },
          "xaxis": {
           "automargin": true,
           "gridcolor": "white",
           "linecolor": "white",
           "ticks": "",
           "title": {
            "standoff": 15
           },
           "zerolinecolor": "white",
           "zerolinewidth": 2
          },
          "yaxis": {
           "automargin": true,
           "gridcolor": "white",
           "linecolor": "white",
           "ticks": "",
           "title": {
            "standoff": 15
           },
           "zerolinecolor": "white",
           "zerolinewidth": 2
          }
         }
        },
        "title": {
         "text": "Parallel Coordinate Plot"
        }
       }
      },
      "text/html": [
       "<div>                            <div id=\"656436ee-2f98-456a-81d2-70e63041404f\" class=\"plotly-graph-div\" style=\"height:525px; width:100%;\"></div>            <script type=\"text/javascript\">                require([\"plotly\"], function(Plotly) {                    window.PLOTLYENV=window.PLOTLYENV || {};                                    if (document.getElementById(\"656436ee-2f98-456a-81d2-70e63041404f\")) {                    Plotly.newPlot(                        \"656436ee-2f98-456a-81d2-70e63041404f\",                        [{\"dimensions\":[{\"label\":\"Objective Value\",\"range\":[15708.617566666668,16612.3392],\"values\":[16189.140233333334,16125.964166666667,16074.536800000002,16304.984166666667,16037.840900000001,16079.144033333336,15881.147233333331,16088.544733333334,16055.022566666667,16049.874366666665,16054.074066666668,16016.241533333334,16140.4381,16004.047466666669,16073.6225,16043.5195,16151.479999999998,15903.867466666668,16201.6874,16007.237433333334,16111.294266666666,16197.258699999998,15824.96093333333,15824.345466666666,15895.0587,16231.356366666667,15776.872933333332,16168.472499999998,16499.543433333332,16137.572500000002,15833.058666666666,15865.4348,16003.8658,15967.41466666667,16612.3392,15841.11626666667,16592.681866666666,16027.337699999998,15875.942666666668,15977.982599999998,16047.6962,16029.162033333334,16025.498266666667,16147.825400000002,15785.789533333334,15999.063933333333,15930.962866666667,16013.962599999999,16413.8593,15810.28016666667,16194.3264,15750.232233333334,16124.436566666665,16044.683333333334,16160.719899999998,16126.8258,15861.820033333332,16101.7551,16194.263666666666,15712.593366666668,15847.744033333336,16345.452366666666,16223.564166666665,15848.8589,16155.686366666667,15894.892333333331,15739.009166666665,16100.918833333335,15862.740933333334,16011.318599999999,16404.3267,15999.794633333337,15708.617566666668,15932.042933333332,15826.141833333333,15782.681900000001,16177.185733333334,15741.795033333336,16153.810933333332,15928.071933333333,16103.736400000002,15934.065000000002,16369.8516,16119.606333333331,15940.233099999998,15869.427399999999,15857.91713333333,16130.296766666666,16161.698999999999,16145.609533333334,16096.043733333332,16171.012933333333,16484.244566666668,15729.9121,16142.190733333335,16079.864433333334,15953.290433333334,16291.734933333335,16347.915966666667,16092.557833333332,16248.007333333335,15885.482566666666,16426.670266666668,16340.892533333332,15905.410133333333,16235.326966666666,16197.730966666668,16290.222200000002,15898.6158,16226.919533333334,16099.246266666667,16359.449833333332,15977.262366666664,16186.938900000001,15769.009866666665,16137.404400000001,15992.202866666667,16151.369833333332,16060.241066666667,15791.302366666665,16163.227033333334,16186.761099999998,15838.638933333335,16086.830633333331,16101.680166666665,15951.2581,15896.073333333334,15896.3401]},{\"label\":\"cluster_dist\",\"range\":[0,1],\"ticktext\":[false,true],\"tickvals\":[0,1],\"values\":[0,1,1,1,0,0,1,0,0,1,1,1,1,1,1,1,0,0,1,1,1,0,0,1,0,0,1,1,0,1,1,0,0,1,0,1,0,0,1,1,0,1,0,1,0,1,0,1,1,0,1,1,0,1,0,1,1,1,1,1,1,0,0,1,0,1,1,0,1,0,0,1,1,0,0,0,0,1,1,1,0,1,0,0,0,1,0,0,0,1,0,1,0,1,1,0,0,0,1,1,0,1,0,0,1,0,0,0,1,0,1,0,0,0,0,1,1,1,0,0,0,0,1,1,0,0,1,0]},{\"label\":\"count\",\"range\":[0,1],\"ticktext\":[true,false],\"tickvals\":[0,1],\"values\":[0,0,0,1,0,1,0,1,0,0,0,0,0,0,1,1,1,1,0,0,0,1,1,1,1,1,1,0,0,1,0,0,1,1,1,1,0,1,1,1,0,0,0,1,1,1,0,1,0,0,1,1,1,0,1,1,0,1,1,1,0,1,0,0,1,1,0,0,0,0,1,1,0,1,1,0,0,0,0,1,1,1,1,0,1,0,0,1,0,0,0,1,1,1,0,1,0,0,1,1,0,1,1,0,0,1,0,0,0,0,1,0,1,1,0,1,0,0,1,1,0,0,1,1,1,0,0,0]},{\"label\":\"drop_last\",\"range\":[0,1],\"ticktext\":[true,false],\"tickvals\":[0,1],\"values\":[0,0,1,0,1,1,1,0,0,0,1,1,0,1,0,0,0,1,0,1,1,1,0,0,0,1,1,0,1,0,1,0,1,0,0,1,0,1,1,0,0,0,1,0,1,1,1,0,1,0,0,0,0,0,0,0,0,1,1,0,0,0,1,0,0,1,1,0,1,0,0,1,1,0,1,1,1,0,0,0,0,1,1,1,1,0,1,1,0,1,1,1,1,1,1,1,0,1,1,0,0,1,1,0,0,0,0,1,0,0,1,1,0,1,0,1,0,1,0,0,1,0,0,1,1,1,1,1]},{\"label\":\"group\",\"range\":[0,1],\"ticktext\":[false,true],\"tickvals\":[0,1],\"values\":[0,0,0,0,1,1,0,1,1,1,1,1,0,1,0,1,0,1,1,0,1,1,0,1,1,0,0,1,0,0,0,1,1,1,0,1,0,0,1,0,1,0,1,0,0,0,1,1,0,0,0,0,0,0,1,1,1,0,0,1,1,1,0,0,1,0,1,1,1,1,0,1,0,1,1,0,1,0,0,1,0,1,0,1,0,0,1,0,0,0,1,1,0,0,0,1,1,0,0,1,0,1,1,1,1,0,0,0,1,0,0,1,1,0,0,1,1,1,1,0,0,1,0,1,1,0,1,0]},{\"label\":\"math\",\"range\":[0,1],\"ticktext\":[false,true],\"tickvals\":[0,1],\"values\":[0,1,0,0,1,1,0,0,0,0,1,0,0,0,0,1,0,1,0,1,1,0,1,0,0,0,0,1,0,1,0,1,0,0,0,1,0,0,0,1,1,0,0,0,1,1,0,0,0,0,1,1,1,1,1,1,0,1,1,1,1,0,1,0,1,0,1,1,0,1,1,0,1,0,0,1,0,1,1,1,0,0,1,1,0,0,1,1,1,1,1,0,0,1,1,1,0,0,0,0,1,1,0,0,1,1,0,1,1,1,0,0,1,1,1,1,0,0,1,0,1,0,0,1,1,0,1,0]},{\"label\":\"pca\",\"range\":[0,1],\"ticktext\":[true,false],\"tickvals\":[0,1],\"values\":[0,0,1,1,0,1,0,1,0,1,0,1,1,1,0,0,1,0,1,1,1,1,0,0,0,1,0,1,1,1,0,0,0,0,1,0,1,0,0,1,1,0,0,1,0,1,0,1,1,0,0,0,1,1,1,1,0,1,0,0,1,1,1,1,0,1,0,1,0,0,0,0,0,0,0,0,1,0,1,1,0,1,0,1,0,0,0,1,1,1,1,1,1,0,0,1,0,1,1,1,1,1,1,1,0,1,1,0,0,0,0,1,0,1,0,1,0,0,1,0,1,1,0,0,0,0,1,0]},{\"label\":\"target\",\"range\":[0,1],\"ticktext\":[false,true],\"tickvals\":[0,1],\"values\":[0,0,1,0,0,0,0,1,0,1,0,0,0,1,0,0,1,1,0,1,0,1,1,1,0,1,1,0,0,0,1,1,0,0,0,1,0,0,1,1,1,0,0,1,1,1,1,1,0,1,0,1,1,1,0,0,1,0,0,1,1,0,1,1,0,1,1,0,1,0,0,0,1,1,1,1,1,1,0,1,0,1,0,1,1,1,1,1,1,0,0,0,0,1,0,1,1,1,0,0,0,1,0,0,0,0,1,0,1,0,0,0,1,0,1,0,0,0,1,1,0,1,1,0,0,0,1,1]}],\"labelangle\":30,\"labelside\":\"bottom\",\"line\":{\"color\":[16189.140233333334,16125.964166666667,16074.536800000002,16304.984166666667,16037.840900000001,16079.144033333336,15881.147233333331,16088.544733333334,16055.022566666667,16049.874366666665,16054.074066666668,16016.241533333334,16140.4381,16004.047466666669,16073.6225,16043.5195,16151.479999999998,15903.867466666668,16201.6874,16007.237433333334,16111.294266666666,16197.258699999998,15824.96093333333,15824.345466666666,15895.0587,16231.356366666667,15776.872933333332,16168.472499999998,16499.543433333332,16137.572500000002,15833.058666666666,15865.4348,16003.8658,15967.41466666667,16612.3392,15841.11626666667,16592.681866666666,16027.337699999998,15875.942666666668,15977.982599999998,16047.6962,16029.162033333334,16025.498266666667,16147.825400000002,15785.789533333334,15999.063933333333,15930.962866666667,16013.962599999999,16413.8593,15810.28016666667,16194.3264,15750.232233333334,16124.436566666665,16044.683333333334,16160.719899999998,16126.8258,15861.820033333332,16101.7551,16194.263666666666,15712.593366666668,15847.744033333336,16345.452366666666,16223.564166666665,15848.8589,16155.686366666667,15894.892333333331,15739.009166666665,16100.918833333335,15862.740933333334,16011.318599999999,16404.3267,15999.794633333337,15708.617566666668,15932.042933333332,15826.141833333333,15782.681900000001,16177.185733333334,15741.795033333336,16153.810933333332,15928.071933333333,16103.736400000002,15934.065000000002,16369.8516,16119.606333333331,15940.233099999998,15869.427399999999,15857.91713333333,16130.296766666666,16161.698999999999,16145.609533333334,16096.043733333332,16171.012933333333,16484.244566666668,15729.9121,16142.190733333335,16079.864433333334,15953.290433333334,16291.734933333335,16347.915966666667,16092.557833333332,16248.007333333335,15885.482566666666,16426.670266666668,16340.892533333332,15905.410133333333,16235.326966666666,16197.730966666668,16290.222200000002,15898.6158,16226.919533333334,16099.246266666667,16359.449833333332,15977.262366666664,16186.938900000001,15769.009866666665,16137.404400000001,15992.202866666667,16151.369833333332,16060.241066666667,15791.302366666665,16163.227033333334,16186.761099999998,15838.638933333335,16086.830633333331,16101.680166666665,15951.2581,15896.073333333334,15896.3401],\"colorbar\":{\"title\":{\"text\":\"Objective Value\"}},\"colorscale\":[[0.0,\"rgb(247,251,255)\"],[0.125,\"rgb(222,235,247)\"],[0.25,\"rgb(198,219,239)\"],[0.375,\"rgb(158,202,225)\"],[0.5,\"rgb(107,174,214)\"],[0.625,\"rgb(66,146,198)\"],[0.75,\"rgb(33,113,181)\"],[0.875,\"rgb(8,81,156)\"],[1.0,\"rgb(8,48,107)\"]],\"reversescale\":true,\"showscale\":true},\"type\":\"parcoords\"}],                        {\"template\":{\"data\":{\"bar\":[{\"error_x\":{\"color\":\"#2a3f5f\"},\"error_y\":{\"color\":\"#2a3f5f\"},\"marker\":{\"line\":{\"color\":\"#E5ECF6\",\"width\":0.5},\"pattern\":{\"fillmode\":\"overlay\",\"size\":10,\"solidity\":0.2}},\"type\":\"bar\"}],\"barpolar\":[{\"marker\":{\"line\":{\"color\":\"#E5ECF6\",\"width\":0.5},\"pattern\":{\"fillmode\":\"overlay\",\"size\":10,\"solidity\":0.2}},\"type\":\"barpolar\"}],\"carpet\":[{\"aaxis\":{\"endlinecolor\":\"#2a3f5f\",\"gridcolor\":\"white\",\"linecolor\":\"white\",\"minorgridcolor\":\"white\",\"startlinecolor\":\"#2a3f5f\"},\"baxis\":{\"endlinecolor\":\"#2a3f5f\",\"gridcolor\":\"white\",\"linecolor\":\"white\",\"minorgridcolor\":\"white\",\"startlinecolor\":\"#2a3f5f\"},\"type\":\"carpet\"}],\"choropleth\":[{\"colorbar\":{\"outlinewidth\":0,\"ticks\":\"\"},\"type\":\"choropleth\"}],\"contour\":[{\"colorbar\":{\"outlinewidth\":0,\"ticks\":\"\"},\"colorscale\":[[0.0,\"#0d0887\"],[0.1111111111111111,\"#46039f\"],[0.2222222222222222,\"#7201a8\"],[0.3333333333333333,\"#9c179e\"],[0.4444444444444444,\"#bd3786\"],[0.5555555555555556,\"#d8576b\"],[0.6666666666666666,\"#ed7953\"],[0.7777777777777778,\"#fb9f3a\"],[0.8888888888888888,\"#fdca26\"],[1.0,\"#f0f921\"]],\"type\":\"contour\"}],\"contourcarpet\":[{\"colorbar\":{\"outlinewidth\":0,\"ticks\":\"\"},\"type\":\"contourcarpet\"}],\"heatmap\":[{\"colorbar\":{\"outlinewidth\":0,\"ticks\":\"\"},\"colorscale\":[[0.0,\"#0d0887\"],[0.1111111111111111,\"#46039f\"],[0.2222222222222222,\"#7201a8\"],[0.3333333333333333,\"#9c179e\"],[0.4444444444444444,\"#bd3786\"],[0.5555555555555556,\"#d8576b\"],[0.6666666666666666,\"#ed7953\"],[0.7777777777777778,\"#fb9f3a\"],[0.8888888888888888,\"#fdca26\"],[1.0,\"#f0f921\"]],\"type\":\"heatmap\"}],\"heatmapgl\":[{\"colorbar\":{\"outlinewidth\":0,\"ticks\":\"\"},\"colorscale\":[[0.0,\"#0d0887\"],[0.1111111111111111,\"#46039f\"],[0.2222222222222222,\"#7201a8\"],[0.3333333333333333,\"#9c179e\"],[0.4444444444444444,\"#bd3786\"],[0.5555555555555556,\"#d8576b\"],[0.6666666666666666,\"#ed7953\"],[0.7777777777777778,\"#fb9f3a\"],[0.8888888888888888,\"#fdca26\"],[1.0,\"#f0f921\"]],\"type\":\"heatmapgl\"}],\"histogram\":[{\"marker\":{\"pattern\":{\"fillmode\":\"overlay\",\"size\":10,\"solidity\":0.2}},\"type\":\"histogram\"}],\"histogram2d\":[{\"colorbar\":{\"outlinewidth\":0,\"ticks\":\"\"},\"colorscale\":[[0.0,\"#0d0887\"],[0.1111111111111111,\"#46039f\"],[0.2222222222222222,\"#7201a8\"],[0.3333333333333333,\"#9c179e\"],[0.4444444444444444,\"#bd3786\"],[0.5555555555555556,\"#d8576b\"],[0.6666666666666666,\"#ed7953\"],[0.7777777777777778,\"#fb9f3a\"],[0.8888888888888888,\"#fdca26\"],[1.0,\"#f0f921\"]],\"type\":\"histogram2d\"}],\"histogram2dcontour\":[{\"colorbar\":{\"outlinewidth\":0,\"ticks\":\"\"},\"colorscale\":[[0.0,\"#0d0887\"],[0.1111111111111111,\"#46039f\"],[0.2222222222222222,\"#7201a8\"],[0.3333333333333333,\"#9c179e\"],[0.4444444444444444,\"#bd3786\"],[0.5555555555555556,\"#d8576b\"],[0.6666666666666666,\"#ed7953\"],[0.7777777777777778,\"#fb9f3a\"],[0.8888888888888888,\"#fdca26\"],[1.0,\"#f0f921\"]],\"type\":\"histogram2dcontour\"}],\"mesh3d\":[{\"colorbar\":{\"outlinewidth\":0,\"ticks\":\"\"},\"type\":\"mesh3d\"}],\"parcoords\":[{\"line\":{\"colorbar\":{\"outlinewidth\":0,\"ticks\":\"\"}},\"type\":\"parcoords\"}],\"pie\":[{\"automargin\":true,\"type\":\"pie\"}],\"scatter\":[{\"marker\":{\"colorbar\":{\"outlinewidth\":0,\"ticks\":\"\"}},\"type\":\"scatter\"}],\"scatter3d\":[{\"line\":{\"colorbar\":{\"outlinewidth\":0,\"ticks\":\"\"}},\"marker\":{\"colorbar\":{\"outlinewidth\":0,\"ticks\":\"\"}},\"type\":\"scatter3d\"}],\"scattercarpet\":[{\"marker\":{\"colorbar\":{\"outlinewidth\":0,\"ticks\":\"\"}},\"type\":\"scattercarpet\"}],\"scattergeo\":[{\"marker\":{\"colorbar\":{\"outlinewidth\":0,\"ticks\":\"\"}},\"type\":\"scattergeo\"}],\"scattergl\":[{\"marker\":{\"colorbar\":{\"outlinewidth\":0,\"ticks\":\"\"}},\"type\":\"scattergl\"}],\"scattermapbox\":[{\"marker\":{\"colorbar\":{\"outlinewidth\":0,\"ticks\":\"\"}},\"type\":\"scattermapbox\"}],\"scatterpolar\":[{\"marker\":{\"colorbar\":{\"outlinewidth\":0,\"ticks\":\"\"}},\"type\":\"scatterpolar\"}],\"scatterpolargl\":[{\"marker\":{\"colorbar\":{\"outlinewidth\":0,\"ticks\":\"\"}},\"type\":\"scatterpolargl\"}],\"scatterternary\":[{\"marker\":{\"colorbar\":{\"outlinewidth\":0,\"ticks\":\"\"}},\"type\":\"scatterternary\"}],\"surface\":[{\"colorbar\":{\"outlinewidth\":0,\"ticks\":\"\"},\"colorscale\":[[0.0,\"#0d0887\"],[0.1111111111111111,\"#46039f\"],[0.2222222222222222,\"#7201a8\"],[0.3333333333333333,\"#9c179e\"],[0.4444444444444444,\"#bd3786\"],[0.5555555555555556,\"#d8576b\"],[0.6666666666666666,\"#ed7953\"],[0.7777777777777778,\"#fb9f3a\"],[0.8888888888888888,\"#fdca26\"],[1.0,\"#f0f921\"]],\"type\":\"surface\"}],\"table\":[{\"cells\":{\"fill\":{\"color\":\"#EBF0F8\"},\"line\":{\"color\":\"white\"}},\"header\":{\"fill\":{\"color\":\"#C8D4E3\"},\"line\":{\"color\":\"white\"}},\"type\":\"table\"}]},\"layout\":{\"annotationdefaults\":{\"arrowcolor\":\"#2a3f5f\",\"arrowhead\":0,\"arrowwidth\":1},\"autotypenumbers\":\"strict\",\"coloraxis\":{\"colorbar\":{\"outlinewidth\":0,\"ticks\":\"\"}},\"colorscale\":{\"diverging\":[[0,\"#8e0152\"],[0.1,\"#c51b7d\"],[0.2,\"#de77ae\"],[0.3,\"#f1b6da\"],[0.4,\"#fde0ef\"],[0.5,\"#f7f7f7\"],[0.6,\"#e6f5d0\"],[0.7,\"#b8e186\"],[0.8,\"#7fbc41\"],[0.9,\"#4d9221\"],[1,\"#276419\"]],\"sequential\":[[0.0,\"#0d0887\"],[0.1111111111111111,\"#46039f\"],[0.2222222222222222,\"#7201a8\"],[0.3333333333333333,\"#9c179e\"],[0.4444444444444444,\"#bd3786\"],[0.5555555555555556,\"#d8576b\"],[0.6666666666666666,\"#ed7953\"],[0.7777777777777778,\"#fb9f3a\"],[0.8888888888888888,\"#fdca26\"],[1.0,\"#f0f921\"]],\"sequentialminus\":[[0.0,\"#0d0887\"],[0.1111111111111111,\"#46039f\"],[0.2222222222222222,\"#7201a8\"],[0.3333333333333333,\"#9c179e\"],[0.4444444444444444,\"#bd3786\"],[0.5555555555555556,\"#d8576b\"],[0.6666666666666666,\"#ed7953\"],[0.7777777777777778,\"#fb9f3a\"],[0.8888888888888888,\"#fdca26\"],[1.0,\"#f0f921\"]]},\"colorway\":[\"#636efa\",\"#EF553B\",\"#00cc96\",\"#ab63fa\",\"#FFA15A\",\"#19d3f3\",\"#FF6692\",\"#B6E880\",\"#FF97FF\",\"#FECB52\"],\"font\":{\"color\":\"#2a3f5f\"},\"geo\":{\"bgcolor\":\"white\",\"lakecolor\":\"white\",\"landcolor\":\"#E5ECF6\",\"showlakes\":true,\"showland\":true,\"subunitcolor\":\"white\"},\"hoverlabel\":{\"align\":\"left\"},\"hovermode\":\"closest\",\"mapbox\":{\"style\":\"light\"},\"paper_bgcolor\":\"white\",\"plot_bgcolor\":\"#E5ECF6\",\"polar\":{\"angularaxis\":{\"gridcolor\":\"white\",\"linecolor\":\"white\",\"ticks\":\"\"},\"bgcolor\":\"#E5ECF6\",\"radialaxis\":{\"gridcolor\":\"white\",\"linecolor\":\"white\",\"ticks\":\"\"}},\"scene\":{\"xaxis\":{\"backgroundcolor\":\"#E5ECF6\",\"gridcolor\":\"white\",\"gridwidth\":2,\"linecolor\":\"white\",\"showbackground\":true,\"ticks\":\"\",\"zerolinecolor\":\"white\"},\"yaxis\":{\"backgroundcolor\":\"#E5ECF6\",\"gridcolor\":\"white\",\"gridwidth\":2,\"linecolor\":\"white\",\"showbackground\":true,\"ticks\":\"\",\"zerolinecolor\":\"white\"},\"zaxis\":{\"backgroundcolor\":\"#E5ECF6\",\"gridcolor\":\"white\",\"gridwidth\":2,\"linecolor\":\"white\",\"showbackground\":true,\"ticks\":\"\",\"zerolinecolor\":\"white\"}},\"shapedefaults\":{\"line\":{\"color\":\"#2a3f5f\"}},\"ternary\":{\"aaxis\":{\"gridcolor\":\"white\",\"linecolor\":\"white\",\"ticks\":\"\"},\"baxis\":{\"gridcolor\":\"white\",\"linecolor\":\"white\",\"ticks\":\"\"},\"bgcolor\":\"#E5ECF6\",\"caxis\":{\"gridcolor\":\"white\",\"linecolor\":\"white\",\"ticks\":\"\"}},\"title\":{\"x\":0.05},\"xaxis\":{\"automargin\":true,\"gridcolor\":\"white\",\"linecolor\":\"white\",\"ticks\":\"\",\"title\":{\"standoff\":15},\"zerolinecolor\":\"white\",\"zerolinewidth\":2},\"yaxis\":{\"automargin\":true,\"gridcolor\":\"white\",\"linecolor\":\"white\",\"ticks\":\"\",\"title\":{\"standoff\":15},\"zerolinecolor\":\"white\",\"zerolinewidth\":2}}},\"title\":{\"text\":\"Parallel Coordinate Plot\"}},                        {\"responsive\": true}                    ).then(function(){\n",
       "                            \n",
       "var gd = document.getElementById('656436ee-2f98-456a-81d2-70e63041404f');\n",
       "var x = new MutationObserver(function (mutations, observer) {{\n",
       "        var display = window.getComputedStyle(gd).display;\n",
       "        if (!display || display === 'none') {{\n",
       "            console.log([gd, 'removed!']);\n",
       "            Plotly.purge(gd);\n",
       "            observer.disconnect();\n",
       "        }}\n",
       "}});\n",
       "\n",
       "// Listen for the removal of the full notebook cells\n",
       "var notebookContainer = gd.closest('#notebook-container');\n",
       "if (notebookContainer) {{\n",
       "    x.observe(notebookContainer, {childList: true});\n",
       "}}\n",
       "\n",
       "// Listen for the clearing of the current output cell\n",
       "var outputEl = gd.closest('.output');\n",
       "if (outputEl) {{\n",
       "    x.observe(outputEl, {childList: true});\n",
       "}}\n",
       "\n",
       "                        })                };                });            </script>        </div>"
      ]
     },
     "metadata": {},
     "output_type": "display_data"
    }
   ],
   "source": [
    "plot_parallel_coordinate(study)"
   ]
  }
 ],
 "metadata": {
  "kernelspec": {
   "display_name": "Python 3",
   "language": "python",
   "name": "python3"
  },
  "language_info": {
   "codemirror_mode": {
    "name": "ipython",
    "version": 3
   },
   "file_extension": ".py",
   "mimetype": "text/x-python",
   "name": "python",
   "nbconvert_exporter": "python",
   "pygments_lexer": "ipython3",
   "version": "3.8.10"
  }
 },
 "nbformat": 4,
 "nbformat_minor": 5
}
